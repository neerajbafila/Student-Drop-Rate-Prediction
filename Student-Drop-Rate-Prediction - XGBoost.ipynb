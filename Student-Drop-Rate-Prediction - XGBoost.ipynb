{
 "cells": [
  {
   "cell_type": "code",
   "execution_count": 1,
   "metadata": {},
   "outputs": [],
   "source": [
    "import pandas as pd\n",
    "import numpy as np\n",
    "import datetime\n",
    "import matplotlib.pyplot as plt\n",
    "import seaborn as sns"
   ]
  },
  {
   "cell_type": "code",
   "execution_count": 2,
   "metadata": {},
   "outputs": [],
   "source": [
    "#https://www.kaggle.com/c/mooc-dropout-prediction-17/data"
   ]
  },
  {
   "cell_type": "code",
   "execution_count": 3,
   "metadata": {},
   "outputs": [],
   "source": [
    "data = pd.read_csv('MOOC_Visual.csv', parse_dates=['startdate', 'enddate'])"
   ]
  },
  {
   "cell_type": "code",
   "execution_count": 4,
   "metadata": {},
   "outputs": [
    {
     "name": "stdout",
     "output_type": "stream",
     "text": [
      "<class 'pandas.core.frame.DataFrame'>\n",
      "RangeIndex: 72325 entries, 0 to 72324\n",
      "Data columns (total 25 columns):\n",
      " #   Column            Non-Null Count  Dtype         \n",
      "---  ------            --------------  -----         \n",
      " 0   enrollment_id     72325 non-null  int64         \n",
      " 1   startdate         72325 non-null  datetime64[ns]\n",
      " 2   enddate           72325 non-null  datetime64[ns]\n",
      " 3   access            72325 non-null  int64         \n",
      " 4   discussion        72325 non-null  int64         \n",
      " 5   navigate          72325 non-null  int64         \n",
      " 6   page_close        72325 non-null  int64         \n",
      " 7   problem           72325 non-null  int64         \n",
      " 8   video             72325 non-null  int64         \n",
      " 9   wiki              72325 non-null  int64         \n",
      " 10  proccess_period   72325 non-null  float64       \n",
      " 11  present_days      72325 non-null  int64         \n",
      " 12  effective_time    72325 non-null  float64       \n",
      " 13  Friday            72325 non-null  int64         \n",
      " 14  Monday            72325 non-null  int64         \n",
      " 15  Saturday          72325 non-null  int64         \n",
      " 16  Sunday            72325 non-null  int64         \n",
      " 17  Thursday          72325 non-null  int64         \n",
      " 18  Tuesday           72325 non-null  int64         \n",
      " 19  Wednesday         72325 non-null  int64         \n",
      " 20  holidays          72325 non-null  int64         \n",
      " 21  course_enroll     72325 non-null  int64         \n",
      " 22  user_enroll       72325 non-null  int64         \n",
      " 23  course_drop_rate  72325 non-null  float64       \n",
      " 24  dropout_prob      72325 non-null  int64         \n",
      "dtypes: datetime64[ns](2), float64(3), int64(20)\n",
      "memory usage: 13.8 MB\n"
     ]
    }
   ],
   "source": [
    "data.info()"
   ]
  },
  {
   "cell_type": "code",
   "execution_count": 5,
   "metadata": {},
   "outputs": [
    {
     "data": {
      "text/plain": [
       "enrollment_id       0\n",
       "startdate           0\n",
       "enddate             0\n",
       "access              0\n",
       "discussion          0\n",
       "navigate            0\n",
       "page_close          0\n",
       "problem             0\n",
       "video               0\n",
       "wiki                0\n",
       "proccess_period     0\n",
       "present_days        0\n",
       "effective_time      0\n",
       "Friday              0\n",
       "Monday              0\n",
       "Saturday            0\n",
       "Sunday              0\n",
       "Thursday            0\n",
       "Tuesday             0\n",
       "Wednesday           0\n",
       "holidays            0\n",
       "course_enroll       0\n",
       "user_enroll         0\n",
       "course_drop_rate    0\n",
       "dropout_prob        0\n",
       "dtype: int64"
      ]
     },
     "execution_count": 5,
     "metadata": {},
     "output_type": "execute_result"
    }
   ],
   "source": [
    "data.isnull().sum()"
   ]
  },
  {
   "cell_type": "code",
   "execution_count": 6,
   "metadata": {},
   "outputs": [
    {
     "data": {
      "text/html": [
       "<div>\n",
       "<style scoped>\n",
       "    .dataframe tbody tr th:only-of-type {\n",
       "        vertical-align: middle;\n",
       "    }\n",
       "\n",
       "    .dataframe tbody tr th {\n",
       "        vertical-align: top;\n",
       "    }\n",
       "\n",
       "    .dataframe thead th {\n",
       "        text-align: right;\n",
       "    }\n",
       "</style>\n",
       "<table border=\"1\" class=\"dataframe\">\n",
       "  <thead>\n",
       "    <tr style=\"text-align: right;\">\n",
       "      <th></th>\n",
       "      <th>enrollment_id</th>\n",
       "      <th>access</th>\n",
       "      <th>discussion</th>\n",
       "      <th>navigate</th>\n",
       "      <th>page_close</th>\n",
       "      <th>problem</th>\n",
       "      <th>video</th>\n",
       "      <th>wiki</th>\n",
       "      <th>proccess_period</th>\n",
       "      <th>present_days</th>\n",
       "      <th>...</th>\n",
       "      <th>Saturday</th>\n",
       "      <th>Sunday</th>\n",
       "      <th>Thursday</th>\n",
       "      <th>Tuesday</th>\n",
       "      <th>Wednesday</th>\n",
       "      <th>holidays</th>\n",
       "      <th>course_enroll</th>\n",
       "      <th>user_enroll</th>\n",
       "      <th>course_drop_rate</th>\n",
       "      <th>dropout_prob</th>\n",
       "    </tr>\n",
       "  </thead>\n",
       "  <tbody>\n",
       "    <tr>\n",
       "      <th>count</th>\n",
       "      <td>72325.000000</td>\n",
       "      <td>72325.000000</td>\n",
       "      <td>72325.000000</td>\n",
       "      <td>72325.000000</td>\n",
       "      <td>72325.000000</td>\n",
       "      <td>72325.000000</td>\n",
       "      <td>72325.000000</td>\n",
       "      <td>72325.000000</td>\n",
       "      <td>72325.000000</td>\n",
       "      <td>72325.000000</td>\n",
       "      <td>...</td>\n",
       "      <td>72325.000000</td>\n",
       "      <td>72325.000000</td>\n",
       "      <td>72325.000000</td>\n",
       "      <td>72325.000000</td>\n",
       "      <td>72325.00000</td>\n",
       "      <td>72325.000000</td>\n",
       "      <td>72325.000000</td>\n",
       "      <td>72325.000000</td>\n",
       "      <td>72325.000000</td>\n",
       "      <td>72325.000000</td>\n",
       "    </tr>\n",
       "    <tr>\n",
       "      <th>mean</th>\n",
       "      <td>36163.000000</td>\n",
       "      <td>25.707045</td>\n",
       "      <td>5.247992</td>\n",
       "      <td>8.330052</td>\n",
       "      <td>10.182966</td>\n",
       "      <td>10.446429</td>\n",
       "      <td>6.566678</td>\n",
       "      <td>0.741652</td>\n",
       "      <td>5.790234</td>\n",
       "      <td>2.662067</td>\n",
       "      <td>...</td>\n",
       "      <td>0.328033</td>\n",
       "      <td>0.343173</td>\n",
       "      <td>0.394940</td>\n",
       "      <td>0.409139</td>\n",
       "      <td>0.39870</td>\n",
       "      <td>0.095099</td>\n",
       "      <td>5618.856772</td>\n",
       "      <td>2.460242</td>\n",
       "      <td>0.793640</td>\n",
       "      <td>0.793640</td>\n",
       "    </tr>\n",
       "    <tr>\n",
       "      <th>std</th>\n",
       "      <td>20878.573447</td>\n",
       "      <td>54.679282</td>\n",
       "      <td>28.351693</td>\n",
       "      <td>12.641069</td>\n",
       "      <td>20.552585</td>\n",
       "      <td>34.335217</td>\n",
       "      <td>14.662946</td>\n",
       "      <td>3.503804</td>\n",
       "      <td>8.966359</td>\n",
       "      <td>3.093727</td>\n",
       "      <td>...</td>\n",
       "      <td>0.627570</td>\n",
       "      <td>0.649591</td>\n",
       "      <td>0.693014</td>\n",
       "      <td>0.711455</td>\n",
       "      <td>0.68801</td>\n",
       "      <td>0.293918</td>\n",
       "      <td>3686.987244</td>\n",
       "      <td>2.381182</td>\n",
       "      <td>0.066570</td>\n",
       "      <td>0.404695</td>\n",
       "    </tr>\n",
       "    <tr>\n",
       "      <th>min</th>\n",
       "      <td>1.000000</td>\n",
       "      <td>0.000000</td>\n",
       "      <td>0.000000</td>\n",
       "      <td>0.000000</td>\n",
       "      <td>0.000000</td>\n",
       "      <td>0.000000</td>\n",
       "      <td>0.000000</td>\n",
       "      <td>0.000000</td>\n",
       "      <td>0.000000</td>\n",
       "      <td>1.000000</td>\n",
       "      <td>...</td>\n",
       "      <td>0.000000</td>\n",
       "      <td>0.000000</td>\n",
       "      <td>0.000000</td>\n",
       "      <td>0.000000</td>\n",
       "      <td>0.00000</td>\n",
       "      <td>0.000000</td>\n",
       "      <td>645.000000</td>\n",
       "      <td>1.000000</td>\n",
       "      <td>0.666866</td>\n",
       "      <td>0.000000</td>\n",
       "    </tr>\n",
       "    <tr>\n",
       "      <th>25%</th>\n",
       "      <td>18082.000000</td>\n",
       "      <td>1.000000</td>\n",
       "      <td>0.000000</td>\n",
       "      <td>2.000000</td>\n",
       "      <td>0.000000</td>\n",
       "      <td>0.000000</td>\n",
       "      <td>0.000000</td>\n",
       "      <td>0.000000</td>\n",
       "      <td>0.001204</td>\n",
       "      <td>1.000000</td>\n",
       "      <td>...</td>\n",
       "      <td>0.000000</td>\n",
       "      <td>0.000000</td>\n",
       "      <td>0.000000</td>\n",
       "      <td>0.000000</td>\n",
       "      <td>0.00000</td>\n",
       "      <td>0.000000</td>\n",
       "      <td>2151.000000</td>\n",
       "      <td>1.000000</td>\n",
       "      <td>0.763524</td>\n",
       "      <td>1.000000</td>\n",
       "    </tr>\n",
       "    <tr>\n",
       "      <th>50%</th>\n",
       "      <td>36163.000000</td>\n",
       "      <td>6.000000</td>\n",
       "      <td>0.000000</td>\n",
       "      <td>4.000000</td>\n",
       "      <td>2.000000</td>\n",
       "      <td>0.000000</td>\n",
       "      <td>1.000000</td>\n",
       "      <td>0.000000</td>\n",
       "      <td>0.045914</td>\n",
       "      <td>1.000000</td>\n",
       "      <td>...</td>\n",
       "      <td>0.000000</td>\n",
       "      <td>0.000000</td>\n",
       "      <td>0.000000</td>\n",
       "      <td>0.000000</td>\n",
       "      <td>0.00000</td>\n",
       "      <td>0.000000</td>\n",
       "      <td>4684.000000</td>\n",
       "      <td>2.000000</td>\n",
       "      <td>0.799671</td>\n",
       "      <td>1.000000</td>\n",
       "    </tr>\n",
       "    <tr>\n",
       "      <th>75%</th>\n",
       "      <td>54244.000000</td>\n",
       "      <td>26.000000</td>\n",
       "      <td>2.000000</td>\n",
       "      <td>10.000000</td>\n",
       "      <td>9.000000</td>\n",
       "      <td>6.000000</td>\n",
       "      <td>6.000000</td>\n",
       "      <td>1.000000</td>\n",
       "      <td>9.932766</td>\n",
       "      <td>3.000000</td>\n",
       "      <td>...</td>\n",
       "      <td>1.000000</td>\n",
       "      <td>1.000000</td>\n",
       "      <td>1.000000</td>\n",
       "      <td>1.000000</td>\n",
       "      <td>1.00000</td>\n",
       "      <td>0.000000</td>\n",
       "      <td>9382.000000</td>\n",
       "      <td>3.000000</td>\n",
       "      <td>0.836914</td>\n",
       "      <td>1.000000</td>\n",
       "    </tr>\n",
       "    <tr>\n",
       "      <th>max</th>\n",
       "      <td>72325.000000</td>\n",
       "      <td>3659.000000</td>\n",
       "      <td>1930.000000</td>\n",
       "      <td>409.000000</td>\n",
       "      <td>413.000000</td>\n",
       "      <td>1014.000000</td>\n",
       "      <td>536.000000</td>\n",
       "      <td>243.000000</td>\n",
       "      <td>29.987014</td>\n",
       "      <td>30.000000</td>\n",
       "      <td>...</td>\n",
       "      <td>5.000000</td>\n",
       "      <td>5.000000</td>\n",
       "      <td>5.000000</td>\n",
       "      <td>5.000000</td>\n",
       "      <td>5.00000</td>\n",
       "      <td>2.000000</td>\n",
       "      <td>12004.000000</td>\n",
       "      <td>27.000000</td>\n",
       "      <td>0.938356</td>\n",
       "      <td>1.000000</td>\n",
       "    </tr>\n",
       "  </tbody>\n",
       "</table>\n",
       "<p>8 rows × 23 columns</p>\n",
       "</div>"
      ],
      "text/plain": [
       "       enrollment_id        access    discussion      navigate    page_close  \\\n",
       "count   72325.000000  72325.000000  72325.000000  72325.000000  72325.000000   \n",
       "mean    36163.000000     25.707045      5.247992      8.330052     10.182966   \n",
       "std     20878.573447     54.679282     28.351693     12.641069     20.552585   \n",
       "min         1.000000      0.000000      0.000000      0.000000      0.000000   \n",
       "25%     18082.000000      1.000000      0.000000      2.000000      0.000000   \n",
       "50%     36163.000000      6.000000      0.000000      4.000000      2.000000   \n",
       "75%     54244.000000     26.000000      2.000000     10.000000      9.000000   \n",
       "max     72325.000000   3659.000000   1930.000000    409.000000    413.000000   \n",
       "\n",
       "            problem         video          wiki  proccess_period  \\\n",
       "count  72325.000000  72325.000000  72325.000000     72325.000000   \n",
       "mean      10.446429      6.566678      0.741652         5.790234   \n",
       "std       34.335217     14.662946      3.503804         8.966359   \n",
       "min        0.000000      0.000000      0.000000         0.000000   \n",
       "25%        0.000000      0.000000      0.000000         0.001204   \n",
       "50%        0.000000      1.000000      0.000000         0.045914   \n",
       "75%        6.000000      6.000000      1.000000         9.932766   \n",
       "max     1014.000000    536.000000    243.000000        29.987014   \n",
       "\n",
       "       present_days  ...      Saturday        Sunday      Thursday  \\\n",
       "count  72325.000000  ...  72325.000000  72325.000000  72325.000000   \n",
       "mean       2.662067  ...      0.328033      0.343173      0.394940   \n",
       "std        3.093727  ...      0.627570      0.649591      0.693014   \n",
       "min        1.000000  ...      0.000000      0.000000      0.000000   \n",
       "25%        1.000000  ...      0.000000      0.000000      0.000000   \n",
       "50%        1.000000  ...      0.000000      0.000000      0.000000   \n",
       "75%        3.000000  ...      1.000000      1.000000      1.000000   \n",
       "max       30.000000  ...      5.000000      5.000000      5.000000   \n",
       "\n",
       "            Tuesday    Wednesday      holidays  course_enroll   user_enroll  \\\n",
       "count  72325.000000  72325.00000  72325.000000   72325.000000  72325.000000   \n",
       "mean       0.409139      0.39870      0.095099    5618.856772      2.460242   \n",
       "std        0.711455      0.68801      0.293918    3686.987244      2.381182   \n",
       "min        0.000000      0.00000      0.000000     645.000000      1.000000   \n",
       "25%        0.000000      0.00000      0.000000    2151.000000      1.000000   \n",
       "50%        0.000000      0.00000      0.000000    4684.000000      2.000000   \n",
       "75%        1.000000      1.00000      0.000000    9382.000000      3.000000   \n",
       "max        5.000000      5.00000      2.000000   12004.000000     27.000000   \n",
       "\n",
       "       course_drop_rate  dropout_prob  \n",
       "count      72325.000000  72325.000000  \n",
       "mean           0.793640      0.793640  \n",
       "std            0.066570      0.404695  \n",
       "min            0.666866      0.000000  \n",
       "25%            0.763524      1.000000  \n",
       "50%            0.799671      1.000000  \n",
       "75%            0.836914      1.000000  \n",
       "max            0.938356      1.000000  \n",
       "\n",
       "[8 rows x 23 columns]"
      ]
     },
     "execution_count": 6,
     "metadata": {},
     "output_type": "execute_result"
    }
   ],
   "source": [
    "data.describe()"
   ]
  },
  {
   "cell_type": "code",
   "execution_count": 7,
   "metadata": {},
   "outputs": [
    {
     "data": {
      "text/html": [
       "<div>\n",
       "<style scoped>\n",
       "    .dataframe tbody tr th:only-of-type {\n",
       "        vertical-align: middle;\n",
       "    }\n",
       "\n",
       "    .dataframe tbody tr th {\n",
       "        vertical-align: top;\n",
       "    }\n",
       "\n",
       "    .dataframe thead th {\n",
       "        text-align: right;\n",
       "    }\n",
       "</style>\n",
       "<table border=\"1\" class=\"dataframe\">\n",
       "  <thead>\n",
       "    <tr style=\"text-align: right;\">\n",
       "      <th></th>\n",
       "      <th>enrollment_id</th>\n",
       "      <th>startdate</th>\n",
       "      <th>enddate</th>\n",
       "      <th>access</th>\n",
       "      <th>discussion</th>\n",
       "      <th>navigate</th>\n",
       "      <th>page_close</th>\n",
       "      <th>problem</th>\n",
       "      <th>video</th>\n",
       "      <th>wiki</th>\n",
       "      <th>...</th>\n",
       "      <th>Saturday</th>\n",
       "      <th>Sunday</th>\n",
       "      <th>Thursday</th>\n",
       "      <th>Tuesday</th>\n",
       "      <th>Wednesday</th>\n",
       "      <th>holidays</th>\n",
       "      <th>course_enroll</th>\n",
       "      <th>user_enroll</th>\n",
       "      <th>course_drop_rate</th>\n",
       "      <th>dropout_prob</th>\n",
       "    </tr>\n",
       "  </thead>\n",
       "  <tbody>\n",
       "    <tr>\n",
       "      <th>0</th>\n",
       "      <td>1</td>\n",
       "      <td>2014-05-31</td>\n",
       "      <td>2014-06-01</td>\n",
       "      <td>27</td>\n",
       "      <td>0</td>\n",
       "      <td>8</td>\n",
       "      <td>0</td>\n",
       "      <td>79</td>\n",
       "      <td>0</td>\n",
       "      <td>0</td>\n",
       "      <td>...</td>\n",
       "      <td>1</td>\n",
       "      <td>1</td>\n",
       "      <td>0</td>\n",
       "      <td>0</td>\n",
       "      <td>0</td>\n",
       "      <td>0</td>\n",
       "      <td>4684</td>\n",
       "      <td>1</td>\n",
       "      <td>0.826534</td>\n",
       "      <td>1</td>\n",
       "    </tr>\n",
       "    <tr>\n",
       "      <th>1</th>\n",
       "      <td>2</td>\n",
       "      <td>2014-06-04</td>\n",
       "      <td>2014-06-04</td>\n",
       "      <td>7</td>\n",
       "      <td>4</td>\n",
       "      <td>3</td>\n",
       "      <td>4</td>\n",
       "      <td>0</td>\n",
       "      <td>3</td>\n",
       "      <td>1</td>\n",
       "      <td>...</td>\n",
       "      <td>0</td>\n",
       "      <td>0</td>\n",
       "      <td>0</td>\n",
       "      <td>0</td>\n",
       "      <td>1</td>\n",
       "      <td>0</td>\n",
       "      <td>7775</td>\n",
       "      <td>1</td>\n",
       "      <td>0.836914</td>\n",
       "      <td>1</td>\n",
       "    </tr>\n",
       "    <tr>\n",
       "      <th>2</th>\n",
       "      <td>3</td>\n",
       "      <td>2014-06-04</td>\n",
       "      <td>2014-06-08</td>\n",
       "      <td>34</td>\n",
       "      <td>1</td>\n",
       "      <td>6</td>\n",
       "      <td>7</td>\n",
       "      <td>0</td>\n",
       "      <td>9</td>\n",
       "      <td>0</td>\n",
       "      <td>...</td>\n",
       "      <td>1</td>\n",
       "      <td>1</td>\n",
       "      <td>1</td>\n",
       "      <td>0</td>\n",
       "      <td>1</td>\n",
       "      <td>0</td>\n",
       "      <td>3005</td>\n",
       "      <td>2</td>\n",
       "      <td>0.868481</td>\n",
       "      <td>0</td>\n",
       "    </tr>\n",
       "    <tr>\n",
       "      <th>3</th>\n",
       "      <td>4</td>\n",
       "      <td>2014-06-12</td>\n",
       "      <td>2014-06-13</td>\n",
       "      <td>54</td>\n",
       "      <td>4</td>\n",
       "      <td>6</td>\n",
       "      <td>46</td>\n",
       "      <td>21</td>\n",
       "      <td>31</td>\n",
       "      <td>1</td>\n",
       "      <td>...</td>\n",
       "      <td>0</td>\n",
       "      <td>0</td>\n",
       "      <td>1</td>\n",
       "      <td>0</td>\n",
       "      <td>0</td>\n",
       "      <td>0</td>\n",
       "      <td>2981</td>\n",
       "      <td>2</td>\n",
       "      <td>0.799671</td>\n",
       "      <td>1</td>\n",
       "    </tr>\n",
       "    <tr>\n",
       "      <th>4</th>\n",
       "      <td>5</td>\n",
       "      <td>2014-07-01</td>\n",
       "      <td>2014-07-01</td>\n",
       "      <td>0</td>\n",
       "      <td>0</td>\n",
       "      <td>2</td>\n",
       "      <td>0</td>\n",
       "      <td>0</td>\n",
       "      <td>0</td>\n",
       "      <td>0</td>\n",
       "      <td>...</td>\n",
       "      <td>0</td>\n",
       "      <td>0</td>\n",
       "      <td>0</td>\n",
       "      <td>1</td>\n",
       "      <td>0</td>\n",
       "      <td>0</td>\n",
       "      <td>10322</td>\n",
       "      <td>1</td>\n",
       "      <td>0.695925</td>\n",
       "      <td>1</td>\n",
       "    </tr>\n",
       "  </tbody>\n",
       "</table>\n",
       "<p>5 rows × 25 columns</p>\n",
       "</div>"
      ],
      "text/plain": [
       "   enrollment_id  startdate    enddate  access  discussion  navigate  \\\n",
       "0              1 2014-05-31 2014-06-01      27           0         8   \n",
       "1              2 2014-06-04 2014-06-04       7           4         3   \n",
       "2              3 2014-06-04 2014-06-08      34           1         6   \n",
       "3              4 2014-06-12 2014-06-13      54           4         6   \n",
       "4              5 2014-07-01 2014-07-01       0           0         2   \n",
       "\n",
       "   page_close  problem  video  wiki  ...  Saturday  Sunday  Thursday  Tuesday  \\\n",
       "0           0       79      0     0  ...         1       1         0        0   \n",
       "1           4        0      3     1  ...         0       0         0        0   \n",
       "2           7        0      9     0  ...         1       1         1        0   \n",
       "3          46       21     31     1  ...         0       0         1        0   \n",
       "4           0        0      0     0  ...         0       0         0        1   \n",
       "\n",
       "   Wednesday  holidays  course_enroll  user_enroll  course_drop_rate  \\\n",
       "0          0         0           4684            1          0.826534   \n",
       "1          1         0           7775            1          0.836914   \n",
       "2          1         0           3005            2          0.868481   \n",
       "3          0         0           2981            2          0.799671   \n",
       "4          0         0          10322            1          0.695925   \n",
       "\n",
       "   dropout_prob  \n",
       "0             1  \n",
       "1             1  \n",
       "2             0  \n",
       "3             1  \n",
       "4             1  \n",
       "\n",
       "[5 rows x 25 columns]"
      ]
     },
     "execution_count": 7,
     "metadata": {},
     "output_type": "execute_result"
    }
   ],
   "source": [
    "data.head()"
   ]
  },
  {
   "cell_type": "code",
   "execution_count": 8,
   "metadata": {},
   "outputs": [
    {
     "data": {
      "text/plain": [
       "1    57400\n",
       "0    14925\n",
       "Name: dropout_prob, dtype: int64"
      ]
     },
     "execution_count": 8,
     "metadata": {},
     "output_type": "execute_result"
    }
   ],
   "source": [
    "data['dropout_prob'].value_counts()"
   ]
  },
  {
   "cell_type": "markdown",
   "metadata": {},
   "source": [
    "#seems dataset is not balance"
   ]
  },
  {
   "cell_type": "code",
   "execution_count": 9,
   "metadata": {},
   "outputs": [
    {
     "data": {
      "text/plain": [
       "(array([7.21e+04, 2.14e+02, 4.00e+00, 5.00e+00, 0.00e+00, 0.00e+00,\n",
       "        0.00e+00, 0.00e+00, 0.00e+00, 2.00e+00]),\n",
       " array([   0. ,  365.9,  731.8, 1097.7, 1463.6, 1829.5, 2195.4, 2561.3,\n",
       "        2927.2, 3293.1, 3659. ]),\n",
       " <a list of 10 Patch objects>)"
      ]
     },
     "execution_count": 9,
     "metadata": {},
     "output_type": "execute_result"
    },
    {
     "data": {
      "image/png": "[encoded data removed]",
      "text/plain": [
       "<Figure size 432x288 with 1 Axes>"
      ]
     },
     "metadata": {
      "needs_background": "light"
     },
     "output_type": "display_data"
    }
   ],
   "source": [
    "plt.hist(data['access'])"
   ]
  },
  {
   "cell_type": "code",
   "execution_count": 10,
   "metadata": {},
   "outputs": [
    {
     "data": {
      "text/plain": [
       "0       17485\n",
       "2        6397\n",
       "3        4002\n",
       "4        3117\n",
       "5        2803\n",
       "        ...  \n",
       "3659        1\n",
       "416         1\n",
       "1438        1\n",
       "669         1\n",
       "447         1\n",
       "Name: access, Length: 511, dtype: int64"
      ]
     },
     "execution_count": 10,
     "metadata": {},
     "output_type": "execute_result"
    }
   ],
   "source": [
    "data['access'].value_counts()"
   ]
  },
  {
   "cell_type": "code",
   "execution_count": 11,
   "metadata": {},
   "outputs": [
    {
     "data": {
      "text/plain": [
       "<matplotlib.axes._subplots.AxesSubplot at 0x1d10487f280>"
      ]
     },
     "execution_count": 11,
     "metadata": {},
     "output_type": "execute_result"
    },
    {
     "data": {
      "image/png": "[encoded data removed]",
      "text/plain": [
       "<Figure size 432x288 with 1 Axes>"
      ]
     },
     "metadata": {
      "needs_background": "light"
     },
     "output_type": "display_data"
    }
   ],
   "source": [
    "sns.kdeplot(data['access'], color='b', shade=True)"
   ]
  },
  {
   "cell_type": "code",
   "execution_count": 12,
   "metadata": {},
   "outputs": [
    {
     "data": {
      "text/plain": [
       "<matplotlib.axes._subplots.AxesSubplot at 0x1d1049190a0>"
      ]
     },
     "execution_count": 12,
     "metadata": {},
     "output_type": "execute_result"
    },
    {
     "data": {
      "image/png": "[encoded data removed]",
      "text/plain": [
       "<Figure size 432x288 with 1 Axes>"
      ]
     },
     "metadata": {
      "needs_background": "light"
     },
     "output_type": "display_data"
    }
   ],
   "source": [
    "sns.distplot(data['access'], color='b', kde=True)"
   ]
  },
  {
   "cell_type": "code",
   "execution_count": 13,
   "metadata": {},
   "outputs": [
    {
     "data": {
      "text/plain": [
       "<matplotlib.axes._subplots.AxesSubplot at 0x1d1049fd610>"
      ]
     },
     "execution_count": 13,
     "metadata": {},
     "output_type": "execute_result"
    },
    {
     "data": {
      "image/png": "[encoded data removed]",
      "text/plain": [
       "<Figure size 432x288 with 1 Axes>"
      ]
     },
     "metadata": {
      "needs_background": "light"
     },
     "output_type": "display_data"
    }
   ],
   "source": [
    "sns.distplot(data['wiki'], color='b', kde=True)"
   ]
  },
  {
   "cell_type": "code",
   "execution_count": 14,
   "metadata": {},
   "outputs": [
    {
     "data": {
      "text/plain": [
       "0      53589\n",
       "1      10299\n",
       "2       3575\n",
       "3       1707\n",
       "4        937\n",
       "       ...  \n",
       "52         1\n",
       "243        1\n",
       "175        1\n",
       "113        1\n",
       "127        1\n",
       "Name: wiki, Length: 84, dtype: int64"
      ]
     },
     "execution_count": 14,
     "metadata": {},
     "output_type": "execute_result"
    }
   ],
   "source": [
    "data['wiki'].value_counts()"
   ]
  },
  {
   "cell_type": "code",
   "execution_count": 15,
   "metadata": {},
   "outputs": [],
   "source": [
    "col = data.columns"
   ]
  },
  {
   "cell_type": "code",
   "execution_count": 16,
   "metadata": {},
   "outputs": [
    {
     "data": {
      "text/plain": [
       "25"
      ]
     },
     "execution_count": 16,
     "metadata": {},
     "output_type": "execute_result"
    }
   ],
   "source": [
    "col.size"
   ]
  },
  {
   "cell_type": "code",
   "execution_count": 17,
   "metadata": {},
   "outputs": [
    {
     "data": {
      "text/plain": [
       "Index(['enrollment_id', 'startdate', 'enddate', 'access', 'discussion',\n",
       "       'navigate', 'page_close', 'problem', 'video', 'wiki', 'proccess_period',\n",
       "       'present_days', 'effective_time', 'Friday', 'Monday', 'Saturday',\n",
       "       'Sunday', 'Thursday', 'Tuesday', 'Wednesday', 'holidays',\n",
       "       'course_enroll', 'user_enroll', 'course_drop_rate', 'dropout_prob'],\n",
       "      dtype='object')"
      ]
     },
     "execution_count": 17,
     "metadata": {},
     "output_type": "execute_result"
    }
   ],
   "source": [
    "col"
   ]
  },
  {
   "cell_type": "code",
   "execution_count": 18,
   "metadata": {},
   "outputs": [
    {
     "name": "stderr",
     "output_type": "stream",
     "text": [
      "C:\\ProgramData\\Anaconda3\\lib\\site-packages\\seaborn\\distributions.py:369: UserWarning: Default bandwidth for data is 0; skipping density estimation.\n",
      "  warnings.warn(msg, UserWarning)\n",
      "C:\\ProgramData\\Anaconda3\\lib\\site-packages\\seaborn\\distributions.py:369: UserWarning: Default bandwidth for data is 0; skipping density estimation.\n",
      "  warnings.warn(msg, UserWarning)\n"
     ]
    },
    {
     "data": {
      "image/png": "[encoded data removed]",
      "text/plain": [
       "<Figure size 1800x2160 with 25 Axes>"
      ]
     },
     "metadata": {
      "needs_background": "light"
     },
     "output_type": "display_data"
    }
   ],
   "source": [
    "plt.figure(figsize=(25,30))\n",
    "plotno=1\n",
    "\n",
    "for i in col:\n",
    "    plt.subplot(13,2,plotno)\n",
    "    sns.distplot(data[i])\n",
    "    plotno +=1\n",
    "    plt.tight_layout()\n"
   ]
  },
  {
   "cell_type": "code",
   "execution_count": 19,
   "metadata": {},
   "outputs": [
    {
     "data": {
      "text/plain": [
       "(57400, 25)"
      ]
     },
     "execution_count": 19,
     "metadata": {},
     "output_type": "execute_result"
    }
   ],
   "source": [
    "data[data['dropout_prob']==1].shape"
   ]
  },
  {
   "cell_type": "code",
   "execution_count": 20,
   "metadata": {},
   "outputs": [
    {
     "data": {
      "text/plain": [
       "(14925, 25)"
      ]
     },
     "execution_count": 20,
     "metadata": {},
     "output_type": "execute_result"
    }
   ],
   "source": [
    "data[data['dropout_prob']==0].shape"
   ]
  },
  {
   "cell_type": "code",
   "execution_count": 21,
   "metadata": {},
   "outputs": [],
   "source": [
    "dropout_prob_majority = data[data['dropout_prob']==1]"
   ]
  },
  {
   "cell_type": "code",
   "execution_count": 22,
   "metadata": {},
   "outputs": [
    {
     "data": {
      "text/plain": [
       "(57400, 25)"
      ]
     },
     "execution_count": 22,
     "metadata": {},
     "output_type": "execute_result"
    }
   ],
   "source": [
    "dropout_prob_majority.shape"
   ]
  },
  {
   "cell_type": "code",
   "execution_count": 23,
   "metadata": {},
   "outputs": [],
   "source": [
    "dropout_prob_minority = data[data['dropout_prob']==0]"
   ]
  },
  {
   "cell_type": "code",
   "execution_count": 24,
   "metadata": {},
   "outputs": [
    {
     "data": {
      "text/plain": [
       "(14925, 25)"
      ]
     },
     "execution_count": 24,
     "metadata": {},
     "output_type": "execute_result"
    }
   ],
   "source": [
    "dropout_prob_minority.shape"
   ]
  },
  {
   "cell_type": "markdown",
   "metadata": {},
   "source": [
    "# balancing Data set using upsampling"
   ]
  },
  {
   "cell_type": "code",
   "execution_count": 25,
   "metadata": {},
   "outputs": [],
   "source": [
    "from sklearn.utils import resample"
   ]
  },
  {
   "cell_type": "code",
   "execution_count": 26,
   "metadata": {},
   "outputs": [],
   "source": [
    "dropout_prob_minority_balanced = resample(dropout_prob_minority, replace=True, n_samples=dropout_prob_majority.shape[0])"
   ]
  },
  {
   "cell_type": "code",
   "execution_count": 27,
   "metadata": {},
   "outputs": [
    {
     "data": {
      "text/html": [
       "<div>\n",
       "<style scoped>\n",
       "    .dataframe tbody tr th:only-of-type {\n",
       "        vertical-align: middle;\n",
       "    }\n",
       "\n",
       "    .dataframe tbody tr th {\n",
       "        vertical-align: top;\n",
       "    }\n",
       "\n",
       "    .dataframe thead th {\n",
       "        text-align: right;\n",
       "    }\n",
       "</style>\n",
       "<table border=\"1\" class=\"dataframe\">\n",
       "  <thead>\n",
       "    <tr style=\"text-align: right;\">\n",
       "      <th></th>\n",
       "      <th>enrollment_id</th>\n",
       "      <th>startdate</th>\n",
       "      <th>enddate</th>\n",
       "      <th>access</th>\n",
       "      <th>discussion</th>\n",
       "      <th>navigate</th>\n",
       "      <th>page_close</th>\n",
       "      <th>problem</th>\n",
       "      <th>video</th>\n",
       "      <th>wiki</th>\n",
       "      <th>...</th>\n",
       "      <th>Saturday</th>\n",
       "      <th>Sunday</th>\n",
       "      <th>Thursday</th>\n",
       "      <th>Tuesday</th>\n",
       "      <th>Wednesday</th>\n",
       "      <th>holidays</th>\n",
       "      <th>course_enroll</th>\n",
       "      <th>user_enroll</th>\n",
       "      <th>course_drop_rate</th>\n",
       "      <th>dropout_prob</th>\n",
       "    </tr>\n",
       "  </thead>\n",
       "  <tbody>\n",
       "    <tr>\n",
       "      <th>5025</th>\n",
       "      <td>5026</td>\n",
       "      <td>2014-06-12</td>\n",
       "      <td>2014-06-12</td>\n",
       "      <td>0</td>\n",
       "      <td>0</td>\n",
       "      <td>3</td>\n",
       "      <td>0</td>\n",
       "      <td>0</td>\n",
       "      <td>0</td>\n",
       "      <td>0</td>\n",
       "      <td>...</td>\n",
       "      <td>0</td>\n",
       "      <td>0</td>\n",
       "      <td>1</td>\n",
       "      <td>0</td>\n",
       "      <td>0</td>\n",
       "      <td>0</td>\n",
       "      <td>8223</td>\n",
       "      <td>1</td>\n",
       "      <td>0.767759</td>\n",
       "      <td>0</td>\n",
       "    </tr>\n",
       "    <tr>\n",
       "      <th>70240</th>\n",
       "      <td>70241</td>\n",
       "      <td>2014-06-16</td>\n",
       "      <td>2014-06-23</td>\n",
       "      <td>195</td>\n",
       "      <td>10</td>\n",
       "      <td>43</td>\n",
       "      <td>57</td>\n",
       "      <td>59</td>\n",
       "      <td>7</td>\n",
       "      <td>5</td>\n",
       "      <td>...</td>\n",
       "      <td>1</td>\n",
       "      <td>1</td>\n",
       "      <td>1</td>\n",
       "      <td>1</td>\n",
       "      <td>1</td>\n",
       "      <td>0</td>\n",
       "      <td>5890</td>\n",
       "      <td>2</td>\n",
       "      <td>0.728608</td>\n",
       "      <td>0</td>\n",
       "    </tr>\n",
       "    <tr>\n",
       "      <th>41950</th>\n",
       "      <td>41951</td>\n",
       "      <td>2014-06-11</td>\n",
       "      <td>2014-06-25</td>\n",
       "      <td>133</td>\n",
       "      <td>25</td>\n",
       "      <td>44</td>\n",
       "      <td>2</td>\n",
       "      <td>67</td>\n",
       "      <td>3</td>\n",
       "      <td>2</td>\n",
       "      <td>...</td>\n",
       "      <td>0</td>\n",
       "      <td>0</td>\n",
       "      <td>2</td>\n",
       "      <td>0</td>\n",
       "      <td>2</td>\n",
       "      <td>0</td>\n",
       "      <td>8223</td>\n",
       "      <td>1</td>\n",
       "      <td>0.767759</td>\n",
       "      <td>0</td>\n",
       "    </tr>\n",
       "    <tr>\n",
       "      <th>569</th>\n",
       "      <td>570</td>\n",
       "      <td>2014-05-28</td>\n",
       "      <td>2014-06-19</td>\n",
       "      <td>67</td>\n",
       "      <td>2</td>\n",
       "      <td>23</td>\n",
       "      <td>49</td>\n",
       "      <td>44</td>\n",
       "      <td>10</td>\n",
       "      <td>5</td>\n",
       "      <td>...</td>\n",
       "      <td>0</td>\n",
       "      <td>0</td>\n",
       "      <td>1</td>\n",
       "      <td>0</td>\n",
       "      <td>1</td>\n",
       "      <td>0</td>\n",
       "      <td>8223</td>\n",
       "      <td>1</td>\n",
       "      <td>0.767759</td>\n",
       "      <td>0</td>\n",
       "    </tr>\n",
       "    <tr>\n",
       "      <th>70924</th>\n",
       "      <td>70925</td>\n",
       "      <td>2013-11-13</td>\n",
       "      <td>2013-12-10</td>\n",
       "      <td>169</td>\n",
       "      <td>54</td>\n",
       "      <td>29</td>\n",
       "      <td>92</td>\n",
       "      <td>37</td>\n",
       "      <td>34</td>\n",
       "      <td>2</td>\n",
       "      <td>...</td>\n",
       "      <td>2</td>\n",
       "      <td>1</td>\n",
       "      <td>1</td>\n",
       "      <td>3</td>\n",
       "      <td>1</td>\n",
       "      <td>0</td>\n",
       "      <td>9382</td>\n",
       "      <td>1</td>\n",
       "      <td>0.692294</td>\n",
       "      <td>0</td>\n",
       "    </tr>\n",
       "    <tr>\n",
       "      <th>...</th>\n",
       "      <td>...</td>\n",
       "      <td>...</td>\n",
       "      <td>...</td>\n",
       "      <td>...</td>\n",
       "      <td>...</td>\n",
       "      <td>...</td>\n",
       "      <td>...</td>\n",
       "      <td>...</td>\n",
       "      <td>...</td>\n",
       "      <td>...</td>\n",
       "      <td>...</td>\n",
       "      <td>...</td>\n",
       "      <td>...</td>\n",
       "      <td>...</td>\n",
       "      <td>...</td>\n",
       "      <td>...</td>\n",
       "      <td>...</td>\n",
       "      <td>...</td>\n",
       "      <td>...</td>\n",
       "      <td>...</td>\n",
       "      <td>...</td>\n",
       "    </tr>\n",
       "    <tr>\n",
       "      <th>53195</th>\n",
       "      <td>53196</td>\n",
       "      <td>2014-05-26</td>\n",
       "      <td>2014-06-13</td>\n",
       "      <td>107</td>\n",
       "      <td>25</td>\n",
       "      <td>14</td>\n",
       "      <td>4</td>\n",
       "      <td>16</td>\n",
       "      <td>0</td>\n",
       "      <td>0</td>\n",
       "      <td>...</td>\n",
       "      <td>1</td>\n",
       "      <td>2</td>\n",
       "      <td>0</td>\n",
       "      <td>0</td>\n",
       "      <td>0</td>\n",
       "      <td>1</td>\n",
       "      <td>2796</td>\n",
       "      <td>1</td>\n",
       "      <td>0.666866</td>\n",
       "      <td>0</td>\n",
       "    </tr>\n",
       "    <tr>\n",
       "      <th>12627</th>\n",
       "      <td>12628</td>\n",
       "      <td>2013-12-02</td>\n",
       "      <td>2013-12-31</td>\n",
       "      <td>408</td>\n",
       "      <td>11</td>\n",
       "      <td>78</td>\n",
       "      <td>128</td>\n",
       "      <td>696</td>\n",
       "      <td>118</td>\n",
       "      <td>2</td>\n",
       "      <td>...</td>\n",
       "      <td>2</td>\n",
       "      <td>3</td>\n",
       "      <td>3</td>\n",
       "      <td>4</td>\n",
       "      <td>1</td>\n",
       "      <td>0</td>\n",
       "      <td>1933</td>\n",
       "      <td>3</td>\n",
       "      <td>0.843426</td>\n",
       "      <td>0</td>\n",
       "    </tr>\n",
       "    <tr>\n",
       "      <th>64676</th>\n",
       "      <td>64677</td>\n",
       "      <td>2014-07-12</td>\n",
       "      <td>2014-07-27</td>\n",
       "      <td>0</td>\n",
       "      <td>0</td>\n",
       "      <td>2</td>\n",
       "      <td>0</td>\n",
       "      <td>0</td>\n",
       "      <td>0</td>\n",
       "      <td>0</td>\n",
       "      <td>...</td>\n",
       "      <td>1</td>\n",
       "      <td>1</td>\n",
       "      <td>0</td>\n",
       "      <td>0</td>\n",
       "      <td>0</td>\n",
       "      <td>0</td>\n",
       "      <td>1471</td>\n",
       "      <td>1</td>\n",
       "      <td>0.919355</td>\n",
       "      <td>0</td>\n",
       "    </tr>\n",
       "    <tr>\n",
       "      <th>19092</th>\n",
       "      <td>19093</td>\n",
       "      <td>2013-11-18</td>\n",
       "      <td>2013-12-09</td>\n",
       "      <td>244</td>\n",
       "      <td>27</td>\n",
       "      <td>56</td>\n",
       "      <td>174</td>\n",
       "      <td>77</td>\n",
       "      <td>94</td>\n",
       "      <td>3</td>\n",
       "      <td>...</td>\n",
       "      <td>0</td>\n",
       "      <td>2</td>\n",
       "      <td>2</td>\n",
       "      <td>2</td>\n",
       "      <td>1</td>\n",
       "      <td>1</td>\n",
       "      <td>9382</td>\n",
       "      <td>2</td>\n",
       "      <td>0.692294</td>\n",
       "      <td>0</td>\n",
       "    </tr>\n",
       "    <tr>\n",
       "      <th>22121</th>\n",
       "      <td>22122</td>\n",
       "      <td>2014-06-04</td>\n",
       "      <td>2014-06-26</td>\n",
       "      <td>49</td>\n",
       "      <td>34</td>\n",
       "      <td>9</td>\n",
       "      <td>45</td>\n",
       "      <td>28</td>\n",
       "      <td>20</td>\n",
       "      <td>7</td>\n",
       "      <td>...</td>\n",
       "      <td>3</td>\n",
       "      <td>2</td>\n",
       "      <td>1</td>\n",
       "      <td>3</td>\n",
       "      <td>1</td>\n",
       "      <td>0</td>\n",
       "      <td>7775</td>\n",
       "      <td>2</td>\n",
       "      <td>0.836914</td>\n",
       "      <td>0</td>\n",
       "    </tr>\n",
       "  </tbody>\n",
       "</table>\n",
       "<p>57400 rows × 25 columns</p>\n",
       "</div>"
      ],
      "text/plain": [
       "       enrollment_id  startdate    enddate  access  discussion  navigate  \\\n",
       "5025            5026 2014-06-12 2014-06-12       0           0         3   \n",
       "70240          70241 2014-06-16 2014-06-23     195          10        43   \n",
       "41950          41951 2014-06-11 2014-06-25     133          25        44   \n",
       "569              570 2014-05-28 2014-06-19      67           2        23   \n",
       "70924          70925 2013-11-13 2013-12-10     169          54        29   \n",
       "...              ...        ...        ...     ...         ...       ...   \n",
       "53195          53196 2014-05-26 2014-06-13     107          25        14   \n",
       "12627          12628 2013-12-02 2013-12-31     408          11        78   \n",
       "64676          64677 2014-07-12 2014-07-27       0           0         2   \n",
       "19092          19093 2013-11-18 2013-12-09     244          27        56   \n",
       "22121          22122 2014-06-04 2014-06-26      49          34         9   \n",
       "\n",
       "       page_close  problem  video  wiki  ...  Saturday  Sunday  Thursday  \\\n",
       "5025            0        0      0     0  ...         0       0         1   \n",
       "70240          57       59      7     5  ...         1       1         1   \n",
       "41950           2       67      3     2  ...         0       0         2   \n",
       "569            49       44     10     5  ...         0       0         1   \n",
       "70924          92       37     34     2  ...         2       1         1   \n",
       "...           ...      ...    ...   ...  ...       ...     ...       ...   \n",
       "53195           4       16      0     0  ...         1       2         0   \n",
       "12627         128      696    118     2  ...         2       3         3   \n",
       "64676           0        0      0     0  ...         1       1         0   \n",
       "19092         174       77     94     3  ...         0       2         2   \n",
       "22121          45       28     20     7  ...         3       2         1   \n",
       "\n",
       "       Tuesday  Wednesday  holidays  course_enroll  user_enroll  \\\n",
       "5025         0          0         0           8223            1   \n",
       "70240        1          1         0           5890            2   \n",
       "41950        0          2         0           8223            1   \n",
       "569          0          1         0           8223            1   \n",
       "70924        3          1         0           9382            1   \n",
       "...        ...        ...       ...            ...          ...   \n",
       "53195        0          0         1           2796            1   \n",
       "12627        4          1         0           1933            3   \n",
       "64676        0          0         0           1471            1   \n",
       "19092        2          1         1           9382            2   \n",
       "22121        3          1         0           7775            2   \n",
       "\n",
       "       course_drop_rate  dropout_prob  \n",
       "5025           0.767759             0  \n",
       "70240          0.728608             0  \n",
       "41950          0.767759             0  \n",
       "569            0.767759             0  \n",
       "70924          0.692294             0  \n",
       "...                 ...           ...  \n",
       "53195          0.666866             0  \n",
       "12627          0.843426             0  \n",
       "64676          0.919355             0  \n",
       "19092          0.692294             0  \n",
       "22121          0.836914             0  \n",
       "\n",
       "[57400 rows x 25 columns]"
      ]
     },
     "execution_count": 27,
     "metadata": {},
     "output_type": "execute_result"
    }
   ],
   "source": [
    "dropout_prob_minority_balanced"
   ]
  },
  {
   "cell_type": "code",
   "execution_count": 28,
   "metadata": {},
   "outputs": [],
   "source": [
    "data_balanced = pd.concat([dropout_prob_majority, dropout_prob_minority_balanced])"
   ]
  },
  {
   "cell_type": "code",
   "execution_count": 29,
   "metadata": {},
   "outputs": [
    {
     "data": {
      "text/html": [
       "<div>\n",
       "<style scoped>\n",
       "    .dataframe tbody tr th:only-of-type {\n",
       "        vertical-align: middle;\n",
       "    }\n",
       "\n",
       "    .dataframe tbody tr th {\n",
       "        vertical-align: top;\n",
       "    }\n",
       "\n",
       "    .dataframe thead th {\n",
       "        text-align: right;\n",
       "    }\n",
       "</style>\n",
       "<table border=\"1\" class=\"dataframe\">\n",
       "  <thead>\n",
       "    <tr style=\"text-align: right;\">\n",
       "      <th></th>\n",
       "      <th>enrollment_id</th>\n",
       "      <th>startdate</th>\n",
       "      <th>enddate</th>\n",
       "      <th>access</th>\n",
       "      <th>discussion</th>\n",
       "      <th>navigate</th>\n",
       "      <th>page_close</th>\n",
       "      <th>problem</th>\n",
       "      <th>video</th>\n",
       "      <th>wiki</th>\n",
       "      <th>...</th>\n",
       "      <th>Saturday</th>\n",
       "      <th>Sunday</th>\n",
       "      <th>Thursday</th>\n",
       "      <th>Tuesday</th>\n",
       "      <th>Wednesday</th>\n",
       "      <th>holidays</th>\n",
       "      <th>course_enroll</th>\n",
       "      <th>user_enroll</th>\n",
       "      <th>course_drop_rate</th>\n",
       "      <th>dropout_prob</th>\n",
       "    </tr>\n",
       "  </thead>\n",
       "  <tbody>\n",
       "    <tr>\n",
       "      <th>0</th>\n",
       "      <td>1</td>\n",
       "      <td>2014-05-31</td>\n",
       "      <td>2014-06-01</td>\n",
       "      <td>27</td>\n",
       "      <td>0</td>\n",
       "      <td>8</td>\n",
       "      <td>0</td>\n",
       "      <td>79</td>\n",
       "      <td>0</td>\n",
       "      <td>0</td>\n",
       "      <td>...</td>\n",
       "      <td>1</td>\n",
       "      <td>1</td>\n",
       "      <td>0</td>\n",
       "      <td>0</td>\n",
       "      <td>0</td>\n",
       "      <td>0</td>\n",
       "      <td>4684</td>\n",
       "      <td>1</td>\n",
       "      <td>0.826534</td>\n",
       "      <td>1</td>\n",
       "    </tr>\n",
       "    <tr>\n",
       "      <th>1</th>\n",
       "      <td>2</td>\n",
       "      <td>2014-06-04</td>\n",
       "      <td>2014-06-04</td>\n",
       "      <td>7</td>\n",
       "      <td>4</td>\n",
       "      <td>3</td>\n",
       "      <td>4</td>\n",
       "      <td>0</td>\n",
       "      <td>3</td>\n",
       "      <td>1</td>\n",
       "      <td>...</td>\n",
       "      <td>0</td>\n",
       "      <td>0</td>\n",
       "      <td>0</td>\n",
       "      <td>0</td>\n",
       "      <td>1</td>\n",
       "      <td>0</td>\n",
       "      <td>7775</td>\n",
       "      <td>1</td>\n",
       "      <td>0.836914</td>\n",
       "      <td>1</td>\n",
       "    </tr>\n",
       "    <tr>\n",
       "      <th>3</th>\n",
       "      <td>4</td>\n",
       "      <td>2014-06-12</td>\n",
       "      <td>2014-06-13</td>\n",
       "      <td>54</td>\n",
       "      <td>4</td>\n",
       "      <td>6</td>\n",
       "      <td>46</td>\n",
       "      <td>21</td>\n",
       "      <td>31</td>\n",
       "      <td>1</td>\n",
       "      <td>...</td>\n",
       "      <td>0</td>\n",
       "      <td>0</td>\n",
       "      <td>1</td>\n",
       "      <td>0</td>\n",
       "      <td>0</td>\n",
       "      <td>0</td>\n",
       "      <td>2981</td>\n",
       "      <td>2</td>\n",
       "      <td>0.799671</td>\n",
       "      <td>1</td>\n",
       "    </tr>\n",
       "    <tr>\n",
       "      <th>4</th>\n",
       "      <td>5</td>\n",
       "      <td>2014-07-01</td>\n",
       "      <td>2014-07-01</td>\n",
       "      <td>0</td>\n",
       "      <td>0</td>\n",
       "      <td>2</td>\n",
       "      <td>0</td>\n",
       "      <td>0</td>\n",
       "      <td>0</td>\n",
       "      <td>0</td>\n",
       "      <td>...</td>\n",
       "      <td>0</td>\n",
       "      <td>0</td>\n",
       "      <td>0</td>\n",
       "      <td>1</td>\n",
       "      <td>0</td>\n",
       "      <td>0</td>\n",
       "      <td>10322</td>\n",
       "      <td>1</td>\n",
       "      <td>0.695925</td>\n",
       "      <td>1</td>\n",
       "    </tr>\n",
       "    <tr>\n",
       "      <th>5</th>\n",
       "      <td>6</td>\n",
       "      <td>2014-07-16</td>\n",
       "      <td>2014-07-16</td>\n",
       "      <td>0</td>\n",
       "      <td>0</td>\n",
       "      <td>1</td>\n",
       "      <td>0</td>\n",
       "      <td>0</td>\n",
       "      <td>0</td>\n",
       "      <td>0</td>\n",
       "      <td>...</td>\n",
       "      <td>0</td>\n",
       "      <td>0</td>\n",
       "      <td>0</td>\n",
       "      <td>0</td>\n",
       "      <td>1</td>\n",
       "      <td>0</td>\n",
       "      <td>1481</td>\n",
       "      <td>2</td>\n",
       "      <td>0.823991</td>\n",
       "      <td>1</td>\n",
       "    </tr>\n",
       "  </tbody>\n",
       "</table>\n",
       "<p>5 rows × 25 columns</p>\n",
       "</div>"
      ],
      "text/plain": [
       "   enrollment_id  startdate    enddate  access  discussion  navigate  \\\n",
       "0              1 2014-05-31 2014-06-01      27           0         8   \n",
       "1              2 2014-06-04 2014-06-04       7           4         3   \n",
       "3              4 2014-06-12 2014-06-13      54           4         6   \n",
       "4              5 2014-07-01 2014-07-01       0           0         2   \n",
       "5              6 2014-07-16 2014-07-16       0           0         1   \n",
       "\n",
       "   page_close  problem  video  wiki  ...  Saturday  Sunday  Thursday  Tuesday  \\\n",
       "0           0       79      0     0  ...         1       1         0        0   \n",
       "1           4        0      3     1  ...         0       0         0        0   \n",
       "3          46       21     31     1  ...         0       0         1        0   \n",
       "4           0        0      0     0  ...         0       0         0        1   \n",
       "5           0        0      0     0  ...         0       0         0        0   \n",
       "\n",
       "   Wednesday  holidays  course_enroll  user_enroll  course_drop_rate  \\\n",
       "0          0         0           4684            1          0.826534   \n",
       "1          1         0           7775            1          0.836914   \n",
       "3          0         0           2981            2          0.799671   \n",
       "4          0         0          10322            1          0.695925   \n",
       "5          1         0           1481            2          0.823991   \n",
       "\n",
       "   dropout_prob  \n",
       "0             1  \n",
       "1             1  \n",
       "3             1  \n",
       "4             1  \n",
       "5             1  \n",
       "\n",
       "[5 rows x 25 columns]"
      ]
     },
     "execution_count": 29,
     "metadata": {},
     "output_type": "execute_result"
    }
   ],
   "source": [
    "data_balanced.head()"
   ]
  },
  {
   "cell_type": "code",
   "execution_count": 30,
   "metadata": {},
   "outputs": [
    {
     "data": {
      "text/plain": [
       "(114800, 25)"
      ]
     },
     "execution_count": 30,
     "metadata": {},
     "output_type": "execute_result"
    }
   ],
   "source": [
    "data_balanced.shape"
   ]
  },
  {
   "cell_type": "code",
   "execution_count": 31,
   "metadata": {},
   "outputs": [],
   "source": [
    "# using PCA for component analysis"
   ]
  },
  {
   "cell_type": "code",
   "execution_count": 32,
   "metadata": {},
   "outputs": [],
   "source": [
    "from sklearn.decomposition import PCA\n",
    "from sklearn.model_selection import train_test_split"
   ]
  },
  {
   "cell_type": "code",
   "execution_count": 33,
   "metadata": {},
   "outputs": [],
   "source": [
    "X = data_balanced.drop(['dropout_prob', 'enrollment_id'], axis=1)"
   ]
  },
  {
   "cell_type": "code",
   "execution_count": 34,
   "metadata": {},
   "outputs": [],
   "source": [
    "y = data_balanced['dropout_prob']"
   ]
  },
  {
   "cell_type": "code",
   "execution_count": null,
   "metadata": {},
   "outputs": [],
   "source": []
  },
  {
   "cell_type": "code",
   "execution_count": 35,
   "metadata": {},
   "outputs": [],
   "source": [
    "X['startdate'] = X['startdate'].map(datetime.datetime.toordinal)"
   ]
  },
  {
   "cell_type": "code",
   "execution_count": 36,
   "metadata": {},
   "outputs": [],
   "source": [
    "X['enddate'] = X['enddate'].map(datetime.datetime.toordinal)"
   ]
  },
  {
   "cell_type": "code",
   "execution_count": 37,
   "metadata": {},
   "outputs": [
    {
     "data": {
      "text/html": [
       "<div>\n",
       "<style scoped>\n",
       "    .dataframe tbody tr th:only-of-type {\n",
       "        vertical-align: middle;\n",
       "    }\n",
       "\n",
       "    .dataframe tbody tr th {\n",
       "        vertical-align: top;\n",
       "    }\n",
       "\n",
       "    .dataframe thead th {\n",
       "        text-align: right;\n",
       "    }\n",
       "</style>\n",
       "<table border=\"1\" class=\"dataframe\">\n",
       "  <thead>\n",
       "    <tr style=\"text-align: right;\">\n",
       "      <th></th>\n",
       "      <th>startdate</th>\n",
       "      <th>enddate</th>\n",
       "      <th>access</th>\n",
       "      <th>discussion</th>\n",
       "      <th>navigate</th>\n",
       "      <th>page_close</th>\n",
       "      <th>problem</th>\n",
       "      <th>video</th>\n",
       "      <th>wiki</th>\n",
       "      <th>proccess_period</th>\n",
       "      <th>...</th>\n",
       "      <th>Monday</th>\n",
       "      <th>Saturday</th>\n",
       "      <th>Sunday</th>\n",
       "      <th>Thursday</th>\n",
       "      <th>Tuesday</th>\n",
       "      <th>Wednesday</th>\n",
       "      <th>holidays</th>\n",
       "      <th>course_enroll</th>\n",
       "      <th>user_enroll</th>\n",
       "      <th>course_drop_rate</th>\n",
       "    </tr>\n",
       "  </thead>\n",
       "  <tbody>\n",
       "    <tr>\n",
       "      <th>0</th>\n",
       "      <td>735384</td>\n",
       "      <td>735385</td>\n",
       "      <td>27</td>\n",
       "      <td>0</td>\n",
       "      <td>8</td>\n",
       "      <td>0</td>\n",
       "      <td>79</td>\n",
       "      <td>0</td>\n",
       "      <td>0</td>\n",
       "      <td>1.053588</td>\n",
       "      <td>...</td>\n",
       "      <td>0</td>\n",
       "      <td>1</td>\n",
       "      <td>1</td>\n",
       "      <td>0</td>\n",
       "      <td>0</td>\n",
       "      <td>0</td>\n",
       "      <td>0</td>\n",
       "      <td>4684</td>\n",
       "      <td>1</td>\n",
       "      <td>0.826534</td>\n",
       "    </tr>\n",
       "    <tr>\n",
       "      <th>1</th>\n",
       "      <td>735388</td>\n",
       "      <td>735388</td>\n",
       "      <td>7</td>\n",
       "      <td>4</td>\n",
       "      <td>3</td>\n",
       "      <td>4</td>\n",
       "      <td>0</td>\n",
       "      <td>3</td>\n",
       "      <td>1</td>\n",
       "      <td>0.016782</td>\n",
       "      <td>...</td>\n",
       "      <td>0</td>\n",
       "      <td>0</td>\n",
       "      <td>0</td>\n",
       "      <td>0</td>\n",
       "      <td>0</td>\n",
       "      <td>1</td>\n",
       "      <td>0</td>\n",
       "      <td>7775</td>\n",
       "      <td>1</td>\n",
       "      <td>0.836914</td>\n",
       "    </tr>\n",
       "    <tr>\n",
       "      <th>3</th>\n",
       "      <td>735396</td>\n",
       "      <td>735397</td>\n",
       "      <td>54</td>\n",
       "      <td>4</td>\n",
       "      <td>6</td>\n",
       "      <td>46</td>\n",
       "      <td>21</td>\n",
       "      <td>31</td>\n",
       "      <td>1</td>\n",
       "      <td>0.766829</td>\n",
       "      <td>...</td>\n",
       "      <td>0</td>\n",
       "      <td>0</td>\n",
       "      <td>0</td>\n",
       "      <td>1</td>\n",
       "      <td>0</td>\n",
       "      <td>0</td>\n",
       "      <td>0</td>\n",
       "      <td>2981</td>\n",
       "      <td>2</td>\n",
       "      <td>0.799671</td>\n",
       "    </tr>\n",
       "    <tr>\n",
       "      <th>4</th>\n",
       "      <td>735415</td>\n",
       "      <td>735415</td>\n",
       "      <td>0</td>\n",
       "      <td>0</td>\n",
       "      <td>2</td>\n",
       "      <td>0</td>\n",
       "      <td>0</td>\n",
       "      <td>0</td>\n",
       "      <td>0</td>\n",
       "      <td>0.000150</td>\n",
       "      <td>...</td>\n",
       "      <td>0</td>\n",
       "      <td>0</td>\n",
       "      <td>0</td>\n",
       "      <td>0</td>\n",
       "      <td>1</td>\n",
       "      <td>0</td>\n",
       "      <td>0</td>\n",
       "      <td>10322</td>\n",
       "      <td>1</td>\n",
       "      <td>0.695925</td>\n",
       "    </tr>\n",
       "    <tr>\n",
       "      <th>5</th>\n",
       "      <td>735430</td>\n",
       "      <td>735430</td>\n",
       "      <td>0</td>\n",
       "      <td>0</td>\n",
       "      <td>1</td>\n",
       "      <td>0</td>\n",
       "      <td>0</td>\n",
       "      <td>0</td>\n",
       "      <td>0</td>\n",
       "      <td>0.000000</td>\n",
       "      <td>...</td>\n",
       "      <td>0</td>\n",
       "      <td>0</td>\n",
       "      <td>0</td>\n",
       "      <td>0</td>\n",
       "      <td>0</td>\n",
       "      <td>1</td>\n",
       "      <td>0</td>\n",
       "      <td>1481</td>\n",
       "      <td>2</td>\n",
       "      <td>0.823991</td>\n",
       "    </tr>\n",
       "  </tbody>\n",
       "</table>\n",
       "<p>5 rows × 23 columns</p>\n",
       "</div>"
      ],
      "text/plain": [
       "   startdate  enddate  access  discussion  navigate  page_close  problem  \\\n",
       "0     735384   735385      27           0         8           0       79   \n",
       "1     735388   735388       7           4         3           4        0   \n",
       "3     735396   735397      54           4         6          46       21   \n",
       "4     735415   735415       0           0         2           0        0   \n",
       "5     735430   735430       0           0         1           0        0   \n",
       "\n",
       "   video  wiki  proccess_period  ...  Monday  Saturday  Sunday  Thursday  \\\n",
       "0      0     0         1.053588  ...       0         1       1         0   \n",
       "1      3     1         0.016782  ...       0         0       0         0   \n",
       "3     31     1         0.766829  ...       0         0       0         1   \n",
       "4      0     0         0.000150  ...       0         0       0         0   \n",
       "5      0     0         0.000000  ...       0         0       0         0   \n",
       "\n",
       "   Tuesday  Wednesday  holidays  course_enroll  user_enroll  course_drop_rate  \n",
       "0        0          0         0           4684            1          0.826534  \n",
       "1        0          1         0           7775            1          0.836914  \n",
       "3        0          0         0           2981            2          0.799671  \n",
       "4        1          0         0          10322            1          0.695925  \n",
       "5        0          1         0           1481            2          0.823991  \n",
       "\n",
       "[5 rows x 23 columns]"
      ]
     },
     "execution_count": 37,
     "metadata": {},
     "output_type": "execute_result"
    }
   ],
   "source": [
    "X.head()"
   ]
  },
  {
   "cell_type": "code",
   "execution_count": 38,
   "metadata": {},
   "outputs": [],
   "source": [
    "from sklearn.preprocessing import StandardScaler"
   ]
  },
  {
   "cell_type": "code",
   "execution_count": 39,
   "metadata": {},
   "outputs": [],
   "source": [
    "st = StandardScaler()"
   ]
  },
  {
   "cell_type": "code",
   "execution_count": 40,
   "metadata": {},
   "outputs": [],
   "source": [
    "X = st.fit_transform(X)"
   ]
  },
  {
   "cell_type": "code",
   "execution_count": 41,
   "metadata": {},
   "outputs": [
    {
     "data": {
      "text/plain": [
       "array([[ 0.6329321 ,  0.54081648, -0.23220026, ..., -0.32308744,\n",
       "        -0.62648324,  0.61236509],\n",
       "       [ 0.67798658,  0.57468887, -0.49614701, ...,  0.51102165,\n",
       "        -0.62648324,  0.76855315],\n",
       "       [ 0.76809555,  0.67630602,  0.12412786, ..., -0.7826435 ,\n",
       "        -0.24291048,  0.20815863],\n",
       "       ...,\n",
       "       [ 1.10600417,  1.173101  , -0.58852837, ..., -1.19011833,\n",
       "        -0.62648324,  2.00900488],\n",
       "       [-1.55221036, -1.42378182,  2.63162198, ...,  0.94467203,\n",
       "        -0.24291048, -1.40750201],\n",
       "       [ 0.67798658,  0.82308636,  0.05814117, ...,  0.51102165,\n",
       "        -0.24291048,  0.76855315]])"
      ]
     },
     "execution_count": 41,
     "metadata": {},
     "output_type": "execute_result"
    }
   ],
   "source": [
    "X"
   ]
  },
  {
   "cell_type": "code",
   "execution_count": 42,
   "metadata": {},
   "outputs": [],
   "source": [
    "pca = PCA()"
   ]
  },
  {
   "cell_type": "code",
   "execution_count": 43,
   "metadata": {},
   "outputs": [
    {
     "data": {
      "text/plain": [
       "PCA()"
      ]
     },
     "execution_count": 43,
     "metadata": {},
     "output_type": "execute_result"
    }
   ],
   "source": [
    "pca.fit(X)"
   ]
  },
  {
   "cell_type": "code",
   "execution_count": 44,
   "metadata": {},
   "outputs": [
    {
     "data": {
      "text/plain": [
       "array([3.92438539e-01, 9.37042930e-02, 7.08881252e-02, 5.10280415e-02,\n",
       "       4.51651747e-02, 3.92212434e-02, 3.35119146e-02, 3.33398882e-02,\n",
       "       3.12802389e-02, 3.04825275e-02, 2.46302680e-02, 2.35556149e-02,\n",
       "       2.21191008e-02, 2.11886330e-02, 2.00632094e-02, 1.64174720e-02,\n",
       "       1.44908852e-02, 1.21044585e-02, 9.39811210e-03, 8.60625538e-03,\n",
       "       6.36588565e-03, 1.18987353e-07, 3.49993406e-33])"
      ]
     },
     "execution_count": 44,
     "metadata": {},
     "output_type": "execute_result"
    }
   ],
   "source": [
    "pca.explained_variance_ratio_"
   ]
  },
  {
   "cell_type": "code",
   "execution_count": 45,
   "metadata": {},
   "outputs": [
    {
     "data": {
      "text/plain": [
       "[<matplotlib.lines.Line2D at 0x1d104b42bb0>]"
      ]
     },
     "execution_count": 45,
     "metadata": {},
     "output_type": "execute_result"
    },
    {
     "data": {
      "image/png": "[encoded data removed]",
      "text/plain": [
       "<Figure size 720x720 with 1 Axes>"
      ]
     },
     "metadata": {
      "needs_background": "light"
     },
     "output_type": "display_data"
    }
   ],
   "source": [
    "plt.figure(figsize=(10,10))\n",
    "plt.plot(pca.explained_variance_ratio_.cumsum())"
   ]
  },
  {
   "cell_type": "markdown",
   "metadata": {},
   "source": [
    "# we can see that 19-20 feature can explain our 99% data"
   ]
  },
  {
   "cell_type": "code",
   "execution_count": 46,
   "metadata": {},
   "outputs": [],
   "source": [
    "pca = PCA(n_components=19)"
   ]
  },
  {
   "cell_type": "code",
   "execution_count": 47,
   "metadata": {},
   "outputs": [],
   "source": [
    "X = pca.fit_transform(X)"
   ]
  },
  {
   "cell_type": "code",
   "execution_count": 48,
   "metadata": {},
   "outputs": [
    {
     "data": {
      "text/plain": [
       "array([[-1.32471784,  1.07746487,  0.19875141, ..., -0.05349661,\n",
       "         0.08877623, -0.27416026],\n",
       "       [-2.12942146,  0.61354498, -0.36231146, ..., -0.706345  ,\n",
       "        -0.0568248 , -0.02813186],\n",
       "       [-0.6499375 ,  1.21429775,  0.20873048, ...,  0.18150286,\n",
       "        -0.25409456, -0.47103581],\n",
       "       ...,\n",
       "       [-1.69015369,  2.2159195 ,  0.67603816, ..., -0.62049089,\n",
       "        -0.09032525,  0.42557585],\n",
       "       [ 8.59748071, -2.43912848,  0.13272822, ..., -0.7257765 ,\n",
       "         0.19794314, -1.35480962],\n",
       "       [ 3.90305707,  0.83819381, -0.81546376, ..., -1.0597667 ,\n",
       "        -1.26344885, -0.70433656]])"
      ]
     },
     "execution_count": 48,
     "metadata": {},
     "output_type": "execute_result"
    }
   ],
   "source": [
    "X"
   ]
  },
  {
   "cell_type": "code",
   "execution_count": 54,
   "metadata": {},
   "outputs": [],
   "source": [
    "\n",
    "from xgboost import XGBClassifier\n",
    "from sklearn.model_selection import GridSearchCV, KFold"
   ]
  },
  {
   "cell_type": "code",
   "execution_count": 55,
   "metadata": {},
   "outputs": [],
   "source": [
    "X_train, X_test, y_train, y_test = train_test_split(X, y, random_state=101, test_size=0.3)"
   ]
  },
  {
   "cell_type": "code",
   "execution_count": 69,
   "metadata": {},
   "outputs": [],
   "source": [
    "xgb = XGBClassifier(objective='binary:logistic')"
   ]
  },
  {
   "cell_type": "code",
   "execution_count": 70,
   "metadata": {},
   "outputs": [
    {
     "data": {
      "text/plain": [
       "XGBClassifier(base_score=0.5, booster='gbtree', colsample_bylevel=1,\n",
       "              colsample_bynode=1, colsample_bytree=1, gamma=0, gpu_id=-1,\n",
       "              importance_type='gain', interaction_constraints='',\n",
       "              learning_rate=0.300000012, max_delta_step=0, max_depth=6,\n",
       "              min_child_weight=1, missing=nan, monotone_constraints='()',\n",
       "              n_estimators=100, n_jobs=0, num_parallel_tree=1, random_state=0,\n",
       "              reg_alpha=0, reg_lambda=1, scale_pos_weight=1, subsample=1,\n",
       "              tree_method='exact', validate_parameters=1, verbosity=None)"
      ]
     },
     "execution_count": 70,
     "metadata": {},
     "output_type": "execute_result"
    }
   ],
   "source": [
    "xgb.fit(X_train, y_train)"
   ]
  },
  {
   "cell_type": "code",
   "execution_count": 71,
   "metadata": {},
   "outputs": [],
   "source": [
    "y_pred = xgb.predict(X_test)"
   ]
  },
  {
   "cell_type": "code",
   "execution_count": 72,
   "metadata": {},
   "outputs": [],
   "source": [
    "from sklearn.metrics import confusion_matrix, f1_score, accuracy_score"
   ]
  },
  {
   "cell_type": "code",
   "execution_count": 73,
   "metadata": {},
   "outputs": [
    {
     "name": "stdout",
     "output_type": "stream",
     "text": [
      "[[13920  3239]\n",
      " [ 2450 14831]]\n"
     ]
    }
   ],
   "source": [
    "print(confusion_matrix(y_test, y_pred))"
   ]
  },
  {
   "cell_type": "code",
   "execution_count": 74,
   "metadata": {},
   "outputs": [
    {
     "name": "stdout",
     "output_type": "stream",
     "text": [
      "0.8348141695702671\n"
     ]
    }
   ],
   "source": [
    "print(accuracy_score(y_test, y_pred))"
   ]
  },
  {
   "cell_type": "code",
   "execution_count": 75,
   "metadata": {},
   "outputs": [
    {
     "name": "stdout",
     "output_type": "stream",
     "text": [
      "0.8390710305224746\n"
     ]
    }
   ],
   "source": [
    "print(f1_score(y_test, y_pred))"
   ]
  },
  {
   "cell_type": "code",
   "execution_count": 76,
   "metadata": {},
   "outputs": [],
   "source": [
    "y_pred_train = xgb.predict(X_train)"
   ]
  },
  {
   "cell_type": "code",
   "execution_count": 77,
   "metadata": {},
   "outputs": [
    {
     "name": "stdout",
     "output_type": "stream",
     "text": [
      "0.8705326032852165\n"
     ]
    }
   ],
   "source": [
    "print(accuracy_score(y_train, y_pred_train))"
   ]
  },
  {
   "cell_type": "code",
   "execution_count": 78,
   "metadata": {},
   "outputs": [
    {
     "name": "stdout",
     "output_type": "stream",
     "text": [
      "0.8743447909369793\n"
     ]
    }
   ],
   "source": [
    "print(f1_score(y_train, y_pred_train))"
   ]
  },
  {
   "cell_type": "code",
   "execution_count": 79,
   "metadata": {},
   "outputs": [
    {
     "name": "stdout",
     "output_type": "stream",
     "text": [
      "[[33759  3922]\n",
      " [ 6482 36197]]\n"
     ]
    }
   ],
   "source": [
    "print(confusion_matrix(y_pred_train, y_train))"
   ]
  },
  {
   "cell_type": "code",
   "execution_count": 81,
   "metadata": {},
   "outputs": [],
   "source": [
    "#using GridSearch CV for best param\n",
    "XGBClassifier()"
   ]
  },
  {
   "cell_type": "code",
   "execution_count": 109,
   "metadata": {},
   "outputs": [],
   "source": [
    "param_grid = {'learning_rate':[0.1,0.2,0.3,0.4,0.5, 0.6, 0.7, 0.8], 'booster': ['gbtree', 'gblinear', 'dart']}"
   ]
  },
  {
   "cell_type": "code",
   "execution_count": 110,
   "metadata": {},
   "outputs": [
    {
     "data": {
      "text/plain": [
       "{'learning_rate': [0.1, 0.2, 0.3, 0.4, 0.5, 0.6, 0.7, 0.8],\n",
       " 'booster': ['gbtree', 'gblinear', 'dart']}"
      ]
     },
     "execution_count": 110,
     "metadata": {},
     "output_type": "execute_result"
    }
   ],
   "source": [
    "param_grid"
   ]
  },
  {
   "cell_type": "code",
   "execution_count": 111,
   "metadata": {},
   "outputs": [],
   "source": [
    "gridCV = GridSearchCV(estimator=xgb, param_grid=param_grid, cv=5, n_jobs=-1, verbose=20, return_train_score=True)"
   ]
  },
  {
   "cell_type": "code",
   "execution_count": 112,
   "metadata": {},
   "outputs": [
    {
     "name": "stdout",
     "output_type": "stream",
     "text": [
      "Fitting 5 folds for each of 24 candidates, totalling 120 fits\n"
     ]
    },
    {
     "name": "stderr",
     "output_type": "stream",
     "text": [
      "[Parallel(n_jobs=-1)]: Using backend LokyBackend with 8 concurrent workers.\n",
      "[Parallel(n_jobs=-1)]: Done   1 tasks      | elapsed:   46.0s\n",
      "[Parallel(n_jobs=-1)]: Done   2 tasks      | elapsed:   46.6s\n",
      "[Parallel(n_jobs=-1)]: Done   3 tasks      | elapsed:   46.6s\n",
      "[Parallel(n_jobs=-1)]: Done   4 tasks      | elapsed:   46.6s\n",
      "[Parallel(n_jobs=-1)]: Done   5 tasks      | elapsed:   46.6s\n",
      "[Parallel(n_jobs=-1)]: Done   6 tasks      | elapsed:   46.7s\n",
      "[Parallel(n_jobs=-1)]: Done   7 tasks      | elapsed:   46.7s\n",
      "[Parallel(n_jobs=-1)]: Done   8 tasks      | elapsed:   46.7s\n",
      "[Parallel(n_jobs=-1)]: Done   9 tasks      | elapsed:  1.2min\n",
      "[Parallel(n_jobs=-1)]: Done  10 tasks      | elapsed:  1.2min\n",
      "[Parallel(n_jobs=-1)]: Done  11 tasks      | elapsed:  1.2min\n",
      "[Parallel(n_jobs=-1)]: Done  12 tasks      | elapsed:  1.2min\n",
      "[Parallel(n_jobs=-1)]: Done  13 tasks      | elapsed:  1.2min\n",
      "[Parallel(n_jobs=-1)]: Done  14 tasks      | elapsed:  1.2min\n",
      "[Parallel(n_jobs=-1)]: Done  15 tasks      | elapsed:  1.2min\n",
      "[Parallel(n_jobs=-1)]: Done  16 tasks      | elapsed:  1.2min\n",
      "[Parallel(n_jobs=-1)]: Done  17 tasks      | elapsed:  1.7min\n",
      "[Parallel(n_jobs=-1)]: Done  18 tasks      | elapsed:  1.7min\n",
      "[Parallel(n_jobs=-1)]: Done  19 tasks      | elapsed:  1.7min\n",
      "[Parallel(n_jobs=-1)]: Done  20 tasks      | elapsed:  1.7min\n",
      "[Parallel(n_jobs=-1)]: Done  21 tasks      | elapsed:  1.7min\n",
      "[Parallel(n_jobs=-1)]: Done  22 tasks      | elapsed:  1.7min\n",
      "[Parallel(n_jobs=-1)]: Done  23 tasks      | elapsed:  1.7min\n",
      "[Parallel(n_jobs=-1)]: Done  24 tasks      | elapsed:  1.7min\n",
      "[Parallel(n_jobs=-1)]: Done  25 tasks      | elapsed:  2.2min\n",
      "[Parallel(n_jobs=-1)]: Done  26 tasks      | elapsed:  2.2min\n",
      "[Parallel(n_jobs=-1)]: Done  27 tasks      | elapsed:  2.2min\n",
      "[Parallel(n_jobs=-1)]: Done  28 tasks      | elapsed:  2.2min\n",
      "[Parallel(n_jobs=-1)]: Done  29 tasks      | elapsed:  2.2min\n",
      "[Parallel(n_jobs=-1)]: Done  30 tasks      | elapsed:  2.2min\n",
      "[Parallel(n_jobs=-1)]: Done  31 tasks      | elapsed:  2.2min\n",
      "[Parallel(n_jobs=-1)]: Done  32 tasks      | elapsed:  2.2min\n",
      "[Parallel(n_jobs=-1)]: Done  33 tasks      | elapsed:  2.6min\n",
      "[Parallel(n_jobs=-1)]: Done  34 tasks      | elapsed:  2.6min\n",
      "[Parallel(n_jobs=-1)]: Done  35 tasks      | elapsed:  2.6min\n",
      "[Parallel(n_jobs=-1)]: Done  36 tasks      | elapsed:  2.6min\n",
      "[Parallel(n_jobs=-1)]: Done  37 tasks      | elapsed:  2.6min\n",
      "[Parallel(n_jobs=-1)]: Done  38 tasks      | elapsed:  2.6min\n",
      "[Parallel(n_jobs=-1)]: Done  39 tasks      | elapsed:  2.6min\n",
      "[Parallel(n_jobs=-1)]: Done  40 tasks      | elapsed:  2.6min\n",
      "[Parallel(n_jobs=-1)]: Done  41 tasks      | elapsed:  2.7min\n",
      "[Parallel(n_jobs=-1)]: Done  42 tasks      | elapsed:  2.7min\n",
      "[Parallel(n_jobs=-1)]: Done  43 tasks      | elapsed:  2.7min\n",
      "[Parallel(n_jobs=-1)]: Done  44 tasks      | elapsed:  2.7min\n",
      "[Parallel(n_jobs=-1)]: Done  45 tasks      | elapsed:  2.7min\n",
      "[Parallel(n_jobs=-1)]: Done  46 tasks      | elapsed:  2.7min\n",
      "[Parallel(n_jobs=-1)]: Done  47 tasks      | elapsed:  2.7min\n",
      "[Parallel(n_jobs=-1)]: Done  48 tasks      | elapsed:  2.7min\n",
      "[Parallel(n_jobs=-1)]: Done  49 tasks      | elapsed:  2.7min\n",
      "[Parallel(n_jobs=-1)]: Done  50 tasks      | elapsed:  2.7min\n",
      "[Parallel(n_jobs=-1)]: Done  51 tasks      | elapsed:  2.7min\n",
      "[Parallel(n_jobs=-1)]: Done  52 tasks      | elapsed:  2.7min\n",
      "[Parallel(n_jobs=-1)]: Done  53 tasks      | elapsed:  2.7min\n",
      "[Parallel(n_jobs=-1)]: Done  54 tasks      | elapsed:  2.7min\n",
      "[Parallel(n_jobs=-1)]: Done  55 tasks      | elapsed:  2.7min\n",
      "[Parallel(n_jobs=-1)]: Done  56 tasks      | elapsed:  2.7min\n",
      "[Parallel(n_jobs=-1)]: Done  57 tasks      | elapsed:  2.7min\n",
      "[Parallel(n_jobs=-1)]: Done  58 tasks      | elapsed:  2.7min\n",
      "[Parallel(n_jobs=-1)]: Done  59 tasks      | elapsed:  2.8min\n",
      "[Parallel(n_jobs=-1)]: Done  60 tasks      | elapsed:  2.8min\n",
      "[Parallel(n_jobs=-1)]: Done  61 tasks      | elapsed:  2.8min\n",
      "[Parallel(n_jobs=-1)]: Done  62 tasks      | elapsed:  2.8min\n",
      "[Parallel(n_jobs=-1)]: Done  63 tasks      | elapsed:  2.8min\n",
      "[Parallel(n_jobs=-1)]: Done  64 tasks      | elapsed:  2.8min\n",
      "[Parallel(n_jobs=-1)]: Done  65 tasks      | elapsed:  2.8min\n",
      "[Parallel(n_jobs=-1)]: Done  66 tasks      | elapsed:  2.8min\n",
      "[Parallel(n_jobs=-1)]: Done  67 tasks      | elapsed:  2.8min\n",
      "[Parallel(n_jobs=-1)]: Done  68 tasks      | elapsed:  2.8min\n",
      "[Parallel(n_jobs=-1)]: Done  69 tasks      | elapsed:  2.8min\n",
      "[Parallel(n_jobs=-1)]: Done  70 tasks      | elapsed:  2.8min\n",
      "[Parallel(n_jobs=-1)]: Done  71 tasks      | elapsed:  2.8min\n",
      "[Parallel(n_jobs=-1)]: Done  72 tasks      | elapsed:  2.8min\n",
      "[Parallel(n_jobs=-1)]: Done  73 tasks      | elapsed:  2.8min\n",
      "[Parallel(n_jobs=-1)]: Done  74 tasks      | elapsed:  2.8min\n",
      "[Parallel(n_jobs=-1)]: Done  75 tasks      | elapsed:  2.8min\n",
      "[Parallel(n_jobs=-1)]: Done  76 tasks      | elapsed:  2.8min\n",
      "[Parallel(n_jobs=-1)]: Done  77 tasks      | elapsed:  2.8min\n",
      "[Parallel(n_jobs=-1)]: Done  78 tasks      | elapsed:  2.8min\n",
      "[Parallel(n_jobs=-1)]: Done  79 tasks      | elapsed:  2.8min\n",
      "[Parallel(n_jobs=-1)]: Done  80 tasks      | elapsed:  2.8min\n",
      "[Parallel(n_jobs=-1)]: Done  81 tasks      | elapsed:  3.6min\n",
      "[Parallel(n_jobs=-1)]: Done  82 tasks      | elapsed:  3.6min\n",
      "[Parallel(n_jobs=-1)]: Done  83 tasks      | elapsed:  3.6min\n",
      "[Parallel(n_jobs=-1)]: Done  84 tasks      | elapsed:  3.6min\n",
      "[Parallel(n_jobs=-1)]: Done  85 tasks      | elapsed:  3.6min\n",
      "[Parallel(n_jobs=-1)]: Done  86 tasks      | elapsed:  3.6min\n",
      "[Parallel(n_jobs=-1)]: Done  87 tasks      | elapsed:  3.6min\n",
      "[Parallel(n_jobs=-1)]: Done  88 tasks      | elapsed:  3.6min\n",
      "[Parallel(n_jobs=-1)]: Done  89 tasks      | elapsed:  4.4min\n",
      "[Parallel(n_jobs=-1)]: Done  90 tasks      | elapsed:  4.4min\n",
      "[Parallel(n_jobs=-1)]: Done  91 tasks      | elapsed:  4.4min\n",
      "[Parallel(n_jobs=-1)]: Done  92 tasks      | elapsed:  4.4min\n",
      "[Parallel(n_jobs=-1)]: Done  93 tasks      | elapsed:  4.4min\n",
      "[Parallel(n_jobs=-1)]: Done  94 tasks      | elapsed:  4.4min\n",
      "[Parallel(n_jobs=-1)]: Done  95 tasks      | elapsed:  4.4min\n",
      "[Parallel(n_jobs=-1)]: Done  96 tasks      | elapsed:  4.4min\n",
      "[Parallel(n_jobs=-1)]: Done  97 tasks      | elapsed:  5.1min\n",
      "[Parallel(n_jobs=-1)]: Done  98 tasks      | elapsed:  5.1min\n",
      "[Parallel(n_jobs=-1)]: Done  99 tasks      | elapsed:  5.1min\n",
      "[Parallel(n_jobs=-1)]: Done 100 tasks      | elapsed:  5.2min\n",
      "[Parallel(n_jobs=-1)]: Done 101 tasks      | elapsed:  5.2min\n",
      "[Parallel(n_jobs=-1)]: Done 102 tasks      | elapsed:  5.2min\n",
      "[Parallel(n_jobs=-1)]: Done 103 tasks      | elapsed:  5.2min\n",
      "[Parallel(n_jobs=-1)]: Done 104 tasks      | elapsed:  5.2min\n",
      "[Parallel(n_jobs=-1)]: Done 105 tasks      | elapsed:  5.9min\n",
      "[Parallel(n_jobs=-1)]: Done 112 out of 120 | elapsed:  5.9min remaining:   25.3s\n",
      "[Parallel(n_jobs=-1)]: Done 120 out of 120 | elapsed:  6.7min finished\n"
     ]
    },
    {
     "data": {
      "text/plain": [
       "GridSearchCV(cv=5,\n",
       "             estimator=XGBClassifier(base_score=0.5, booster='gbtree',\n",
       "                                     colsample_bylevel=1, colsample_bynode=1,\n",
       "                                     colsample_bytree=1, gamma=0, gpu_id=-1,\n",
       "                                     importance_type='gain',\n",
       "                                     interaction_constraints='',\n",
       "                                     learning_rate=0.300000012,\n",
       "                                     max_delta_step=0, max_depth=6,\n",
       "                                     min_child_weight=1, missing=nan,\n",
       "                                     monotone_constraints='()',\n",
       "                                     n_estimators=100, n_jobs=0,\n",
       "                                     num_parallel_tree=1, random_state=0,\n",
       "                                     reg_alpha=0, reg_lambda=1,\n",
       "                                     scale_pos_weight=1, subsample=1,\n",
       "                                     tree_method='exact', validate_parameters=1,\n",
       "                                     verbosity=None),\n",
       "             n_jobs=-1,\n",
       "             param_grid={'booster': ['gbtree', 'gblinear', 'dart'],\n",
       "                         'learning_rate': [0.1, 0.2, 0.3, 0.4, 0.5, 0.6, 0.7,\n",
       "                                           0.8]},\n",
       "             return_train_score=True, verbose=20)"
      ]
     },
     "execution_count": 112,
     "metadata": {},
     "output_type": "execute_result"
    }
   ],
   "source": [
    "gridCV.fit(X_train, y_train)"
   ]
  },
  {
   "cell_type": "code",
   "execution_count": 113,
   "metadata": {},
   "outputs": [
    {
     "data": {
      "text/plain": [
       "{'booster': 'gbtree', 'learning_rate': 0.7}"
      ]
     },
     "execution_count": 113,
     "metadata": {},
     "output_type": "execute_result"
    }
   ],
   "source": [
    "gridCV.best_params_"
   ]
  },
  {
   "cell_type": "code",
   "execution_count": 114,
   "metadata": {},
   "outputs": [
    {
     "data": {
      "text/plain": [
       "0.8594325535092086"
      ]
     },
     "execution_count": 114,
     "metadata": {},
     "output_type": "execute_result"
    }
   ],
   "source": [
    "gridCV.best_score_"
   ]
  },
  {
   "cell_type": "code",
   "execution_count": 115,
   "metadata": {},
   "outputs": [],
   "source": [
    "result = pd.DataFrame(gridCV.cv_results_)"
   ]
  },
  {
   "cell_type": "code",
   "execution_count": 116,
   "metadata": {},
   "outputs": [
    {
     "data": {
      "text/html": [
       "<div>\n",
       "<style scoped>\n",
       "    .dataframe tbody tr th:only-of-type {\n",
       "        vertical-align: middle;\n",
       "    }\n",
       "\n",
       "    .dataframe tbody tr th {\n",
       "        vertical-align: top;\n",
       "    }\n",
       "\n",
       "    .dataframe thead th {\n",
       "        text-align: right;\n",
       "    }\n",
       "</style>\n",
       "<table border=\"1\" class=\"dataframe\">\n",
       "  <thead>\n",
       "    <tr style=\"text-align: right;\">\n",
       "      <th></th>\n",
       "      <th>mean_fit_time</th>\n",
       "      <th>std_fit_time</th>\n",
       "      <th>mean_score_time</th>\n",
       "      <th>std_score_time</th>\n",
       "      <th>param_booster</th>\n",
       "      <th>param_learning_rate</th>\n",
       "      <th>params</th>\n",
       "      <th>split0_test_score</th>\n",
       "      <th>split1_test_score</th>\n",
       "      <th>split2_test_score</th>\n",
       "      <th>...</th>\n",
       "      <th>mean_test_score</th>\n",
       "      <th>std_test_score</th>\n",
       "      <th>rank_test_score</th>\n",
       "      <th>split0_train_score</th>\n",
       "      <th>split1_train_score</th>\n",
       "      <th>split2_train_score</th>\n",
       "      <th>split3_train_score</th>\n",
       "      <th>split4_train_score</th>\n",
       "      <th>mean_train_score</th>\n",
       "      <th>std_train_score</th>\n",
       "    </tr>\n",
       "  </thead>\n",
       "  <tbody>\n",
       "    <tr>\n",
       "      <th>0</th>\n",
       "      <td>41.226112</td>\n",
       "      <td>0.262069</td>\n",
       "      <td>0.149964</td>\n",
       "      <td>0.015931</td>\n",
       "      <td>gbtree</td>\n",
       "      <td>0.1</td>\n",
       "      <td>{'booster': 'gbtree', 'learning_rate': 0.1}</td>\n",
       "      <td>0.816949</td>\n",
       "      <td>0.819064</td>\n",
       "      <td>0.815269</td>\n",
       "      <td>...</td>\n",
       "      <td>0.815953</td>\n",
       "      <td>0.001861</td>\n",
       "      <td>15</td>\n",
       "      <td>0.831368</td>\n",
       "      <td>0.831773</td>\n",
       "      <td>0.833048</td>\n",
       "      <td>0.833126</td>\n",
       "      <td>0.831010</td>\n",
       "      <td>0.832065</td>\n",
       "      <td>0.000869</td>\n",
       "    </tr>\n",
       "    <tr>\n",
       "      <th>1</th>\n",
       "      <td>35.736620</td>\n",
       "      <td>6.763490</td>\n",
       "      <td>0.133807</td>\n",
       "      <td>0.019042</td>\n",
       "      <td>gbtree</td>\n",
       "      <td>0.2</td>\n",
       "      <td>{'booster': 'gbtree', 'learning_rate': 0.2}</td>\n",
       "      <td>0.829766</td>\n",
       "      <td>0.831570</td>\n",
       "      <td>0.828584</td>\n",
       "      <td>...</td>\n",
       "      <td>0.828459</td>\n",
       "      <td>0.002089</td>\n",
       "      <td>13</td>\n",
       "      <td>0.856645</td>\n",
       "      <td>0.858869</td>\n",
       "      <td>0.859025</td>\n",
       "      <td>0.855665</td>\n",
       "      <td>0.858605</td>\n",
       "      <td>0.857762</td>\n",
       "      <td>0.001355</td>\n",
       "    </tr>\n",
       "    <tr>\n",
       "      <th>2</th>\n",
       "      <td>27.250944</td>\n",
       "      <td>0.108757</td>\n",
       "      <td>0.120998</td>\n",
       "      <td>0.006013</td>\n",
       "      <td>gbtree</td>\n",
       "      <td>0.3</td>\n",
       "      <td>{'booster': 'gbtree', 'learning_rate': 0.3}</td>\n",
       "      <td>0.836672</td>\n",
       "      <td>0.842023</td>\n",
       "      <td>0.836984</td>\n",
       "      <td>...</td>\n",
       "      <td>0.837755</td>\n",
       "      <td>0.002254</td>\n",
       "      <td>11</td>\n",
       "      <td>0.877691</td>\n",
       "      <td>0.879682</td>\n",
       "      <td>0.882482</td>\n",
       "      <td>0.880989</td>\n",
       "      <td>0.879682</td>\n",
       "      <td>0.880105</td>\n",
       "      <td>0.001588</td>\n",
       "    </tr>\n",
       "    <tr>\n",
       "      <th>3</th>\n",
       "      <td>27.227742</td>\n",
       "      <td>0.081426</td>\n",
       "      <td>0.120688</td>\n",
       "      <td>0.006401</td>\n",
       "      <td>gbtree</td>\n",
       "      <td>0.4</td>\n",
       "      <td>{'booster': 'gbtree', 'learning_rate': 0.4}</td>\n",
       "      <td>0.846814</td>\n",
       "      <td>0.846877</td>\n",
       "      <td>0.845757</td>\n",
       "      <td>...</td>\n",
       "      <td>0.846155</td>\n",
       "      <td>0.001507</td>\n",
       "      <td>9</td>\n",
       "      <td>0.899966</td>\n",
       "      <td>0.894802</td>\n",
       "      <td>0.898317</td>\n",
       "      <td>0.897073</td>\n",
       "      <td>0.900261</td>\n",
       "      <td>0.898084</td>\n",
       "      <td>0.002007</td>\n",
       "    </tr>\n",
       "    <tr>\n",
       "      <th>4</th>\n",
       "      <td>27.211424</td>\n",
       "      <td>0.151044</td>\n",
       "      <td>0.119808</td>\n",
       "      <td>0.010232</td>\n",
       "      <td>gbtree</td>\n",
       "      <td>0.5</td>\n",
       "      <td>{'booster': 'gbtree', 'learning_rate': 0.5}</td>\n",
       "      <td>0.851481</td>\n",
       "      <td>0.848432</td>\n",
       "      <td>0.848494</td>\n",
       "      <td>...</td>\n",
       "      <td>0.848395</td>\n",
       "      <td>0.002396</td>\n",
       "      <td>7</td>\n",
       "      <td>0.909408</td>\n",
       "      <td>0.905037</td>\n",
       "      <td>0.912208</td>\n",
       "      <td>0.912332</td>\n",
       "      <td>0.909423</td>\n",
       "      <td>0.909681</td>\n",
       "      <td>0.002650</td>\n",
       "    </tr>\n",
       "  </tbody>\n",
       "</table>\n",
       "<p>5 rows × 22 columns</p>\n",
       "</div>"
      ],
      "text/plain": [
       "   mean_fit_time  std_fit_time  mean_score_time  std_score_time param_booster  \\\n",
       "0      41.226112      0.262069         0.149964        0.015931        gbtree   \n",
       "1      35.736620      6.763490         0.133807        0.019042        gbtree   \n",
       "2      27.250944      0.108757         0.120998        0.006013        gbtree   \n",
       "3      27.227742      0.081426         0.120688        0.006401        gbtree   \n",
       "4      27.211424      0.151044         0.119808        0.010232        gbtree   \n",
       "\n",
       "  param_learning_rate                                       params  \\\n",
       "0                 0.1  {'booster': 'gbtree', 'learning_rate': 0.1}   \n",
       "1                 0.2  {'booster': 'gbtree', 'learning_rate': 0.2}   \n",
       "2                 0.3  {'booster': 'gbtree', 'learning_rate': 0.3}   \n",
       "3                 0.4  {'booster': 'gbtree', 'learning_rate': 0.4}   \n",
       "4                 0.5  {'booster': 'gbtree', 'learning_rate': 0.5}   \n",
       "\n",
       "   split0_test_score  split1_test_score  split2_test_score  ...  \\\n",
       "0           0.816949           0.819064           0.815269  ...   \n",
       "1           0.829766           0.831570           0.828584  ...   \n",
       "2           0.836672           0.842023           0.836984  ...   \n",
       "3           0.846814           0.846877           0.845757  ...   \n",
       "4           0.851481           0.848432           0.848494  ...   \n",
       "\n",
       "   mean_test_score  std_test_score  rank_test_score  split0_train_score  \\\n",
       "0         0.815953        0.001861               15            0.831368   \n",
       "1         0.828459        0.002089               13            0.856645   \n",
       "2         0.837755        0.002254               11            0.877691   \n",
       "3         0.846155        0.001507                9            0.899966   \n",
       "4         0.848395        0.002396                7            0.909408   \n",
       "\n",
       "   split1_train_score  split2_train_score  split3_train_score  \\\n",
       "0            0.831773            0.833048            0.833126   \n",
       "1            0.858869            0.859025            0.855665   \n",
       "2            0.879682            0.882482            0.880989   \n",
       "3            0.894802            0.898317            0.897073   \n",
       "4            0.905037            0.912208            0.912332   \n",
       "\n",
       "   split4_train_score  mean_train_score  std_train_score  \n",
       "0            0.831010          0.832065         0.000869  \n",
       "1            0.858605          0.857762         0.001355  \n",
       "2            0.879682          0.880105         0.001588  \n",
       "3            0.900261          0.898084         0.002007  \n",
       "4            0.909423          0.909681         0.002650  \n",
       "\n",
       "[5 rows x 22 columns]"
      ]
     },
     "execution_count": 116,
     "metadata": {},
     "output_type": "execute_result"
    }
   ],
   "source": [
    "result.head()"
   ]
  },
  {
   "cell_type": "code",
   "execution_count": 117,
   "metadata": {},
   "outputs": [],
   "source": [
    "# plot the result"
   ]
  },
  {
   "cell_type": "code",
   "execution_count": 122,
   "metadata": {},
   "outputs": [],
   "source": [
    "# plt.figure(figsize=(10,10))\n",
    "# plt.plot(result['param_learning_rate'], result['mean_train_score'])\n",
    "# plt.plot(result['param_learning_rate'], result['mean_test_score'])"
   ]
  },
  {
   "cell_type": "code",
   "execution_count": null,
   "metadata": {},
   "outputs": [],
   "source": []
  },
  {
   "cell_type": "code",
   "execution_count": 120,
   "metadata": {},
   "outputs": [
    {
     "data": {
      "text/plain": [
       "<matplotlib.legend.Legend at 0x1d10da387f0>"
      ]
     },
     "execution_count": 120,
     "metadata": {},
     "output_type": "execute_result"
    },
    {
     "data": {
      "image/png": "[encoded data removed]",
      "text/plain": [
       "<Figure size 720x720 with 1 Axes>"
      ]
     },
     "metadata": {
      "needs_background": "light"
     },
     "output_type": "display_data"
    }
   ],
   "source": [
    "plt.figure(figsize=(10,10))\n",
    "plt.plot(result.groupby('param_learning_rate').mean()['mean_train_score'], label='Training score')\n",
    "plt.plot(result.groupby('param_learning_rate').mean()['mean_test_score'], label = 'Test score')\n",
    "plt.xlabel('Learning Rate')\n",
    "plt.ylabel('Score')\n",
    "plt.legend()"
   ]
  },
  {
   "cell_type": "code",
   "execution_count": 123,
   "metadata": {},
   "outputs": [
    {
     "data": {
      "text/plain": [
       "{'booster': 'gbtree', 'learning_rate': 0.7}"
      ]
     },
     "execution_count": 123,
     "metadata": {},
     "output_type": "execute_result"
    }
   ],
   "source": [
    "gridCV.best_params_"
   ]
  },
  {
   "cell_type": "code",
   "execution_count": 124,
   "metadata": {},
   "outputs": [],
   "source": [
    "xgb_final = XGBClassifier(objective='binary:logistic', learning_rate=0.7, booster='gbtree')"
   ]
  },
  {
   "cell_type": "code",
   "execution_count": 125,
   "metadata": {},
   "outputs": [
    {
     "data": {
      "text/plain": [
       "XGBClassifier(base_score=0.5, booster='gbtree', colsample_bylevel=1,\n",
       "              colsample_bynode=1, colsample_bytree=1, gamma=0, gpu_id=-1,\n",
       "              importance_type='gain', interaction_constraints='',\n",
       "              learning_rate=0.7, max_delta_step=0, max_depth=6,\n",
       "              min_child_weight=1, missing=nan, monotone_constraints='()',\n",
       "              n_estimators=100, n_jobs=0, num_parallel_tree=1, random_state=0,\n",
       "              reg_alpha=0, reg_lambda=1, scale_pos_weight=1, subsample=1,\n",
       "              tree_method='exact', validate_parameters=1, verbosity=None)"
      ]
     },
     "execution_count": 125,
     "metadata": {},
     "output_type": "execute_result"
    }
   ],
   "source": [
    "xgb_final.fit(X_train, y_train)"
   ]
  },
  {
   "cell_type": "code",
   "execution_count": 126,
   "metadata": {},
   "outputs": [],
   "source": [
    "y_pred_final = xgb_final.predict(X_test)"
   ]
  },
  {
   "cell_type": "code",
   "execution_count": 127,
   "metadata": {},
   "outputs": [],
   "source": [
    "y_pred_train = xgb_final.predict(X_train)"
   ]
  },
  {
   "cell_type": "code",
   "execution_count": 128,
   "metadata": {},
   "outputs": [
    {
     "name": "stdout",
     "output_type": "stream",
     "text": [
      "0.8611788617886179\n"
     ]
    }
   ],
   "source": [
    "print(accuracy_score(y_test, y_pred_final))"
   ]
  },
  {
   "cell_type": "code",
   "execution_count": 129,
   "metadata": {},
   "outputs": [
    {
     "name": "stdout",
     "output_type": "stream",
     "text": [
      "0.8604535769533873\n"
     ]
    }
   ],
   "source": [
    "print(f1_score(y_test, y_pred_final))"
   ]
  },
  {
   "cell_type": "code",
   "execution_count": 130,
   "metadata": {},
   "outputs": [
    {
     "name": "stdout",
     "output_type": "stream",
     "text": [
      "0.9266923842707815\n"
     ]
    }
   ],
   "source": [
    "print(accuracy_score(y_train, y_pred_train))"
   ]
  },
  {
   "cell_type": "code",
   "execution_count": 131,
   "metadata": {},
   "outputs": [
    {
     "name": "stdout",
     "output_type": "stream",
     "text": [
      "0.9276227685427494\n"
     ]
    }
   ],
   "source": [
    "print(f1_score(y_train, y_pred_train))"
   ]
  },
  {
   "cell_type": "code",
   "execution_count": null,
   "metadata": {},
   "outputs": [],
   "source": []
  }
 ],
 "metadata": {
  "kernelspec": {
   "display_name": "Python 3",
   "language": "python",
   "name": "python3"
  },
  "language_info": {
   "codemirror_mode": {
    "name": "ipython",
    "version": 3
   },
   "file_extension": ".py",
   "mimetype": "text/x-python",
   "name": "python",
   "nbconvert_exporter": "python",
   "pygments_lexer": "ipython3",
   "version": "3.8.3"
  }
 },
 "nbformat": 4,
 "nbformat_minor": 4
}
