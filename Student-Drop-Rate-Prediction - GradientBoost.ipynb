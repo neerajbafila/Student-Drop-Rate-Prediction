{
 "cells": [
  {
   "cell_type": "code",
   "execution_count": 1,
   "metadata": {},
   "outputs": [],
   "source": [
    "import pandas as pd\n",
    "import numpy as np\n",
    "import datetime\n",
    "import matplotlib.pyplot as plt\n",
    "import seaborn as sns"
   ]
  },
  {
   "cell_type": "code",
   "execution_count": 2,
   "metadata": {},
   "outputs": [],
   "source": [
    "#https://www.kaggle.com/c/mooc-dropout-prediction-17/data"
   ]
  },
  {
   "cell_type": "code",
   "execution_count": 2,
   "metadata": {},
   "outputs": [],
   "source": [
    "data = pd.read_csv('MOOC_Visual.csv', parse_dates=['startdate', 'enddate'])"
   ]
  },
  {
   "cell_type": "code",
   "execution_count": 3,
   "metadata": {},
   "outputs": [
    {
     "name": "stdout",
     "output_type": "stream",
     "text": [
      "<class 'pandas.core.frame.DataFrame'>\n",
      "RangeIndex: 72325 entries, 0 to 72324\n",
      "Data columns (total 25 columns):\n",
      " #   Column            Non-Null Count  Dtype         \n",
      "---  ------            --------------  -----         \n",
      " 0   enrollment_id     72325 non-null  int64         \n",
      " 1   startdate         72325 non-null  datetime64[ns]\n",
      " 2   enddate           72325 non-null  datetime64[ns]\n",
      " 3   access            72325 non-null  int64         \n",
      " 4   discussion        72325 non-null  int64         \n",
      " 5   navigate          72325 non-null  int64         \n",
      " 6   page_close        72325 non-null  int64         \n",
      " 7   problem           72325 non-null  int64         \n",
      " 8   video             72325 non-null  int64         \n",
      " 9   wiki              72325 non-null  int64         \n",
      " 10  proccess_period   72325 non-null  float64       \n",
      " 11  present_days      72325 non-null  int64         \n",
      " 12  effective_time    72325 non-null  float64       \n",
      " 13  Friday            72325 non-null  int64         \n",
      " 14  Monday            72325 non-null  int64         \n",
      " 15  Saturday          72325 non-null  int64         \n",
      " 16  Sunday            72325 non-null  int64         \n",
      " 17  Thursday          72325 non-null  int64         \n",
      " 18  Tuesday           72325 non-null  int64         \n",
      " 19  Wednesday         72325 non-null  int64         \n",
      " 20  holidays          72325 non-null  int64         \n",
      " 21  course_enroll     72325 non-null  int64         \n",
      " 22  user_enroll       72325 non-null  int64         \n",
      " 23  course_drop_rate  72325 non-null  float64       \n",
      " 24  dropout_prob      72325 non-null  int64         \n",
      "dtypes: datetime64[ns](2), float64(3), int64(20)\n",
      "memory usage: 13.8 MB\n"
     ]
    }
   ],
   "source": [
    "data.info()"
   ]
  },
  {
   "cell_type": "code",
   "execution_count": 4,
   "metadata": {},
   "outputs": [
    {
     "data": {
      "text/plain": [
       "enrollment_id       0\n",
       "startdate           0\n",
       "enddate             0\n",
       "access              0\n",
       "discussion          0\n",
       "navigate            0\n",
       "page_close          0\n",
       "problem             0\n",
       "video               0\n",
       "wiki                0\n",
       "proccess_period     0\n",
       "present_days        0\n",
       "effective_time      0\n",
       "Friday              0\n",
       "Monday              0\n",
       "Saturday            0\n",
       "Sunday              0\n",
       "Thursday            0\n",
       "Tuesday             0\n",
       "Wednesday           0\n",
       "holidays            0\n",
       "course_enroll       0\n",
       "user_enroll         0\n",
       "course_drop_rate    0\n",
       "dropout_prob        0\n",
       "dtype: int64"
      ]
     },
     "execution_count": 4,
     "metadata": {},
     "output_type": "execute_result"
    }
   ],
   "source": [
    "data.isnull().sum()"
   ]
  },
  {
   "cell_type": "code",
   "execution_count": 5,
   "metadata": {},
   "outputs": [
    {
     "data": {
      "text/html": [
       "<div>\n",
       "<style scoped>\n",
       "    .dataframe tbody tr th:only-of-type {\n",
       "        vertical-align: middle;\n",
       "    }\n",
       "\n",
       "    .dataframe tbody tr th {\n",
       "        vertical-align: top;\n",
       "    }\n",
       "\n",
       "    .dataframe thead th {\n",
       "        text-align: right;\n",
       "    }\n",
       "</style>\n",
       "<table border=\"1\" class=\"dataframe\">\n",
       "  <thead>\n",
       "    <tr style=\"text-align: right;\">\n",
       "      <th></th>\n",
       "      <th>enrollment_id</th>\n",
       "      <th>access</th>\n",
       "      <th>discussion</th>\n",
       "      <th>navigate</th>\n",
       "      <th>page_close</th>\n",
       "      <th>problem</th>\n",
       "      <th>video</th>\n",
       "      <th>wiki</th>\n",
       "      <th>proccess_period</th>\n",
       "      <th>present_days</th>\n",
       "      <th>...</th>\n",
       "      <th>Saturday</th>\n",
       "      <th>Sunday</th>\n",
       "      <th>Thursday</th>\n",
       "      <th>Tuesday</th>\n",
       "      <th>Wednesday</th>\n",
       "      <th>holidays</th>\n",
       "      <th>course_enroll</th>\n",
       "      <th>user_enroll</th>\n",
       "      <th>course_drop_rate</th>\n",
       "      <th>dropout_prob</th>\n",
       "    </tr>\n",
       "  </thead>\n",
       "  <tbody>\n",
       "    <tr>\n",
       "      <th>count</th>\n",
       "      <td>72325.000000</td>\n",
       "      <td>72325.000000</td>\n",
       "      <td>72325.000000</td>\n",
       "      <td>72325.000000</td>\n",
       "      <td>72325.000000</td>\n",
       "      <td>72325.000000</td>\n",
       "      <td>72325.000000</td>\n",
       "      <td>72325.000000</td>\n",
       "      <td>72325.000000</td>\n",
       "      <td>72325.000000</td>\n",
       "      <td>...</td>\n",
       "      <td>72325.000000</td>\n",
       "      <td>72325.000000</td>\n",
       "      <td>72325.000000</td>\n",
       "      <td>72325.000000</td>\n",
       "      <td>72325.00000</td>\n",
       "      <td>72325.000000</td>\n",
       "      <td>72325.000000</td>\n",
       "      <td>72325.000000</td>\n",
       "      <td>72325.000000</td>\n",
       "      <td>72325.000000</td>\n",
       "    </tr>\n",
       "    <tr>\n",
       "      <th>mean</th>\n",
       "      <td>36163.000000</td>\n",
       "      <td>25.707045</td>\n",
       "      <td>5.247992</td>\n",
       "      <td>8.330052</td>\n",
       "      <td>10.182966</td>\n",
       "      <td>10.446429</td>\n",
       "      <td>6.566678</td>\n",
       "      <td>0.741652</td>\n",
       "      <td>5.790234</td>\n",
       "      <td>2.662067</td>\n",
       "      <td>...</td>\n",
       "      <td>0.328033</td>\n",
       "      <td>0.343173</td>\n",
       "      <td>0.394940</td>\n",
       "      <td>0.409139</td>\n",
       "      <td>0.39870</td>\n",
       "      <td>0.095099</td>\n",
       "      <td>5618.856772</td>\n",
       "      <td>2.460242</td>\n",
       "      <td>0.793640</td>\n",
       "      <td>0.793640</td>\n",
       "    </tr>\n",
       "    <tr>\n",
       "      <th>std</th>\n",
       "      <td>20878.573447</td>\n",
       "      <td>54.679282</td>\n",
       "      <td>28.351693</td>\n",
       "      <td>12.641069</td>\n",
       "      <td>20.552585</td>\n",
       "      <td>34.335217</td>\n",
       "      <td>14.662946</td>\n",
       "      <td>3.503804</td>\n",
       "      <td>8.966359</td>\n",
       "      <td>3.093727</td>\n",
       "      <td>...</td>\n",
       "      <td>0.627570</td>\n",
       "      <td>0.649591</td>\n",
       "      <td>0.693014</td>\n",
       "      <td>0.711455</td>\n",
       "      <td>0.68801</td>\n",
       "      <td>0.293918</td>\n",
       "      <td>3686.987244</td>\n",
       "      <td>2.381182</td>\n",
       "      <td>0.066570</td>\n",
       "      <td>0.404695</td>\n",
       "    </tr>\n",
       "    <tr>\n",
       "      <th>min</th>\n",
       "      <td>1.000000</td>\n",
       "      <td>0.000000</td>\n",
       "      <td>0.000000</td>\n",
       "      <td>0.000000</td>\n",
       "      <td>0.000000</td>\n",
       "      <td>0.000000</td>\n",
       "      <td>0.000000</td>\n",
       "      <td>0.000000</td>\n",
       "      <td>0.000000</td>\n",
       "      <td>1.000000</td>\n",
       "      <td>...</td>\n",
       "      <td>0.000000</td>\n",
       "      <td>0.000000</td>\n",
       "      <td>0.000000</td>\n",
       "      <td>0.000000</td>\n",
       "      <td>0.00000</td>\n",
       "      <td>0.000000</td>\n",
       "      <td>645.000000</td>\n",
       "      <td>1.000000</td>\n",
       "      <td>0.666866</td>\n",
       "      <td>0.000000</td>\n",
       "    </tr>\n",
       "    <tr>\n",
       "      <th>25%</th>\n",
       "      <td>18082.000000</td>\n",
       "      <td>1.000000</td>\n",
       "      <td>0.000000</td>\n",
       "      <td>2.000000</td>\n",
       "      <td>0.000000</td>\n",
       "      <td>0.000000</td>\n",
       "      <td>0.000000</td>\n",
       "      <td>0.000000</td>\n",
       "      <td>0.001204</td>\n",
       "      <td>1.000000</td>\n",
       "      <td>...</td>\n",
       "      <td>0.000000</td>\n",
       "      <td>0.000000</td>\n",
       "      <td>0.000000</td>\n",
       "      <td>0.000000</td>\n",
       "      <td>0.00000</td>\n",
       "      <td>0.000000</td>\n",
       "      <td>2151.000000</td>\n",
       "      <td>1.000000</td>\n",
       "      <td>0.763524</td>\n",
       "      <td>1.000000</td>\n",
       "    </tr>\n",
       "    <tr>\n",
       "      <th>50%</th>\n",
       "      <td>36163.000000</td>\n",
       "      <td>6.000000</td>\n",
       "      <td>0.000000</td>\n",
       "      <td>4.000000</td>\n",
       "      <td>2.000000</td>\n",
       "      <td>0.000000</td>\n",
       "      <td>1.000000</td>\n",
       "      <td>0.000000</td>\n",
       "      <td>0.045914</td>\n",
       "      <td>1.000000</td>\n",
       "      <td>...</td>\n",
       "      <td>0.000000</td>\n",
       "      <td>0.000000</td>\n",
       "      <td>0.000000</td>\n",
       "      <td>0.000000</td>\n",
       "      <td>0.00000</td>\n",
       "      <td>0.000000</td>\n",
       "      <td>4684.000000</td>\n",
       "      <td>2.000000</td>\n",
       "      <td>0.799671</td>\n",
       "      <td>1.000000</td>\n",
       "    </tr>\n",
       "    <tr>\n",
       "      <th>75%</th>\n",
       "      <td>54244.000000</td>\n",
       "      <td>26.000000</td>\n",
       "      <td>2.000000</td>\n",
       "      <td>10.000000</td>\n",
       "      <td>9.000000</td>\n",
       "      <td>6.000000</td>\n",
       "      <td>6.000000</td>\n",
       "      <td>1.000000</td>\n",
       "      <td>9.932766</td>\n",
       "      <td>3.000000</td>\n",
       "      <td>...</td>\n",
       "      <td>1.000000</td>\n",
       "      <td>1.000000</td>\n",
       "      <td>1.000000</td>\n",
       "      <td>1.000000</td>\n",
       "      <td>1.00000</td>\n",
       "      <td>0.000000</td>\n",
       "      <td>9382.000000</td>\n",
       "      <td>3.000000</td>\n",
       "      <td>0.836914</td>\n",
       "      <td>1.000000</td>\n",
       "    </tr>\n",
       "    <tr>\n",
       "      <th>max</th>\n",
       "      <td>72325.000000</td>\n",
       "      <td>3659.000000</td>\n",
       "      <td>1930.000000</td>\n",
       "      <td>409.000000</td>\n",
       "      <td>413.000000</td>\n",
       "      <td>1014.000000</td>\n",
       "      <td>536.000000</td>\n",
       "      <td>243.000000</td>\n",
       "      <td>29.987014</td>\n",
       "      <td>30.000000</td>\n",
       "      <td>...</td>\n",
       "      <td>5.000000</td>\n",
       "      <td>5.000000</td>\n",
       "      <td>5.000000</td>\n",
       "      <td>5.000000</td>\n",
       "      <td>5.00000</td>\n",
       "      <td>2.000000</td>\n",
       "      <td>12004.000000</td>\n",
       "      <td>27.000000</td>\n",
       "      <td>0.938356</td>\n",
       "      <td>1.000000</td>\n",
       "    </tr>\n",
       "  </tbody>\n",
       "</table>\n",
       "<p>8 rows × 23 columns</p>\n",
       "</div>"
      ],
      "text/plain": [
       "       enrollment_id        access    discussion      navigate    page_close  \\\n",
       "count   72325.000000  72325.000000  72325.000000  72325.000000  72325.000000   \n",
       "mean    36163.000000     25.707045      5.247992      8.330052     10.182966   \n",
       "std     20878.573447     54.679282     28.351693     12.641069     20.552585   \n",
       "min         1.000000      0.000000      0.000000      0.000000      0.000000   \n",
       "25%     18082.000000      1.000000      0.000000      2.000000      0.000000   \n",
       "50%     36163.000000      6.000000      0.000000      4.000000      2.000000   \n",
       "75%     54244.000000     26.000000      2.000000     10.000000      9.000000   \n",
       "max     72325.000000   3659.000000   1930.000000    409.000000    413.000000   \n",
       "\n",
       "            problem         video          wiki  proccess_period  \\\n",
       "count  72325.000000  72325.000000  72325.000000     72325.000000   \n",
       "mean      10.446429      6.566678      0.741652         5.790234   \n",
       "std       34.335217     14.662946      3.503804         8.966359   \n",
       "min        0.000000      0.000000      0.000000         0.000000   \n",
       "25%        0.000000      0.000000      0.000000         0.001204   \n",
       "50%        0.000000      1.000000      0.000000         0.045914   \n",
       "75%        6.000000      6.000000      1.000000         9.932766   \n",
       "max     1014.000000    536.000000    243.000000        29.987014   \n",
       "\n",
       "       present_days  ...      Saturday        Sunday      Thursday  \\\n",
       "count  72325.000000  ...  72325.000000  72325.000000  72325.000000   \n",
       "mean       2.662067  ...      0.328033      0.343173      0.394940   \n",
       "std        3.093727  ...      0.627570      0.649591      0.693014   \n",
       "min        1.000000  ...      0.000000      0.000000      0.000000   \n",
       "25%        1.000000  ...      0.000000      0.000000      0.000000   \n",
       "50%        1.000000  ...      0.000000      0.000000      0.000000   \n",
       "75%        3.000000  ...      1.000000      1.000000      1.000000   \n",
       "max       30.000000  ...      5.000000      5.000000      5.000000   \n",
       "\n",
       "            Tuesday    Wednesday      holidays  course_enroll   user_enroll  \\\n",
       "count  72325.000000  72325.00000  72325.000000   72325.000000  72325.000000   \n",
       "mean       0.409139      0.39870      0.095099    5618.856772      2.460242   \n",
       "std        0.711455      0.68801      0.293918    3686.987244      2.381182   \n",
       "min        0.000000      0.00000      0.000000     645.000000      1.000000   \n",
       "25%        0.000000      0.00000      0.000000    2151.000000      1.000000   \n",
       "50%        0.000000      0.00000      0.000000    4684.000000      2.000000   \n",
       "75%        1.000000      1.00000      0.000000    9382.000000      3.000000   \n",
       "max        5.000000      5.00000      2.000000   12004.000000     27.000000   \n",
       "\n",
       "       course_drop_rate  dropout_prob  \n",
       "count      72325.000000  72325.000000  \n",
       "mean           0.793640      0.793640  \n",
       "std            0.066570      0.404695  \n",
       "min            0.666866      0.000000  \n",
       "25%            0.763524      1.000000  \n",
       "50%            0.799671      1.000000  \n",
       "75%            0.836914      1.000000  \n",
       "max            0.938356      1.000000  \n",
       "\n",
       "[8 rows x 23 columns]"
      ]
     },
     "execution_count": 5,
     "metadata": {},
     "output_type": "execute_result"
    }
   ],
   "source": [
    "data.describe()"
   ]
  },
  {
   "cell_type": "code",
   "execution_count": 6,
   "metadata": {},
   "outputs": [
    {
     "data": {
      "text/html": [
       "<div>\n",
       "<style scoped>\n",
       "    .dataframe tbody tr th:only-of-type {\n",
       "        vertical-align: middle;\n",
       "    }\n",
       "\n",
       "    .dataframe tbody tr th {\n",
       "        vertical-align: top;\n",
       "    }\n",
       "\n",
       "    .dataframe thead th {\n",
       "        text-align: right;\n",
       "    }\n",
       "</style>\n",
       "<table border=\"1\" class=\"dataframe\">\n",
       "  <thead>\n",
       "    <tr style=\"text-align: right;\">\n",
       "      <th></th>\n",
       "      <th>enrollment_id</th>\n",
       "      <th>startdate</th>\n",
       "      <th>enddate</th>\n",
       "      <th>access</th>\n",
       "      <th>discussion</th>\n",
       "      <th>navigate</th>\n",
       "      <th>page_close</th>\n",
       "      <th>problem</th>\n",
       "      <th>video</th>\n",
       "      <th>wiki</th>\n",
       "      <th>...</th>\n",
       "      <th>Saturday</th>\n",
       "      <th>Sunday</th>\n",
       "      <th>Thursday</th>\n",
       "      <th>Tuesday</th>\n",
       "      <th>Wednesday</th>\n",
       "      <th>holidays</th>\n",
       "      <th>course_enroll</th>\n",
       "      <th>user_enroll</th>\n",
       "      <th>course_drop_rate</th>\n",
       "      <th>dropout_prob</th>\n",
       "    </tr>\n",
       "  </thead>\n",
       "  <tbody>\n",
       "    <tr>\n",
       "      <th>0</th>\n",
       "      <td>1</td>\n",
       "      <td>2014-05-31</td>\n",
       "      <td>2014-06-01</td>\n",
       "      <td>27</td>\n",
       "      <td>0</td>\n",
       "      <td>8</td>\n",
       "      <td>0</td>\n",
       "      <td>79</td>\n",
       "      <td>0</td>\n",
       "      <td>0</td>\n",
       "      <td>...</td>\n",
       "      <td>1</td>\n",
       "      <td>1</td>\n",
       "      <td>0</td>\n",
       "      <td>0</td>\n",
       "      <td>0</td>\n",
       "      <td>0</td>\n",
       "      <td>4684</td>\n",
       "      <td>1</td>\n",
       "      <td>0.826534</td>\n",
       "      <td>1</td>\n",
       "    </tr>\n",
       "    <tr>\n",
       "      <th>1</th>\n",
       "      <td>2</td>\n",
       "      <td>2014-06-04</td>\n",
       "      <td>2014-06-04</td>\n",
       "      <td>7</td>\n",
       "      <td>4</td>\n",
       "      <td>3</td>\n",
       "      <td>4</td>\n",
       "      <td>0</td>\n",
       "      <td>3</td>\n",
       "      <td>1</td>\n",
       "      <td>...</td>\n",
       "      <td>0</td>\n",
       "      <td>0</td>\n",
       "      <td>0</td>\n",
       "      <td>0</td>\n",
       "      <td>1</td>\n",
       "      <td>0</td>\n",
       "      <td>7775</td>\n",
       "      <td>1</td>\n",
       "      <td>0.836914</td>\n",
       "      <td>1</td>\n",
       "    </tr>\n",
       "    <tr>\n",
       "      <th>2</th>\n",
       "      <td>3</td>\n",
       "      <td>2014-06-04</td>\n",
       "      <td>2014-06-08</td>\n",
       "      <td>34</td>\n",
       "      <td>1</td>\n",
       "      <td>6</td>\n",
       "      <td>7</td>\n",
       "      <td>0</td>\n",
       "      <td>9</td>\n",
       "      <td>0</td>\n",
       "      <td>...</td>\n",
       "      <td>1</td>\n",
       "      <td>1</td>\n",
       "      <td>1</td>\n",
       "      <td>0</td>\n",
       "      <td>1</td>\n",
       "      <td>0</td>\n",
       "      <td>3005</td>\n",
       "      <td>2</td>\n",
       "      <td>0.868481</td>\n",
       "      <td>0</td>\n",
       "    </tr>\n",
       "    <tr>\n",
       "      <th>3</th>\n",
       "      <td>4</td>\n",
       "      <td>2014-06-12</td>\n",
       "      <td>2014-06-13</td>\n",
       "      <td>54</td>\n",
       "      <td>4</td>\n",
       "      <td>6</td>\n",
       "      <td>46</td>\n",
       "      <td>21</td>\n",
       "      <td>31</td>\n",
       "      <td>1</td>\n",
       "      <td>...</td>\n",
       "      <td>0</td>\n",
       "      <td>0</td>\n",
       "      <td>1</td>\n",
       "      <td>0</td>\n",
       "      <td>0</td>\n",
       "      <td>0</td>\n",
       "      <td>2981</td>\n",
       "      <td>2</td>\n",
       "      <td>0.799671</td>\n",
       "      <td>1</td>\n",
       "    </tr>\n",
       "    <tr>\n",
       "      <th>4</th>\n",
       "      <td>5</td>\n",
       "      <td>2014-07-01</td>\n",
       "      <td>2014-07-01</td>\n",
       "      <td>0</td>\n",
       "      <td>0</td>\n",
       "      <td>2</td>\n",
       "      <td>0</td>\n",
       "      <td>0</td>\n",
       "      <td>0</td>\n",
       "      <td>0</td>\n",
       "      <td>...</td>\n",
       "      <td>0</td>\n",
       "      <td>0</td>\n",
       "      <td>0</td>\n",
       "      <td>1</td>\n",
       "      <td>0</td>\n",
       "      <td>0</td>\n",
       "      <td>10322</td>\n",
       "      <td>1</td>\n",
       "      <td>0.695925</td>\n",
       "      <td>1</td>\n",
       "    </tr>\n",
       "  </tbody>\n",
       "</table>\n",
       "<p>5 rows × 25 columns</p>\n",
       "</div>"
      ],
      "text/plain": [
       "   enrollment_id  startdate    enddate  access  discussion  navigate  \\\n",
       "0              1 2014-05-31 2014-06-01      27           0         8   \n",
       "1              2 2014-06-04 2014-06-04       7           4         3   \n",
       "2              3 2014-06-04 2014-06-08      34           1         6   \n",
       "3              4 2014-06-12 2014-06-13      54           4         6   \n",
       "4              5 2014-07-01 2014-07-01       0           0         2   \n",
       "\n",
       "   page_close  problem  video  wiki  ...  Saturday  Sunday  Thursday  Tuesday  \\\n",
       "0           0       79      0     0  ...         1       1         0        0   \n",
       "1           4        0      3     1  ...         0       0         0        0   \n",
       "2           7        0      9     0  ...         1       1         1        0   \n",
       "3          46       21     31     1  ...         0       0         1        0   \n",
       "4           0        0      0     0  ...         0       0         0        1   \n",
       "\n",
       "   Wednesday  holidays  course_enroll  user_enroll  course_drop_rate  \\\n",
       "0          0         0           4684            1          0.826534   \n",
       "1          1         0           7775            1          0.836914   \n",
       "2          1         0           3005            2          0.868481   \n",
       "3          0         0           2981            2          0.799671   \n",
       "4          0         0          10322            1          0.695925   \n",
       "\n",
       "   dropout_prob  \n",
       "0             1  \n",
       "1             1  \n",
       "2             0  \n",
       "3             1  \n",
       "4             1  \n",
       "\n",
       "[5 rows x 25 columns]"
      ]
     },
     "execution_count": 6,
     "metadata": {},
     "output_type": "execute_result"
    }
   ],
   "source": [
    "data.head()"
   ]
  },
  {
   "cell_type": "code",
   "execution_count": 7,
   "metadata": {},
   "outputs": [
    {
     "data": {
      "text/plain": [
       "1    57400\n",
       "0    14925\n",
       "Name: dropout_prob, dtype: int64"
      ]
     },
     "execution_count": 7,
     "metadata": {},
     "output_type": "execute_result"
    }
   ],
   "source": [
    "data['dropout_prob'].value_counts()"
   ]
  },
  {
   "cell_type": "markdown",
   "metadata": {},
   "source": [
    "#seems dataset is not balance"
   ]
  },
  {
   "cell_type": "code",
   "execution_count": 8,
   "metadata": {},
   "outputs": [
    {
     "data": {
      "text/plain": [
       "(array([7.21e+04, 2.14e+02, 4.00e+00, 5.00e+00, 0.00e+00, 0.00e+00,\n",
       "        0.00e+00, 0.00e+00, 0.00e+00, 2.00e+00]),\n",
       " array([   0. ,  365.9,  731.8, 1097.7, 1463.6, 1829.5, 2195.4, 2561.3,\n",
       "        2927.2, 3293.1, 3659. ]),\n",
       " <a list of 10 Patch objects>)"
      ]
     },
     "execution_count": 8,
     "metadata": {},
     "output_type": "execute_result"
    },
    {
     "data": {
      "image/png": "[encoded data removed]",
      "text/plain": [
       "<Figure size 432x288 with 1 Axes>"
      ]
     },
     "metadata": {
      "needs_background": "light"
     },
     "output_type": "display_data"
    }
   ],
   "source": [
    "plt.hist(data['access'])"
   ]
  },
  {
   "cell_type": "code",
   "execution_count": 9,
   "metadata": {},
   "outputs": [
    {
     "data": {
      "text/plain": [
       "0       17485\n",
       "2        6397\n",
       "3        4002\n",
       "4        3117\n",
       "5        2803\n",
       "        ...  \n",
       "3659        1\n",
       "416         1\n",
       "1438        1\n",
       "669         1\n",
       "447         1\n",
       "Name: access, Length: 511, dtype: int64"
      ]
     },
     "execution_count": 9,
     "metadata": {},
     "output_type": "execute_result"
    }
   ],
   "source": [
    "data['access'].value_counts()"
   ]
  },
  {
   "cell_type": "code",
   "execution_count": 10,
   "metadata": {},
   "outputs": [
    {
     "data": {
      "text/plain": [
       "<matplotlib.axes._subplots.AxesSubplot at 0x25644bd4c40>"
      ]
     },
     "execution_count": 10,
     "metadata": {},
     "output_type": "execute_result"
    },
    {
     "data": {
      "image/png": "[encoded data removed]",
      "text/plain": [
       "<Figure size 432x288 with 1 Axes>"
      ]
     },
     "metadata": {
      "needs_background": "light"
     },
     "output_type": "display_data"
    }
   ],
   "source": [
    "sns.kdeplot(data['access'], color='b', shade=True)"
   ]
  },
  {
   "cell_type": "code",
   "execution_count": 11,
   "metadata": {},
   "outputs": [
    {
     "data": {
      "text/plain": [
       "<matplotlib.axes._subplots.AxesSubplot at 0x25644c59fa0>"
      ]
     },
     "execution_count": 11,
     "metadata": {},
     "output_type": "execute_result"
    },
    {
     "data": {
      "image/png": "[encoded data removed]",
      "text/plain": [
       "<Figure size 432x288 with 1 Axes>"
      ]
     },
     "metadata": {
      "needs_background": "light"
     },
     "output_type": "display_data"
    }
   ],
   "source": [
    "sns.distplot(data['access'], color='b', kde=True)"
   ]
  },
  {
   "cell_type": "code",
   "execution_count": 12,
   "metadata": {},
   "outputs": [
    {
     "data": {
      "text/plain": [
       "<matplotlib.axes._subplots.AxesSubplot at 0x25644d3d430>"
      ]
     },
     "execution_count": 12,
     "metadata": {},
     "output_type": "execute_result"
    },
    {
     "data": {
      "image/png": "[encoded data removed]",
      "text/plain": [
       "<Figure size 432x288 with 1 Axes>"
      ]
     },
     "metadata": {
      "needs_background": "light"
     },
     "output_type": "display_data"
    }
   ],
   "source": [
    "sns.distplot(data['wiki'], color='b', kde=True)"
   ]
  },
  {
   "cell_type": "code",
   "execution_count": 13,
   "metadata": {},
   "outputs": [
    {
     "data": {
      "text/plain": [
       "0      53589\n",
       "1      10299\n",
       "2       3575\n",
       "3       1707\n",
       "4        937\n",
       "       ...  \n",
       "52         1\n",
       "243        1\n",
       "175        1\n",
       "113        1\n",
       "127        1\n",
       "Name: wiki, Length: 84, dtype: int64"
      ]
     },
     "execution_count": 13,
     "metadata": {},
     "output_type": "execute_result"
    }
   ],
   "source": [
    "data['wiki'].value_counts()"
   ]
  },
  {
   "cell_type": "code",
   "execution_count": 14,
   "metadata": {},
   "outputs": [],
   "source": [
    "col = data.columns"
   ]
  },
  {
   "cell_type": "code",
   "execution_count": 15,
   "metadata": {},
   "outputs": [
    {
     "data": {
      "text/plain": [
       "25"
      ]
     },
     "execution_count": 15,
     "metadata": {},
     "output_type": "execute_result"
    }
   ],
   "source": [
    "col.size"
   ]
  },
  {
   "cell_type": "code",
   "execution_count": 16,
   "metadata": {},
   "outputs": [
    {
     "data": {
      "text/plain": [
       "Index(['enrollment_id', 'startdate', 'enddate', 'access', 'discussion',\n",
       "       'navigate', 'page_close', 'problem', 'video', 'wiki', 'proccess_period',\n",
       "       'present_days', 'effective_time', 'Friday', 'Monday', 'Saturday',\n",
       "       'Sunday', 'Thursday', 'Tuesday', 'Wednesday', 'holidays',\n",
       "       'course_enroll', 'user_enroll', 'course_drop_rate', 'dropout_prob'],\n",
       "      dtype='object')"
      ]
     },
     "execution_count": 16,
     "metadata": {},
     "output_type": "execute_result"
    }
   ],
   "source": [
    "col"
   ]
  },
  {
   "cell_type": "code",
   "execution_count": 17,
   "metadata": {},
   "outputs": [
    {
     "name": "stderr",
     "output_type": "stream",
     "text": [
      "C:\\ProgramData\\Anaconda3\\lib\\site-packages\\seaborn\\distributions.py:369: UserWarning: Default bandwidth for data is 0; skipping density estimation.\n",
      "  warnings.warn(msg, UserWarning)\n",
      "C:\\ProgramData\\Anaconda3\\lib\\site-packages\\seaborn\\distributions.py:369: UserWarning: Default bandwidth for data is 0; skipping density estimation.\n",
      "  warnings.warn(msg, UserWarning)\n"
     ]
    },
    {
     "data": {
      "image/png": "[encoded data removed]",
      "text/plain": [
       "<Figure size 1800x2160 with 25 Axes>"
      ]
     },
     "metadata": {
      "needs_background": "light"
     },
     "output_type": "display_data"
    }
   ],
   "source": [
    "plt.figure(figsize=(25,30))\n",
    "plotno=1\n",
    "\n",
    "for i in col:\n",
    "    plt.subplot(13,2,plotno)\n",
    "    sns.distplot(data[i])\n",
    "    plotno +=1\n",
    "    plt.tight_layout()\n"
   ]
  },
  {
   "cell_type": "code",
   "execution_count": 18,
   "metadata": {},
   "outputs": [
    {
     "data": {
      "text/plain": [
       "(57400, 25)"
      ]
     },
     "execution_count": 18,
     "metadata": {},
     "output_type": "execute_result"
    }
   ],
   "source": [
    "data[data['dropout_prob']==1].shape"
   ]
  },
  {
   "cell_type": "code",
   "execution_count": 19,
   "metadata": {},
   "outputs": [
    {
     "data": {
      "text/plain": [
       "(14925, 25)"
      ]
     },
     "execution_count": 19,
     "metadata": {},
     "output_type": "execute_result"
    }
   ],
   "source": [
    "data[data['dropout_prob']==0].shape"
   ]
  },
  {
   "cell_type": "code",
   "execution_count": 20,
   "metadata": {},
   "outputs": [],
   "source": [
    "dropout_prob_majority = data[data['dropout_prob']==1]"
   ]
  },
  {
   "cell_type": "code",
   "execution_count": 21,
   "metadata": {},
   "outputs": [
    {
     "data": {
      "text/plain": [
       "(57400, 25)"
      ]
     },
     "execution_count": 21,
     "metadata": {},
     "output_type": "execute_result"
    }
   ],
   "source": [
    "dropout_prob_majority.shape"
   ]
  },
  {
   "cell_type": "code",
   "execution_count": 22,
   "metadata": {},
   "outputs": [],
   "source": [
    "dropout_prob_minority = data[data['dropout_prob']==0]"
   ]
  },
  {
   "cell_type": "code",
   "execution_count": 24,
   "metadata": {},
   "outputs": [
    {
     "data": {
      "text/plain": [
       "(14925, 25)"
      ]
     },
     "execution_count": 24,
     "metadata": {},
     "output_type": "execute_result"
    }
   ],
   "source": [
    "dropout_prob_minority.shape"
   ]
  },
  {
   "cell_type": "markdown",
   "metadata": {},
   "source": [
    "# balancing Data set using upsampling"
   ]
  },
  {
   "cell_type": "code",
   "execution_count": 23,
   "metadata": {},
   "outputs": [],
   "source": [
    "from sklearn.utils import resample"
   ]
  },
  {
   "cell_type": "code",
   "execution_count": 24,
   "metadata": {},
   "outputs": [],
   "source": [
    "dropout_prob_minority_balanced = resample(dropout_prob_minority, replace=True, n_samples=dropout_prob_majority.shape[0])"
   ]
  },
  {
   "cell_type": "code",
   "execution_count": 25,
   "metadata": {},
   "outputs": [
    {
     "data": {
      "text/html": [
       "<div>\n",
       "<style scoped>\n",
       "    .dataframe tbody tr th:only-of-type {\n",
       "        vertical-align: middle;\n",
       "    }\n",
       "\n",
       "    .dataframe tbody tr th {\n",
       "        vertical-align: top;\n",
       "    }\n",
       "\n",
       "    .dataframe thead th {\n",
       "        text-align: right;\n",
       "    }\n",
       "</style>\n",
       "<table border=\"1\" class=\"dataframe\">\n",
       "  <thead>\n",
       "    <tr style=\"text-align: right;\">\n",
       "      <th></th>\n",
       "      <th>enrollment_id</th>\n",
       "      <th>startdate</th>\n",
       "      <th>enddate</th>\n",
       "      <th>access</th>\n",
       "      <th>discussion</th>\n",
       "      <th>navigate</th>\n",
       "      <th>page_close</th>\n",
       "      <th>problem</th>\n",
       "      <th>video</th>\n",
       "      <th>wiki</th>\n",
       "      <th>...</th>\n",
       "      <th>Saturday</th>\n",
       "      <th>Sunday</th>\n",
       "      <th>Thursday</th>\n",
       "      <th>Tuesday</th>\n",
       "      <th>Wednesday</th>\n",
       "      <th>holidays</th>\n",
       "      <th>course_enroll</th>\n",
       "      <th>user_enroll</th>\n",
       "      <th>course_drop_rate</th>\n",
       "      <th>dropout_prob</th>\n",
       "    </tr>\n",
       "  </thead>\n",
       "  <tbody>\n",
       "    <tr>\n",
       "      <th>39744</th>\n",
       "      <td>39745</td>\n",
       "      <td>2014-07-04</td>\n",
       "      <td>2014-07-09</td>\n",
       "      <td>16</td>\n",
       "      <td>0</td>\n",
       "      <td>4</td>\n",
       "      <td>2</td>\n",
       "      <td>0</td>\n",
       "      <td>1</td>\n",
       "      <td>0</td>\n",
       "      <td>...</td>\n",
       "      <td>0</td>\n",
       "      <td>0</td>\n",
       "      <td>0</td>\n",
       "      <td>0</td>\n",
       "      <td>1</td>\n",
       "      <td>1</td>\n",
       "      <td>10322</td>\n",
       "      <td>1</td>\n",
       "      <td>0.695925</td>\n",
       "      <td>0</td>\n",
       "    </tr>\n",
       "    <tr>\n",
       "      <th>439</th>\n",
       "      <td>440</td>\n",
       "      <td>2014-05-26</td>\n",
       "      <td>2014-06-20</td>\n",
       "      <td>67</td>\n",
       "      <td>13</td>\n",
       "      <td>18</td>\n",
       "      <td>58</td>\n",
       "      <td>21</td>\n",
       "      <td>26</td>\n",
       "      <td>2</td>\n",
       "      <td>...</td>\n",
       "      <td>1</td>\n",
       "      <td>0</td>\n",
       "      <td>1</td>\n",
       "      <td>2</td>\n",
       "      <td>0</td>\n",
       "      <td>1</td>\n",
       "      <td>2796</td>\n",
       "      <td>2</td>\n",
       "      <td>0.666866</td>\n",
       "      <td>0</td>\n",
       "    </tr>\n",
       "    <tr>\n",
       "      <th>4201</th>\n",
       "      <td>4202</td>\n",
       "      <td>2014-07-04</td>\n",
       "      <td>2014-08-01</td>\n",
       "      <td>76</td>\n",
       "      <td>2</td>\n",
       "      <td>35</td>\n",
       "      <td>1</td>\n",
       "      <td>117</td>\n",
       "      <td>1</td>\n",
       "      <td>0</td>\n",
       "      <td>...</td>\n",
       "      <td>1</td>\n",
       "      <td>1</td>\n",
       "      <td>3</td>\n",
       "      <td>3</td>\n",
       "      <td>2</td>\n",
       "      <td>1</td>\n",
       "      <td>1471</td>\n",
       "      <td>8</td>\n",
       "      <td>0.919355</td>\n",
       "      <td>0</td>\n",
       "    </tr>\n",
       "    <tr>\n",
       "      <th>33980</th>\n",
       "      <td>33981</td>\n",
       "      <td>2014-06-15</td>\n",
       "      <td>2014-07-11</td>\n",
       "      <td>122</td>\n",
       "      <td>38</td>\n",
       "      <td>24</td>\n",
       "      <td>70</td>\n",
       "      <td>69</td>\n",
       "      <td>24</td>\n",
       "      <td>2</td>\n",
       "      <td>...</td>\n",
       "      <td>2</td>\n",
       "      <td>3</td>\n",
       "      <td>1</td>\n",
       "      <td>2</td>\n",
       "      <td>1</td>\n",
       "      <td>1</td>\n",
       "      <td>10322</td>\n",
       "      <td>1</td>\n",
       "      <td>0.695925</td>\n",
       "      <td>0</td>\n",
       "    </tr>\n",
       "    <tr>\n",
       "      <th>44004</th>\n",
       "      <td>44005</td>\n",
       "      <td>2013-12-16</td>\n",
       "      <td>2013-12-23</td>\n",
       "      <td>258</td>\n",
       "      <td>12</td>\n",
       "      <td>40</td>\n",
       "      <td>4</td>\n",
       "      <td>52</td>\n",
       "      <td>111</td>\n",
       "      <td>5</td>\n",
       "      <td>...</td>\n",
       "      <td>0</td>\n",
       "      <td>1</td>\n",
       "      <td>1</td>\n",
       "      <td>1</td>\n",
       "      <td>1</td>\n",
       "      <td>0</td>\n",
       "      <td>2392</td>\n",
       "      <td>1</td>\n",
       "      <td>0.779887</td>\n",
       "      <td>0</td>\n",
       "    </tr>\n",
       "    <tr>\n",
       "      <th>...</th>\n",
       "      <td>...</td>\n",
       "      <td>...</td>\n",
       "      <td>...</td>\n",
       "      <td>...</td>\n",
       "      <td>...</td>\n",
       "      <td>...</td>\n",
       "      <td>...</td>\n",
       "      <td>...</td>\n",
       "      <td>...</td>\n",
       "      <td>...</td>\n",
       "      <td>...</td>\n",
       "      <td>...</td>\n",
       "      <td>...</td>\n",
       "      <td>...</td>\n",
       "      <td>...</td>\n",
       "      <td>...</td>\n",
       "      <td>...</td>\n",
       "      <td>...</td>\n",
       "      <td>...</td>\n",
       "      <td>...</td>\n",
       "      <td>...</td>\n",
       "    </tr>\n",
       "    <tr>\n",
       "      <th>48097</th>\n",
       "      <td>48098</td>\n",
       "      <td>2013-11-27</td>\n",
       "      <td>2013-11-28</td>\n",
       "      <td>12</td>\n",
       "      <td>0</td>\n",
       "      <td>15</td>\n",
       "      <td>8</td>\n",
       "      <td>0</td>\n",
       "      <td>8</td>\n",
       "      <td>0</td>\n",
       "      <td>...</td>\n",
       "      <td>0</td>\n",
       "      <td>0</td>\n",
       "      <td>1</td>\n",
       "      <td>0</td>\n",
       "      <td>1</td>\n",
       "      <td>1</td>\n",
       "      <td>1476</td>\n",
       "      <td>2</td>\n",
       "      <td>0.797740</td>\n",
       "      <td>0</td>\n",
       "    </tr>\n",
       "    <tr>\n",
       "      <th>31536</th>\n",
       "      <td>31537</td>\n",
       "      <td>2014-06-17</td>\n",
       "      <td>2014-06-17</td>\n",
       "      <td>8</td>\n",
       "      <td>0</td>\n",
       "      <td>5</td>\n",
       "      <td>3</td>\n",
       "      <td>0</td>\n",
       "      <td>3</td>\n",
       "      <td>1</td>\n",
       "      <td>...</td>\n",
       "      <td>0</td>\n",
       "      <td>0</td>\n",
       "      <td>0</td>\n",
       "      <td>1</td>\n",
       "      <td>0</td>\n",
       "      <td>0</td>\n",
       "      <td>4307</td>\n",
       "      <td>2</td>\n",
       "      <td>0.782592</td>\n",
       "      <td>0</td>\n",
       "    </tr>\n",
       "    <tr>\n",
       "      <th>54221</th>\n",
       "      <td>54222</td>\n",
       "      <td>2014-06-25</td>\n",
       "      <td>2014-06-25</td>\n",
       "      <td>0</td>\n",
       "      <td>0</td>\n",
       "      <td>2</td>\n",
       "      <td>0</td>\n",
       "      <td>0</td>\n",
       "      <td>0</td>\n",
       "      <td>0</td>\n",
       "      <td>...</td>\n",
       "      <td>0</td>\n",
       "      <td>0</td>\n",
       "      <td>0</td>\n",
       "      <td>0</td>\n",
       "      <td>1</td>\n",
       "      <td>0</td>\n",
       "      <td>1235</td>\n",
       "      <td>2</td>\n",
       "      <td>0.813492</td>\n",
       "      <td>0</td>\n",
       "    </tr>\n",
       "    <tr>\n",
       "      <th>21251</th>\n",
       "      <td>21252</td>\n",
       "      <td>2013-12-22</td>\n",
       "      <td>2013-12-22</td>\n",
       "      <td>2</td>\n",
       "      <td>0</td>\n",
       "      <td>1</td>\n",
       "      <td>0</td>\n",
       "      <td>0</td>\n",
       "      <td>1</td>\n",
       "      <td>0</td>\n",
       "      <td>...</td>\n",
       "      <td>0</td>\n",
       "      <td>1</td>\n",
       "      <td>0</td>\n",
       "      <td>0</td>\n",
       "      <td>0</td>\n",
       "      <td>0</td>\n",
       "      <td>12004</td>\n",
       "      <td>2</td>\n",
       "      <td>0.768745</td>\n",
       "      <td>0</td>\n",
       "    </tr>\n",
       "    <tr>\n",
       "      <th>15241</th>\n",
       "      <td>15242</td>\n",
       "      <td>2013-11-18</td>\n",
       "      <td>2013-11-25</td>\n",
       "      <td>145</td>\n",
       "      <td>28</td>\n",
       "      <td>11</td>\n",
       "      <td>31</td>\n",
       "      <td>76</td>\n",
       "      <td>50</td>\n",
       "      <td>0</td>\n",
       "      <td>...</td>\n",
       "      <td>1</td>\n",
       "      <td>1</td>\n",
       "      <td>1</td>\n",
       "      <td>1</td>\n",
       "      <td>1</td>\n",
       "      <td>0</td>\n",
       "      <td>1402</td>\n",
       "      <td>1</td>\n",
       "      <td>0.843447</td>\n",
       "      <td>0</td>\n",
       "    </tr>\n",
       "  </tbody>\n",
       "</table>\n",
       "<p>57400 rows × 25 columns</p>\n",
       "</div>"
      ],
      "text/plain": [
       "       enrollment_id  startdate    enddate  access  discussion  navigate  \\\n",
       "39744          39745 2014-07-04 2014-07-09      16           0         4   \n",
       "439              440 2014-05-26 2014-06-20      67          13        18   \n",
       "4201            4202 2014-07-04 2014-08-01      76           2        35   \n",
       "33980          33981 2014-06-15 2014-07-11     122          38        24   \n",
       "44004          44005 2013-12-16 2013-12-23     258          12        40   \n",
       "...              ...        ...        ...     ...         ...       ...   \n",
       "48097          48098 2013-11-27 2013-11-28      12           0        15   \n",
       "31536          31537 2014-06-17 2014-06-17       8           0         5   \n",
       "54221          54222 2014-06-25 2014-06-25       0           0         2   \n",
       "21251          21252 2013-12-22 2013-12-22       2           0         1   \n",
       "15241          15242 2013-11-18 2013-11-25     145          28        11   \n",
       "\n",
       "       page_close  problem  video  wiki  ...  Saturday  Sunday  Thursday  \\\n",
       "39744           2        0      1     0  ...         0       0         0   \n",
       "439            58       21     26     2  ...         1       0         1   \n",
       "4201            1      117      1     0  ...         1       1         3   \n",
       "33980          70       69     24     2  ...         2       3         1   \n",
       "44004           4       52    111     5  ...         0       1         1   \n",
       "...           ...      ...    ...   ...  ...       ...     ...       ...   \n",
       "48097           8        0      8     0  ...         0       0         1   \n",
       "31536           3        0      3     1  ...         0       0         0   \n",
       "54221           0        0      0     0  ...         0       0         0   \n",
       "21251           0        0      1     0  ...         0       1         0   \n",
       "15241          31       76     50     0  ...         1       1         1   \n",
       "\n",
       "       Tuesday  Wednesday  holidays  course_enroll  user_enroll  \\\n",
       "39744        0          1         1          10322            1   \n",
       "439          2          0         1           2796            2   \n",
       "4201         3          2         1           1471            8   \n",
       "33980        2          1         1          10322            1   \n",
       "44004        1          1         0           2392            1   \n",
       "...        ...        ...       ...            ...          ...   \n",
       "48097        0          1         1           1476            2   \n",
       "31536        1          0         0           4307            2   \n",
       "54221        0          1         0           1235            2   \n",
       "21251        0          0         0          12004            2   \n",
       "15241        1          1         0           1402            1   \n",
       "\n",
       "       course_drop_rate  dropout_prob  \n",
       "39744          0.695925             0  \n",
       "439            0.666866             0  \n",
       "4201           0.919355             0  \n",
       "33980          0.695925             0  \n",
       "44004          0.779887             0  \n",
       "...                 ...           ...  \n",
       "48097          0.797740             0  \n",
       "31536          0.782592             0  \n",
       "54221          0.813492             0  \n",
       "21251          0.768745             0  \n",
       "15241          0.843447             0  \n",
       "\n",
       "[57400 rows x 25 columns]"
      ]
     },
     "execution_count": 25,
     "metadata": {},
     "output_type": "execute_result"
    }
   ],
   "source": [
    "dropout_prob_minority_balanced"
   ]
  },
  {
   "cell_type": "code",
   "execution_count": 26,
   "metadata": {},
   "outputs": [],
   "source": [
    "data_balanced = pd.concat([dropout_prob_majority, dropout_prob_minority_balanced])"
   ]
  },
  {
   "cell_type": "code",
   "execution_count": 27,
   "metadata": {},
   "outputs": [
    {
     "data": {
      "text/html": [
       "<div>\n",
       "<style scoped>\n",
       "    .dataframe tbody tr th:only-of-type {\n",
       "        vertical-align: middle;\n",
       "    }\n",
       "\n",
       "    .dataframe tbody tr th {\n",
       "        vertical-align: top;\n",
       "    }\n",
       "\n",
       "    .dataframe thead th {\n",
       "        text-align: right;\n",
       "    }\n",
       "</style>\n",
       "<table border=\"1\" class=\"dataframe\">\n",
       "  <thead>\n",
       "    <tr style=\"text-align: right;\">\n",
       "      <th></th>\n",
       "      <th>enrollment_id</th>\n",
       "      <th>startdate</th>\n",
       "      <th>enddate</th>\n",
       "      <th>access</th>\n",
       "      <th>discussion</th>\n",
       "      <th>navigate</th>\n",
       "      <th>page_close</th>\n",
       "      <th>problem</th>\n",
       "      <th>video</th>\n",
       "      <th>wiki</th>\n",
       "      <th>...</th>\n",
       "      <th>Saturday</th>\n",
       "      <th>Sunday</th>\n",
       "      <th>Thursday</th>\n",
       "      <th>Tuesday</th>\n",
       "      <th>Wednesday</th>\n",
       "      <th>holidays</th>\n",
       "      <th>course_enroll</th>\n",
       "      <th>user_enroll</th>\n",
       "      <th>course_drop_rate</th>\n",
       "      <th>dropout_prob</th>\n",
       "    </tr>\n",
       "  </thead>\n",
       "  <tbody>\n",
       "    <tr>\n",
       "      <th>0</th>\n",
       "      <td>1</td>\n",
       "      <td>2014-05-31</td>\n",
       "      <td>2014-06-01</td>\n",
       "      <td>27</td>\n",
       "      <td>0</td>\n",
       "      <td>8</td>\n",
       "      <td>0</td>\n",
       "      <td>79</td>\n",
       "      <td>0</td>\n",
       "      <td>0</td>\n",
       "      <td>...</td>\n",
       "      <td>1</td>\n",
       "      <td>1</td>\n",
       "      <td>0</td>\n",
       "      <td>0</td>\n",
       "      <td>0</td>\n",
       "      <td>0</td>\n",
       "      <td>4684</td>\n",
       "      <td>1</td>\n",
       "      <td>0.826534</td>\n",
       "      <td>1</td>\n",
       "    </tr>\n",
       "    <tr>\n",
       "      <th>1</th>\n",
       "      <td>2</td>\n",
       "      <td>2014-06-04</td>\n",
       "      <td>2014-06-04</td>\n",
       "      <td>7</td>\n",
       "      <td>4</td>\n",
       "      <td>3</td>\n",
       "      <td>4</td>\n",
       "      <td>0</td>\n",
       "      <td>3</td>\n",
       "      <td>1</td>\n",
       "      <td>...</td>\n",
       "      <td>0</td>\n",
       "      <td>0</td>\n",
       "      <td>0</td>\n",
       "      <td>0</td>\n",
       "      <td>1</td>\n",
       "      <td>0</td>\n",
       "      <td>7775</td>\n",
       "      <td>1</td>\n",
       "      <td>0.836914</td>\n",
       "      <td>1</td>\n",
       "    </tr>\n",
       "    <tr>\n",
       "      <th>3</th>\n",
       "      <td>4</td>\n",
       "      <td>2014-06-12</td>\n",
       "      <td>2014-06-13</td>\n",
       "      <td>54</td>\n",
       "      <td>4</td>\n",
       "      <td>6</td>\n",
       "      <td>46</td>\n",
       "      <td>21</td>\n",
       "      <td>31</td>\n",
       "      <td>1</td>\n",
       "      <td>...</td>\n",
       "      <td>0</td>\n",
       "      <td>0</td>\n",
       "      <td>1</td>\n",
       "      <td>0</td>\n",
       "      <td>0</td>\n",
       "      <td>0</td>\n",
       "      <td>2981</td>\n",
       "      <td>2</td>\n",
       "      <td>0.799671</td>\n",
       "      <td>1</td>\n",
       "    </tr>\n",
       "    <tr>\n",
       "      <th>4</th>\n",
       "      <td>5</td>\n",
       "      <td>2014-07-01</td>\n",
       "      <td>2014-07-01</td>\n",
       "      <td>0</td>\n",
       "      <td>0</td>\n",
       "      <td>2</td>\n",
       "      <td>0</td>\n",
       "      <td>0</td>\n",
       "      <td>0</td>\n",
       "      <td>0</td>\n",
       "      <td>...</td>\n",
       "      <td>0</td>\n",
       "      <td>0</td>\n",
       "      <td>0</td>\n",
       "      <td>1</td>\n",
       "      <td>0</td>\n",
       "      <td>0</td>\n",
       "      <td>10322</td>\n",
       "      <td>1</td>\n",
       "      <td>0.695925</td>\n",
       "      <td>1</td>\n",
       "    </tr>\n",
       "    <tr>\n",
       "      <th>5</th>\n",
       "      <td>6</td>\n",
       "      <td>2014-07-16</td>\n",
       "      <td>2014-07-16</td>\n",
       "      <td>0</td>\n",
       "      <td>0</td>\n",
       "      <td>1</td>\n",
       "      <td>0</td>\n",
       "      <td>0</td>\n",
       "      <td>0</td>\n",
       "      <td>0</td>\n",
       "      <td>...</td>\n",
       "      <td>0</td>\n",
       "      <td>0</td>\n",
       "      <td>0</td>\n",
       "      <td>0</td>\n",
       "      <td>1</td>\n",
       "      <td>0</td>\n",
       "      <td>1481</td>\n",
       "      <td>2</td>\n",
       "      <td>0.823991</td>\n",
       "      <td>1</td>\n",
       "    </tr>\n",
       "  </tbody>\n",
       "</table>\n",
       "<p>5 rows × 25 columns</p>\n",
       "</div>"
      ],
      "text/plain": [
       "   enrollment_id  startdate    enddate  access  discussion  navigate  \\\n",
       "0              1 2014-05-31 2014-06-01      27           0         8   \n",
       "1              2 2014-06-04 2014-06-04       7           4         3   \n",
       "3              4 2014-06-12 2014-06-13      54           4         6   \n",
       "4              5 2014-07-01 2014-07-01       0           0         2   \n",
       "5              6 2014-07-16 2014-07-16       0           0         1   \n",
       "\n",
       "   page_close  problem  video  wiki  ...  Saturday  Sunday  Thursday  Tuesday  \\\n",
       "0           0       79      0     0  ...         1       1         0        0   \n",
       "1           4        0      3     1  ...         0       0         0        0   \n",
       "3          46       21     31     1  ...         0       0         1        0   \n",
       "4           0        0      0     0  ...         0       0         0        1   \n",
       "5           0        0      0     0  ...         0       0         0        0   \n",
       "\n",
       "   Wednesday  holidays  course_enroll  user_enroll  course_drop_rate  \\\n",
       "0          0         0           4684            1          0.826534   \n",
       "1          1         0           7775            1          0.836914   \n",
       "3          0         0           2981            2          0.799671   \n",
       "4          0         0          10322            1          0.695925   \n",
       "5          1         0           1481            2          0.823991   \n",
       "\n",
       "   dropout_prob  \n",
       "0             1  \n",
       "1             1  \n",
       "3             1  \n",
       "4             1  \n",
       "5             1  \n",
       "\n",
       "[5 rows x 25 columns]"
      ]
     },
     "execution_count": 27,
     "metadata": {},
     "output_type": "execute_result"
    }
   ],
   "source": [
    "data_balanced.head()"
   ]
  },
  {
   "cell_type": "code",
   "execution_count": 28,
   "metadata": {},
   "outputs": [
    {
     "data": {
      "text/plain": [
       "(114800, 25)"
      ]
     },
     "execution_count": 28,
     "metadata": {},
     "output_type": "execute_result"
    }
   ],
   "source": [
    "data_balanced.shape"
   ]
  },
  {
   "cell_type": "code",
   "execution_count": 31,
   "metadata": {},
   "outputs": [],
   "source": [
    "# using PCA for component analysis"
   ]
  },
  {
   "cell_type": "code",
   "execution_count": 29,
   "metadata": {},
   "outputs": [],
   "source": [
    "from sklearn.decomposition import PCA\n",
    "from sklearn.model_selection import train_test_split"
   ]
  },
  {
   "cell_type": "code",
   "execution_count": 30,
   "metadata": {},
   "outputs": [],
   "source": [
    "X = data_balanced.drop(['dropout_prob', 'enrollment_id'], axis=1)"
   ]
  },
  {
   "cell_type": "code",
   "execution_count": 31,
   "metadata": {},
   "outputs": [],
   "source": [
    "y = data_balanced['dropout_prob']"
   ]
  },
  {
   "cell_type": "code",
   "execution_count": null,
   "metadata": {},
   "outputs": [],
   "source": []
  },
  {
   "cell_type": "code",
   "execution_count": 32,
   "metadata": {},
   "outputs": [],
   "source": [
    "X['startdate'] = X['startdate'].map(datetime.datetime.toordinal)"
   ]
  },
  {
   "cell_type": "code",
   "execution_count": 33,
   "metadata": {},
   "outputs": [],
   "source": [
    "X['enddate'] = X['enddate'].map(datetime.datetime.toordinal)"
   ]
  },
  {
   "cell_type": "code",
   "execution_count": 34,
   "metadata": {},
   "outputs": [
    {
     "data": {
      "text/html": [
       "<div>\n",
       "<style scoped>\n",
       "    .dataframe tbody tr th:only-of-type {\n",
       "        vertical-align: middle;\n",
       "    }\n",
       "\n",
       "    .dataframe tbody tr th {\n",
       "        vertical-align: top;\n",
       "    }\n",
       "\n",
       "    .dataframe thead th {\n",
       "        text-align: right;\n",
       "    }\n",
       "</style>\n",
       "<table border=\"1\" class=\"dataframe\">\n",
       "  <thead>\n",
       "    <tr style=\"text-align: right;\">\n",
       "      <th></th>\n",
       "      <th>startdate</th>\n",
       "      <th>enddate</th>\n",
       "      <th>access</th>\n",
       "      <th>discussion</th>\n",
       "      <th>navigate</th>\n",
       "      <th>page_close</th>\n",
       "      <th>problem</th>\n",
       "      <th>video</th>\n",
       "      <th>wiki</th>\n",
       "      <th>proccess_period</th>\n",
       "      <th>...</th>\n",
       "      <th>Monday</th>\n",
       "      <th>Saturday</th>\n",
       "      <th>Sunday</th>\n",
       "      <th>Thursday</th>\n",
       "      <th>Tuesday</th>\n",
       "      <th>Wednesday</th>\n",
       "      <th>holidays</th>\n",
       "      <th>course_enroll</th>\n",
       "      <th>user_enroll</th>\n",
       "      <th>course_drop_rate</th>\n",
       "    </tr>\n",
       "  </thead>\n",
       "  <tbody>\n",
       "    <tr>\n",
       "      <th>0</th>\n",
       "      <td>735384</td>\n",
       "      <td>735385</td>\n",
       "      <td>27</td>\n",
       "      <td>0</td>\n",
       "      <td>8</td>\n",
       "      <td>0</td>\n",
       "      <td>79</td>\n",
       "      <td>0</td>\n",
       "      <td>0</td>\n",
       "      <td>1.053588</td>\n",
       "      <td>...</td>\n",
       "      <td>0</td>\n",
       "      <td>1</td>\n",
       "      <td>1</td>\n",
       "      <td>0</td>\n",
       "      <td>0</td>\n",
       "      <td>0</td>\n",
       "      <td>0</td>\n",
       "      <td>4684</td>\n",
       "      <td>1</td>\n",
       "      <td>0.826534</td>\n",
       "    </tr>\n",
       "    <tr>\n",
       "      <th>1</th>\n",
       "      <td>735388</td>\n",
       "      <td>735388</td>\n",
       "      <td>7</td>\n",
       "      <td>4</td>\n",
       "      <td>3</td>\n",
       "      <td>4</td>\n",
       "      <td>0</td>\n",
       "      <td>3</td>\n",
       "      <td>1</td>\n",
       "      <td>0.016782</td>\n",
       "      <td>...</td>\n",
       "      <td>0</td>\n",
       "      <td>0</td>\n",
       "      <td>0</td>\n",
       "      <td>0</td>\n",
       "      <td>0</td>\n",
       "      <td>1</td>\n",
       "      <td>0</td>\n",
       "      <td>7775</td>\n",
       "      <td>1</td>\n",
       "      <td>0.836914</td>\n",
       "    </tr>\n",
       "    <tr>\n",
       "      <th>3</th>\n",
       "      <td>735396</td>\n",
       "      <td>735397</td>\n",
       "      <td>54</td>\n",
       "      <td>4</td>\n",
       "      <td>6</td>\n",
       "      <td>46</td>\n",
       "      <td>21</td>\n",
       "      <td>31</td>\n",
       "      <td>1</td>\n",
       "      <td>0.766829</td>\n",
       "      <td>...</td>\n",
       "      <td>0</td>\n",
       "      <td>0</td>\n",
       "      <td>0</td>\n",
       "      <td>1</td>\n",
       "      <td>0</td>\n",
       "      <td>0</td>\n",
       "      <td>0</td>\n",
       "      <td>2981</td>\n",
       "      <td>2</td>\n",
       "      <td>0.799671</td>\n",
       "    </tr>\n",
       "    <tr>\n",
       "      <th>4</th>\n",
       "      <td>735415</td>\n",
       "      <td>735415</td>\n",
       "      <td>0</td>\n",
       "      <td>0</td>\n",
       "      <td>2</td>\n",
       "      <td>0</td>\n",
       "      <td>0</td>\n",
       "      <td>0</td>\n",
       "      <td>0</td>\n",
       "      <td>0.000150</td>\n",
       "      <td>...</td>\n",
       "      <td>0</td>\n",
       "      <td>0</td>\n",
       "      <td>0</td>\n",
       "      <td>0</td>\n",
       "      <td>1</td>\n",
       "      <td>0</td>\n",
       "      <td>0</td>\n",
       "      <td>10322</td>\n",
       "      <td>1</td>\n",
       "      <td>0.695925</td>\n",
       "    </tr>\n",
       "    <tr>\n",
       "      <th>5</th>\n",
       "      <td>735430</td>\n",
       "      <td>735430</td>\n",
       "      <td>0</td>\n",
       "      <td>0</td>\n",
       "      <td>1</td>\n",
       "      <td>0</td>\n",
       "      <td>0</td>\n",
       "      <td>0</td>\n",
       "      <td>0</td>\n",
       "      <td>0.000000</td>\n",
       "      <td>...</td>\n",
       "      <td>0</td>\n",
       "      <td>0</td>\n",
       "      <td>0</td>\n",
       "      <td>0</td>\n",
       "      <td>0</td>\n",
       "      <td>1</td>\n",
       "      <td>0</td>\n",
       "      <td>1481</td>\n",
       "      <td>2</td>\n",
       "      <td>0.823991</td>\n",
       "    </tr>\n",
       "  </tbody>\n",
       "</table>\n",
       "<p>5 rows × 23 columns</p>\n",
       "</div>"
      ],
      "text/plain": [
       "   startdate  enddate  access  discussion  navigate  page_close  problem  \\\n",
       "0     735384   735385      27           0         8           0       79   \n",
       "1     735388   735388       7           4         3           4        0   \n",
       "3     735396   735397      54           4         6          46       21   \n",
       "4     735415   735415       0           0         2           0        0   \n",
       "5     735430   735430       0           0         1           0        0   \n",
       "\n",
       "   video  wiki  proccess_period  ...  Monday  Saturday  Sunday  Thursday  \\\n",
       "0      0     0         1.053588  ...       0         1       1         0   \n",
       "1      3     1         0.016782  ...       0         0       0         0   \n",
       "3     31     1         0.766829  ...       0         0       0         1   \n",
       "4      0     0         0.000150  ...       0         0       0         0   \n",
       "5      0     0         0.000000  ...       0         0       0         0   \n",
       "\n",
       "   Tuesday  Wednesday  holidays  course_enroll  user_enroll  course_drop_rate  \n",
       "0        0          0         0           4684            1          0.826534  \n",
       "1        0          1         0           7775            1          0.836914  \n",
       "3        0          0         0           2981            2          0.799671  \n",
       "4        1          0         0          10322            1          0.695925  \n",
       "5        0          1         0           1481            2          0.823991  \n",
       "\n",
       "[5 rows x 23 columns]"
      ]
     },
     "execution_count": 34,
     "metadata": {},
     "output_type": "execute_result"
    }
   ],
   "source": [
    "X.head()"
   ]
  },
  {
   "cell_type": "code",
   "execution_count": 35,
   "metadata": {},
   "outputs": [],
   "source": [
    "from sklearn.preprocessing import StandardScaler"
   ]
  },
  {
   "cell_type": "code",
   "execution_count": 36,
   "metadata": {},
   "outputs": [],
   "source": [
    "st = StandardScaler()"
   ]
  },
  {
   "cell_type": "code",
   "execution_count": 37,
   "metadata": {},
   "outputs": [],
   "source": [
    "X = st.fit_transform(X)"
   ]
  },
  {
   "cell_type": "code",
   "execution_count": 38,
   "metadata": {},
   "outputs": [
    {
     "data": {
      "text/plain": [
       "array([[ 0.63735153,  0.54567405, -0.23297431, ..., -0.3299871 ,\n",
       "        -0.62477134,  0.61560118],\n",
       "       [ 0.6823218 ,  0.57950677, -0.50933253, ...,  0.50431154,\n",
       "        -0.62477134,  0.77214708],\n",
       "       [ 0.77226234,  0.68100495,  0.14010928, ..., -0.78964759,\n",
       "        -0.24402555,  0.21046866],\n",
       "       ...,\n",
       "       [ 0.91841571,  0.81633586, -0.6060579 , ..., -1.2609143 ,\n",
       "        -0.24402555,  0.41891056],\n",
       "       [-1.16145926, -1.27001564, -0.57842208, ...,  1.64577027,\n",
       "        -0.24402555, -0.25592968],\n",
       "       [-1.54370655, -1.57451018,  1.39753917, ..., -1.21583896,\n",
       "        -0.62477134,  0.87065882]])"
      ]
     },
     "execution_count": 38,
     "metadata": {},
     "output_type": "execute_result"
    }
   ],
   "source": [
    "X"
   ]
  },
  {
   "cell_type": "code",
   "execution_count": 39,
   "metadata": {},
   "outputs": [],
   "source": [
    "pca = PCA()"
   ]
  },
  {
   "cell_type": "code",
   "execution_count": 40,
   "metadata": {},
   "outputs": [
    {
     "data": {
      "text/plain": [
       "PCA()"
      ]
     },
     "execution_count": 40,
     "metadata": {},
     "output_type": "execute_result"
    }
   ],
   "source": [
    "pca.fit(X)"
   ]
  },
  {
   "cell_type": "code",
   "execution_count": 41,
   "metadata": {},
   "outputs": [
    {
     "data": {
      "text/plain": [
       "array([3.93599318e-01, 9.37921567e-02, 7.08262017e-02, 5.09458191e-02,\n",
       "       4.63961771e-02, 3.96568442e-02, 3.34273577e-02, 3.32663248e-02,\n",
       "       3.11006223e-02, 3.02537714e-02, 2.49703052e-02, 2.36490048e-02,\n",
       "       2.21798513e-02, 2.06644594e-02, 1.99766737e-02, 1.62756393e-02,\n",
       "       1.45827640e-02, 1.17811769e-02, 8.83087377e-03, 7.46812928e-03,\n",
       "       6.35641073e-03, 1.18731805e-07, 2.48048457e-32])"
      ]
     },
     "execution_count": 41,
     "metadata": {},
     "output_type": "execute_result"
    }
   ],
   "source": [
    "pca.explained_variance_ratio_"
   ]
  },
  {
   "cell_type": "code",
   "execution_count": 42,
   "metadata": {},
   "outputs": [
    {
     "data": {
      "text/plain": [
       "[<matplotlib.lines.Line2D at 0x25644fbe820>]"
      ]
     },
     "execution_count": 42,
     "metadata": {},
     "output_type": "execute_result"
    },
    {
     "data": {
      "image/png": "[encoded data removed]",
      "text/plain": [
       "<Figure size 720x720 with 1 Axes>"
      ]
     },
     "metadata": {
      "needs_background": "light"
     },
     "output_type": "display_data"
    }
   ],
   "source": [
    "plt.figure(figsize=(10,10))\n",
    "plt.plot(pca.explained_variance_ratio_.cumsum())"
   ]
  },
  {
   "cell_type": "markdown",
   "metadata": {},
   "source": [
    "# we can see that 19-20 feature can explain our 99% data"
   ]
  },
  {
   "cell_type": "code",
   "execution_count": 43,
   "metadata": {},
   "outputs": [],
   "source": [
    "pca = PCA(n_components=19)"
   ]
  },
  {
   "cell_type": "code",
   "execution_count": 44,
   "metadata": {},
   "outputs": [],
   "source": [
    "X = pca.fit_transform(X)"
   ]
  },
  {
   "cell_type": "code",
   "execution_count": 45,
   "metadata": {},
   "outputs": [
    {
     "data": {
      "text/plain": [
       "array([[-1.30798081,  1.09296283,  0.21620443, ..., -0.05063467,\n",
       "         0.19604387, -0.08788515],\n",
       "       [-2.13017647,  0.62113658, -0.34425765, ..., -0.7201752 ,\n",
       "        -0.07493184, -0.06255249],\n",
       "       [-0.64320233,  1.23498022,  0.21245393, ...,  0.22305897,\n",
       "        -0.22212256, -0.49107022],\n",
       "       ...,\n",
       "       [-2.31378813,  1.53766566,  0.25489757, ...,  0.65664233,\n",
       "         0.10988486, -0.16549386],\n",
       "       [-2.12230373, -2.23859472, -0.12887484, ..., -0.73457576,\n",
       "        -0.18900216, -0.06752055],\n",
       "       [ 2.36969184, -0.92247752,  2.72787636, ...,  0.28608478,\n",
       "        -0.59796603, -0.5752878 ]])"
      ]
     },
     "execution_count": 45,
     "metadata": {},
     "output_type": "execute_result"
    }
   ],
   "source": [
    "X"
   ]
  },
  {
   "cell_type": "code",
   "execution_count": 46,
   "metadata": {},
   "outputs": [],
   "source": [
    "from sklearn.ensemble import GradientBoostingClassifier\n",
    "from sklearn.model_selection import GridSearchCV, KFold"
   ]
  },
  {
   "cell_type": "code",
   "execution_count": 49,
   "metadata": {},
   "outputs": [],
   "source": [
    "X_train, X_test, y_train, y_test = train_test_split(X, y, random_state=101, test_size=0.3)"
   ]
  },
  {
   "cell_type": "code",
   "execution_count": 50,
   "metadata": {},
   "outputs": [],
   "source": [
    "Grb = GradientBoostingClassifier()"
   ]
  },
  {
   "cell_type": "code",
   "execution_count": 51,
   "metadata": {},
   "outputs": [
    {
     "data": {
      "text/plain": [
       "GradientBoostingClassifier()"
      ]
     },
     "execution_count": 51,
     "metadata": {},
     "output_type": "execute_result"
    }
   ],
   "source": [
    "Grb.fit(X_train, y_train)"
   ]
  },
  {
   "cell_type": "code",
   "execution_count": 53,
   "metadata": {},
   "outputs": [],
   "source": [
    "y_pred = Grb.predict(X_test)"
   ]
  },
  {
   "cell_type": "code",
   "execution_count": 54,
   "metadata": {},
   "outputs": [],
   "source": [
    "from sklearn.metrics import confusion_matrix, f1_score, accuracy_score"
   ]
  },
  {
   "cell_type": "code",
   "execution_count": 55,
   "metadata": {},
   "outputs": [
    {
     "name": "stdout",
     "output_type": "stream",
     "text": [
      "[[13031  4128]\n",
      " [ 2779 14502]]\n"
     ]
    }
   ],
   "source": [
    "print(confusion_matrix(y_test, y_pred))"
   ]
  },
  {
   "cell_type": "code",
   "execution_count": 57,
   "metadata": {},
   "outputs": [
    {
     "name": "stdout",
     "output_type": "stream",
     "text": [
      "0.7994483159117306\n"
     ]
    }
   ],
   "source": [
    "print(accuracy_score(y_test, y_pred))"
   ]
  },
  {
   "cell_type": "code",
   "execution_count": 58,
   "metadata": {},
   "outputs": [
    {
     "name": "stdout",
     "output_type": "stream",
     "text": [
      "0.8076633900476178\n"
     ]
    }
   ],
   "source": [
    "print(f1_score(y_test, y_pred))"
   ]
  },
  {
   "cell_type": "code",
   "execution_count": 60,
   "metadata": {},
   "outputs": [],
   "source": [
    "y_pred_train = Grb.predict(X_train)"
   ]
  },
  {
   "cell_type": "code",
   "execution_count": 61,
   "metadata": {},
   "outputs": [
    {
     "name": "stdout",
     "output_type": "stream",
     "text": [
      "0.800895968143355\n"
     ]
    }
   ],
   "source": [
    "print(accuracy_score(y_train, y_pred_train))"
   ]
  },
  {
   "cell_type": "code",
   "execution_count": 62,
   "metadata": {},
   "outputs": [
    {
     "name": "stdout",
     "output_type": "stream",
     "text": [
      "0.8089460989181573\n"
     ]
    }
   ],
   "source": [
    "print(f1_score(y_train, y_pred_train))"
   ]
  },
  {
   "cell_type": "code",
   "execution_count": 63,
   "metadata": {},
   "outputs": [
    {
     "name": "stdout",
     "output_type": "stream",
     "text": [
      "[[30487  6246]\n",
      " [ 9754 33873]]\n"
     ]
    }
   ],
   "source": [
    "print(confusion_matrix(y_pred_train, y_train))"
   ]
  },
  {
   "cell_type": "code",
   "execution_count": 65,
   "metadata": {},
   "outputs": [],
   "source": [
    "gridCV = GridSearchCV(estimator=Grb, param_grid={'learning_rate': [0.1,0.2,0.3]}, n_jobs=-1, verbose=10)"
   ]
  },
  {
   "cell_type": "code",
   "execution_count": 66,
   "metadata": {},
   "outputs": [
    {
     "name": "stdout",
     "output_type": "stream",
     "text": [
      "Fitting 5 folds for each of 3 candidates, totalling 15 fits\n"
     ]
    },
    {
     "name": "stderr",
     "output_type": "stream",
     "text": [
      "[Parallel(n_jobs=-1)]: Using backend LokyBackend with 8 concurrent workers.\n",
      "[Parallel(n_jobs=-1)]: Done   2 out of  15 | elapsed:  2.4min remaining: 15.8min\n",
      "[Parallel(n_jobs=-1)]: Done   4 out of  15 | elapsed:  2.4min remaining:  6.7min\n",
      "[Parallel(n_jobs=-1)]: Done   6 out of  15 | elapsed:  2.4min remaining:  3.6min\n",
      "[Parallel(n_jobs=-1)]: Done   8 out of  15 | elapsed:  2.4min remaining:  2.1min\n",
      "[Parallel(n_jobs=-1)]: Done  10 out of  15 | elapsed:  4.6min remaining:  2.3min\n",
      "[Parallel(n_jobs=-1)]: Done  12 out of  15 | elapsed:  4.7min remaining:  1.2min\n",
      "[Parallel(n_jobs=-1)]: Done  15 out of  15 | elapsed:  4.7min finished\n"
     ]
    },
    {
     "data": {
      "text/plain": [
       "GridSearchCV(estimator=GradientBoostingClassifier(), n_jobs=-1,\n",
       "             param_grid={'learning_rate': [0.1, 0.2, 0.3]}, verbose=10)"
      ]
     },
     "execution_count": 66,
     "metadata": {},
     "output_type": "execute_result"
    }
   ],
   "source": [
    "gridCV.fit(X_train, y_train)"
   ]
  },
  {
   "cell_type": "code",
   "execution_count": 67,
   "metadata": {},
   "outputs": [
    {
     "data": {
      "text/plain": [
       "{'learning_rate': 0.3}"
      ]
     },
     "execution_count": 67,
     "metadata": {},
     "output_type": "execute_result"
    }
   ],
   "source": [
    "gridCV.best_params_"
   ]
  },
  {
   "cell_type": "code",
   "execution_count": 68,
   "metadata": {},
   "outputs": [],
   "source": [
    "grb_final = GradientBoostingClassifier(learning_rate=0.3)"
   ]
  },
  {
   "cell_type": "code",
   "execution_count": 69,
   "metadata": {},
   "outputs": [
    {
     "data": {
      "text/plain": [
       "GradientBoostingClassifier(learning_rate=0.3)"
      ]
     },
     "execution_count": 69,
     "metadata": {},
     "output_type": "execute_result"
    }
   ],
   "source": [
    "grb_final.fit(X_train, y_train)"
   ]
  },
  {
   "cell_type": "code",
   "execution_count": 70,
   "metadata": {},
   "outputs": [],
   "source": [
    "y_pred = grb_final.predict(X_test)"
   ]
  },
  {
   "cell_type": "code",
   "execution_count": 71,
   "metadata": {},
   "outputs": [
    {
     "name": "stdout",
     "output_type": "stream",
     "text": [
      "0.8085656213704994\n"
     ]
    }
   ],
   "source": [
    "print(accuracy_score(y_test, y_pred))"
   ]
  },
  {
   "cell_type": "code",
   "execution_count": 72,
   "metadata": {},
   "outputs": [
    {
     "name": "stdout",
     "output_type": "stream",
     "text": [
      "0.8151616249404244\n"
     ]
    }
   ],
   "source": [
    "print(f1_score(y_test, y_pred))"
   ]
  },
  {
   "cell_type": "code",
   "execution_count": 73,
   "metadata": {},
   "outputs": [],
   "source": [
    "y_pred_train = grb_final.predict(X_train)"
   ]
  },
  {
   "cell_type": "code",
   "execution_count": 74,
   "metadata": {},
   "outputs": [
    {
     "name": "stdout",
     "output_type": "stream",
     "text": [
      "0.8148332503733201\n"
     ]
    }
   ],
   "source": [
    "print(accuracy_score(y_train, y_pred_train))"
   ]
  },
  {
   "cell_type": "code",
   "execution_count": 75,
   "metadata": {},
   "outputs": [
    {
     "name": "stdout",
     "output_type": "stream",
     "text": [
      "0.8210678210678211\n"
     ]
    }
   ],
   "source": [
    "print(f1_score(y_train, y_pred_train))"
   ]
  },
  {
   "cell_type": "code",
   "execution_count": null,
   "metadata": {},
   "outputs": [],
   "source": []
  }
 ],
 "metadata": {
  "kernelspec": {
   "display_name": "Python 3",
   "language": "python",
   "name": "python3"
  },
  "language_info": {
   "codemirror_mode": {
    "name": "ipython",
    "version": 3
   },
   "file_extension": ".py",
   "mimetype": "text/x-python",
   "name": "python",
   "nbconvert_exporter": "python",
   "pygments_lexer": "ipython3",
   "version": "3.8.3"
  }
 },
 "nbformat": 4,
 "nbformat_minor": 4
}
