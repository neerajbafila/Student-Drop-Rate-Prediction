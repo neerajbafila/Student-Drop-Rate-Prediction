{
 "cells": [
  {
   "cell_type": "code",
   "execution_count": 1,
   "metadata": {},
   "outputs": [],
   "source": [
    "import pandas as pd\n",
    "import numpy as np\n",
    "import datetime\n",
    "import matplotlib.pyplot as plt\n",
    "import seaborn as sns"
   ]
  },
  {
   "cell_type": "code",
   "execution_count": 2,
   "metadata": {},
   "outputs": [],
   "source": [
    "#https://www.kaggle.com/c/mooc-dropout-prediction-17/data"
   ]
  },
  {
   "cell_type": "code",
   "execution_count": 3,
   "metadata": {},
   "outputs": [],
   "source": [
    "data = pd.read_csv('MOOC_Visual.csv', parse_dates=['startdate', 'enddate'])"
   ]
  },
  {
   "cell_type": "code",
   "execution_count": 4,
   "metadata": {},
   "outputs": [
    {
     "name": "stdout",
     "output_type": "stream",
     "text": [
      "<class 'pandas.core.frame.DataFrame'>\n",
      "RangeIndex: 72325 entries, 0 to 72324\n",
      "Data columns (total 25 columns):\n",
      " #   Column            Non-Null Count  Dtype         \n",
      "---  ------            --------------  -----         \n",
      " 0   enrollment_id     72325 non-null  int64         \n",
      " 1   startdate         72325 non-null  datetime64[ns]\n",
      " 2   enddate           72325 non-null  datetime64[ns]\n",
      " 3   access            72325 non-null  int64         \n",
      " 4   discussion        72325 non-null  int64         \n",
      " 5   navigate          72325 non-null  int64         \n",
      " 6   page_close        72325 non-null  int64         \n",
      " 7   problem           72325 non-null  int64         \n",
      " 8   video             72325 non-null  int64         \n",
      " 9   wiki              72325 non-null  int64         \n",
      " 10  proccess_period   72325 non-null  float64       \n",
      " 11  present_days      72325 non-null  int64         \n",
      " 12  effective_time    72325 non-null  float64       \n",
      " 13  Friday            72325 non-null  int64         \n",
      " 14  Monday            72325 non-null  int64         \n",
      " 15  Saturday          72325 non-null  int64         \n",
      " 16  Sunday            72325 non-null  int64         \n",
      " 17  Thursday          72325 non-null  int64         \n",
      " 18  Tuesday           72325 non-null  int64         \n",
      " 19  Wednesday         72325 non-null  int64         \n",
      " 20  holidays          72325 non-null  int64         \n",
      " 21  course_enroll     72325 non-null  int64         \n",
      " 22  user_enroll       72325 non-null  int64         \n",
      " 23  course_drop_rate  72325 non-null  float64       \n",
      " 24  dropout_prob      72325 non-null  int64         \n",
      "dtypes: datetime64[ns](2), float64(3), int64(20)\n",
      "memory usage: 13.8 MB\n"
     ]
    }
   ],
   "source": [
    "data.info()"
   ]
  },
  {
   "cell_type": "code",
   "execution_count": 5,
   "metadata": {},
   "outputs": [
    {
     "data": {
      "text/plain": [
       "enrollment_id       0\n",
       "startdate           0\n",
       "enddate             0\n",
       "access              0\n",
       "discussion          0\n",
       "navigate            0\n",
       "page_close          0\n",
       "problem             0\n",
       "video               0\n",
       "wiki                0\n",
       "proccess_period     0\n",
       "present_days        0\n",
       "effective_time      0\n",
       "Friday              0\n",
       "Monday              0\n",
       "Saturday            0\n",
       "Sunday              0\n",
       "Thursday            0\n",
       "Tuesday             0\n",
       "Wednesday           0\n",
       "holidays            0\n",
       "course_enroll       0\n",
       "user_enroll         0\n",
       "course_drop_rate    0\n",
       "dropout_prob        0\n",
       "dtype: int64"
      ]
     },
     "execution_count": 5,
     "metadata": {},
     "output_type": "execute_result"
    }
   ],
   "source": [
    "data.isnull().sum()"
   ]
  },
  {
   "cell_type": "code",
   "execution_count": 6,
   "metadata": {},
   "outputs": [
    {
     "data": {
      "text/html": [
       "<div>\n",
       "<style scoped>\n",
       "    .dataframe tbody tr th:only-of-type {\n",
       "        vertical-align: middle;\n",
       "    }\n",
       "\n",
       "    .dataframe tbody tr th {\n",
       "        vertical-align: top;\n",
       "    }\n",
       "\n",
       "    .dataframe thead th {\n",
       "        text-align: right;\n",
       "    }\n",
       "</style>\n",
       "<table border=\"1\" class=\"dataframe\">\n",
       "  <thead>\n",
       "    <tr style=\"text-align: right;\">\n",
       "      <th></th>\n",
       "      <th>enrollment_id</th>\n",
       "      <th>access</th>\n",
       "      <th>discussion</th>\n",
       "      <th>navigate</th>\n",
       "      <th>page_close</th>\n",
       "      <th>problem</th>\n",
       "      <th>video</th>\n",
       "      <th>wiki</th>\n",
       "      <th>proccess_period</th>\n",
       "      <th>present_days</th>\n",
       "      <th>...</th>\n",
       "      <th>Saturday</th>\n",
       "      <th>Sunday</th>\n",
       "      <th>Thursday</th>\n",
       "      <th>Tuesday</th>\n",
       "      <th>Wednesday</th>\n",
       "      <th>holidays</th>\n",
       "      <th>course_enroll</th>\n",
       "      <th>user_enroll</th>\n",
       "      <th>course_drop_rate</th>\n",
       "      <th>dropout_prob</th>\n",
       "    </tr>\n",
       "  </thead>\n",
       "  <tbody>\n",
       "    <tr>\n",
       "      <th>count</th>\n",
       "      <td>72325.000000</td>\n",
       "      <td>72325.000000</td>\n",
       "      <td>72325.000000</td>\n",
       "      <td>72325.000000</td>\n",
       "      <td>72325.000000</td>\n",
       "      <td>72325.000000</td>\n",
       "      <td>72325.000000</td>\n",
       "      <td>72325.000000</td>\n",
       "      <td>72325.000000</td>\n",
       "      <td>72325.000000</td>\n",
       "      <td>...</td>\n",
       "      <td>72325.000000</td>\n",
       "      <td>72325.000000</td>\n",
       "      <td>72325.000000</td>\n",
       "      <td>72325.000000</td>\n",
       "      <td>72325.00000</td>\n",
       "      <td>72325.000000</td>\n",
       "      <td>72325.000000</td>\n",
       "      <td>72325.000000</td>\n",
       "      <td>72325.000000</td>\n",
       "      <td>72325.000000</td>\n",
       "    </tr>\n",
       "    <tr>\n",
       "      <th>mean</th>\n",
       "      <td>36163.000000</td>\n",
       "      <td>25.707045</td>\n",
       "      <td>5.247992</td>\n",
       "      <td>8.330052</td>\n",
       "      <td>10.182966</td>\n",
       "      <td>10.446429</td>\n",
       "      <td>6.566678</td>\n",
       "      <td>0.741652</td>\n",
       "      <td>5.790234</td>\n",
       "      <td>2.662067</td>\n",
       "      <td>...</td>\n",
       "      <td>0.328033</td>\n",
       "      <td>0.343173</td>\n",
       "      <td>0.394940</td>\n",
       "      <td>0.409139</td>\n",
       "      <td>0.39870</td>\n",
       "      <td>0.095099</td>\n",
       "      <td>5618.856772</td>\n",
       "      <td>2.460242</td>\n",
       "      <td>0.793640</td>\n",
       "      <td>0.793640</td>\n",
       "    </tr>\n",
       "    <tr>\n",
       "      <th>std</th>\n",
       "      <td>20878.573447</td>\n",
       "      <td>54.679282</td>\n",
       "      <td>28.351693</td>\n",
       "      <td>12.641069</td>\n",
       "      <td>20.552585</td>\n",
       "      <td>34.335217</td>\n",
       "      <td>14.662946</td>\n",
       "      <td>3.503804</td>\n",
       "      <td>8.966359</td>\n",
       "      <td>3.093727</td>\n",
       "      <td>...</td>\n",
       "      <td>0.627570</td>\n",
       "      <td>0.649591</td>\n",
       "      <td>0.693014</td>\n",
       "      <td>0.711455</td>\n",
       "      <td>0.68801</td>\n",
       "      <td>0.293918</td>\n",
       "      <td>3686.987244</td>\n",
       "      <td>2.381182</td>\n",
       "      <td>0.066570</td>\n",
       "      <td>0.404695</td>\n",
       "    </tr>\n",
       "    <tr>\n",
       "      <th>min</th>\n",
       "      <td>1.000000</td>\n",
       "      <td>0.000000</td>\n",
       "      <td>0.000000</td>\n",
       "      <td>0.000000</td>\n",
       "      <td>0.000000</td>\n",
       "      <td>0.000000</td>\n",
       "      <td>0.000000</td>\n",
       "      <td>0.000000</td>\n",
       "      <td>0.000000</td>\n",
       "      <td>1.000000</td>\n",
       "      <td>...</td>\n",
       "      <td>0.000000</td>\n",
       "      <td>0.000000</td>\n",
       "      <td>0.000000</td>\n",
       "      <td>0.000000</td>\n",
       "      <td>0.00000</td>\n",
       "      <td>0.000000</td>\n",
       "      <td>645.000000</td>\n",
       "      <td>1.000000</td>\n",
       "      <td>0.666866</td>\n",
       "      <td>0.000000</td>\n",
       "    </tr>\n",
       "    <tr>\n",
       "      <th>25%</th>\n",
       "      <td>18082.000000</td>\n",
       "      <td>1.000000</td>\n",
       "      <td>0.000000</td>\n",
       "      <td>2.000000</td>\n",
       "      <td>0.000000</td>\n",
       "      <td>0.000000</td>\n",
       "      <td>0.000000</td>\n",
       "      <td>0.000000</td>\n",
       "      <td>0.001204</td>\n",
       "      <td>1.000000</td>\n",
       "      <td>...</td>\n",
       "      <td>0.000000</td>\n",
       "      <td>0.000000</td>\n",
       "      <td>0.000000</td>\n",
       "      <td>0.000000</td>\n",
       "      <td>0.00000</td>\n",
       "      <td>0.000000</td>\n",
       "      <td>2151.000000</td>\n",
       "      <td>1.000000</td>\n",
       "      <td>0.763524</td>\n",
       "      <td>1.000000</td>\n",
       "    </tr>\n",
       "    <tr>\n",
       "      <th>50%</th>\n",
       "      <td>36163.000000</td>\n",
       "      <td>6.000000</td>\n",
       "      <td>0.000000</td>\n",
       "      <td>4.000000</td>\n",
       "      <td>2.000000</td>\n",
       "      <td>0.000000</td>\n",
       "      <td>1.000000</td>\n",
       "      <td>0.000000</td>\n",
       "      <td>0.045914</td>\n",
       "      <td>1.000000</td>\n",
       "      <td>...</td>\n",
       "      <td>0.000000</td>\n",
       "      <td>0.000000</td>\n",
       "      <td>0.000000</td>\n",
       "      <td>0.000000</td>\n",
       "      <td>0.00000</td>\n",
       "      <td>0.000000</td>\n",
       "      <td>4684.000000</td>\n",
       "      <td>2.000000</td>\n",
       "      <td>0.799671</td>\n",
       "      <td>1.000000</td>\n",
       "    </tr>\n",
       "    <tr>\n",
       "      <th>75%</th>\n",
       "      <td>54244.000000</td>\n",
       "      <td>26.000000</td>\n",
       "      <td>2.000000</td>\n",
       "      <td>10.000000</td>\n",
       "      <td>9.000000</td>\n",
       "      <td>6.000000</td>\n",
       "      <td>6.000000</td>\n",
       "      <td>1.000000</td>\n",
       "      <td>9.932766</td>\n",
       "      <td>3.000000</td>\n",
       "      <td>...</td>\n",
       "      <td>1.000000</td>\n",
       "      <td>1.000000</td>\n",
       "      <td>1.000000</td>\n",
       "      <td>1.000000</td>\n",
       "      <td>1.00000</td>\n",
       "      <td>0.000000</td>\n",
       "      <td>9382.000000</td>\n",
       "      <td>3.000000</td>\n",
       "      <td>0.836914</td>\n",
       "      <td>1.000000</td>\n",
       "    </tr>\n",
       "    <tr>\n",
       "      <th>max</th>\n",
       "      <td>72325.000000</td>\n",
       "      <td>3659.000000</td>\n",
       "      <td>1930.000000</td>\n",
       "      <td>409.000000</td>\n",
       "      <td>413.000000</td>\n",
       "      <td>1014.000000</td>\n",
       "      <td>536.000000</td>\n",
       "      <td>243.000000</td>\n",
       "      <td>29.987014</td>\n",
       "      <td>30.000000</td>\n",
       "      <td>...</td>\n",
       "      <td>5.000000</td>\n",
       "      <td>5.000000</td>\n",
       "      <td>5.000000</td>\n",
       "      <td>5.000000</td>\n",
       "      <td>5.00000</td>\n",
       "      <td>2.000000</td>\n",
       "      <td>12004.000000</td>\n",
       "      <td>27.000000</td>\n",
       "      <td>0.938356</td>\n",
       "      <td>1.000000</td>\n",
       "    </tr>\n",
       "  </tbody>\n",
       "</table>\n",
       "<p>8 rows × 23 columns</p>\n",
       "</div>"
      ],
      "text/plain": [
       "       enrollment_id        access    discussion      navigate    page_close  \\\n",
       "count   72325.000000  72325.000000  72325.000000  72325.000000  72325.000000   \n",
       "mean    36163.000000     25.707045      5.247992      8.330052     10.182966   \n",
       "std     20878.573447     54.679282     28.351693     12.641069     20.552585   \n",
       "min         1.000000      0.000000      0.000000      0.000000      0.000000   \n",
       "25%     18082.000000      1.000000      0.000000      2.000000      0.000000   \n",
       "50%     36163.000000      6.000000      0.000000      4.000000      2.000000   \n",
       "75%     54244.000000     26.000000      2.000000     10.000000      9.000000   \n",
       "max     72325.000000   3659.000000   1930.000000    409.000000    413.000000   \n",
       "\n",
       "            problem         video          wiki  proccess_period  \\\n",
       "count  72325.000000  72325.000000  72325.000000     72325.000000   \n",
       "mean      10.446429      6.566678      0.741652         5.790234   \n",
       "std       34.335217     14.662946      3.503804         8.966359   \n",
       "min        0.000000      0.000000      0.000000         0.000000   \n",
       "25%        0.000000      0.000000      0.000000         0.001204   \n",
       "50%        0.000000      1.000000      0.000000         0.045914   \n",
       "75%        6.000000      6.000000      1.000000         9.932766   \n",
       "max     1014.000000    536.000000    243.000000        29.987014   \n",
       "\n",
       "       present_days  ...      Saturday        Sunday      Thursday  \\\n",
       "count  72325.000000  ...  72325.000000  72325.000000  72325.000000   \n",
       "mean       2.662067  ...      0.328033      0.343173      0.394940   \n",
       "std        3.093727  ...      0.627570      0.649591      0.693014   \n",
       "min        1.000000  ...      0.000000      0.000000      0.000000   \n",
       "25%        1.000000  ...      0.000000      0.000000      0.000000   \n",
       "50%        1.000000  ...      0.000000      0.000000      0.000000   \n",
       "75%        3.000000  ...      1.000000      1.000000      1.000000   \n",
       "max       30.000000  ...      5.000000      5.000000      5.000000   \n",
       "\n",
       "            Tuesday    Wednesday      holidays  course_enroll   user_enroll  \\\n",
       "count  72325.000000  72325.00000  72325.000000   72325.000000  72325.000000   \n",
       "mean       0.409139      0.39870      0.095099    5618.856772      2.460242   \n",
       "std        0.711455      0.68801      0.293918    3686.987244      2.381182   \n",
       "min        0.000000      0.00000      0.000000     645.000000      1.000000   \n",
       "25%        0.000000      0.00000      0.000000    2151.000000      1.000000   \n",
       "50%        0.000000      0.00000      0.000000    4684.000000      2.000000   \n",
       "75%        1.000000      1.00000      0.000000    9382.000000      3.000000   \n",
       "max        5.000000      5.00000      2.000000   12004.000000     27.000000   \n",
       "\n",
       "       course_drop_rate  dropout_prob  \n",
       "count      72325.000000  72325.000000  \n",
       "mean           0.793640      0.793640  \n",
       "std            0.066570      0.404695  \n",
       "min            0.666866      0.000000  \n",
       "25%            0.763524      1.000000  \n",
       "50%            0.799671      1.000000  \n",
       "75%            0.836914      1.000000  \n",
       "max            0.938356      1.000000  \n",
       "\n",
       "[8 rows x 23 columns]"
      ]
     },
     "execution_count": 6,
     "metadata": {},
     "output_type": "execute_result"
    }
   ],
   "source": [
    "data.describe()"
   ]
  },
  {
   "cell_type": "code",
   "execution_count": 7,
   "metadata": {},
   "outputs": [
    {
     "data": {
      "text/html": [
       "<div>\n",
       "<style scoped>\n",
       "    .dataframe tbody tr th:only-of-type {\n",
       "        vertical-align: middle;\n",
       "    }\n",
       "\n",
       "    .dataframe tbody tr th {\n",
       "        vertical-align: top;\n",
       "    }\n",
       "\n",
       "    .dataframe thead th {\n",
       "        text-align: right;\n",
       "    }\n",
       "</style>\n",
       "<table border=\"1\" class=\"dataframe\">\n",
       "  <thead>\n",
       "    <tr style=\"text-align: right;\">\n",
       "      <th></th>\n",
       "      <th>enrollment_id</th>\n",
       "      <th>startdate</th>\n",
       "      <th>enddate</th>\n",
       "      <th>access</th>\n",
       "      <th>discussion</th>\n",
       "      <th>navigate</th>\n",
       "      <th>page_close</th>\n",
       "      <th>problem</th>\n",
       "      <th>video</th>\n",
       "      <th>wiki</th>\n",
       "      <th>...</th>\n",
       "      <th>Saturday</th>\n",
       "      <th>Sunday</th>\n",
       "      <th>Thursday</th>\n",
       "      <th>Tuesday</th>\n",
       "      <th>Wednesday</th>\n",
       "      <th>holidays</th>\n",
       "      <th>course_enroll</th>\n",
       "      <th>user_enroll</th>\n",
       "      <th>course_drop_rate</th>\n",
       "      <th>dropout_prob</th>\n",
       "    </tr>\n",
       "  </thead>\n",
       "  <tbody>\n",
       "    <tr>\n",
       "      <th>0</th>\n",
       "      <td>1</td>\n",
       "      <td>2014-05-31</td>\n",
       "      <td>2014-06-01</td>\n",
       "      <td>27</td>\n",
       "      <td>0</td>\n",
       "      <td>8</td>\n",
       "      <td>0</td>\n",
       "      <td>79</td>\n",
       "      <td>0</td>\n",
       "      <td>0</td>\n",
       "      <td>...</td>\n",
       "      <td>1</td>\n",
       "      <td>1</td>\n",
       "      <td>0</td>\n",
       "      <td>0</td>\n",
       "      <td>0</td>\n",
       "      <td>0</td>\n",
       "      <td>4684</td>\n",
       "      <td>1</td>\n",
       "      <td>0.826534</td>\n",
       "      <td>1</td>\n",
       "    </tr>\n",
       "    <tr>\n",
       "      <th>1</th>\n",
       "      <td>2</td>\n",
       "      <td>2014-06-04</td>\n",
       "      <td>2014-06-04</td>\n",
       "      <td>7</td>\n",
       "      <td>4</td>\n",
       "      <td>3</td>\n",
       "      <td>4</td>\n",
       "      <td>0</td>\n",
       "      <td>3</td>\n",
       "      <td>1</td>\n",
       "      <td>...</td>\n",
       "      <td>0</td>\n",
       "      <td>0</td>\n",
       "      <td>0</td>\n",
       "      <td>0</td>\n",
       "      <td>1</td>\n",
       "      <td>0</td>\n",
       "      <td>7775</td>\n",
       "      <td>1</td>\n",
       "      <td>0.836914</td>\n",
       "      <td>1</td>\n",
       "    </tr>\n",
       "    <tr>\n",
       "      <th>2</th>\n",
       "      <td>3</td>\n",
       "      <td>2014-06-04</td>\n",
       "      <td>2014-06-08</td>\n",
       "      <td>34</td>\n",
       "      <td>1</td>\n",
       "      <td>6</td>\n",
       "      <td>7</td>\n",
       "      <td>0</td>\n",
       "      <td>9</td>\n",
       "      <td>0</td>\n",
       "      <td>...</td>\n",
       "      <td>1</td>\n",
       "      <td>1</td>\n",
       "      <td>1</td>\n",
       "      <td>0</td>\n",
       "      <td>1</td>\n",
       "      <td>0</td>\n",
       "      <td>3005</td>\n",
       "      <td>2</td>\n",
       "      <td>0.868481</td>\n",
       "      <td>0</td>\n",
       "    </tr>\n",
       "    <tr>\n",
       "      <th>3</th>\n",
       "      <td>4</td>\n",
       "      <td>2014-06-12</td>\n",
       "      <td>2014-06-13</td>\n",
       "      <td>54</td>\n",
       "      <td>4</td>\n",
       "      <td>6</td>\n",
       "      <td>46</td>\n",
       "      <td>21</td>\n",
       "      <td>31</td>\n",
       "      <td>1</td>\n",
       "      <td>...</td>\n",
       "      <td>0</td>\n",
       "      <td>0</td>\n",
       "      <td>1</td>\n",
       "      <td>0</td>\n",
       "      <td>0</td>\n",
       "      <td>0</td>\n",
       "      <td>2981</td>\n",
       "      <td>2</td>\n",
       "      <td>0.799671</td>\n",
       "      <td>1</td>\n",
       "    </tr>\n",
       "    <tr>\n",
       "      <th>4</th>\n",
       "      <td>5</td>\n",
       "      <td>2014-07-01</td>\n",
       "      <td>2014-07-01</td>\n",
       "      <td>0</td>\n",
       "      <td>0</td>\n",
       "      <td>2</td>\n",
       "      <td>0</td>\n",
       "      <td>0</td>\n",
       "      <td>0</td>\n",
       "      <td>0</td>\n",
       "      <td>...</td>\n",
       "      <td>0</td>\n",
       "      <td>0</td>\n",
       "      <td>0</td>\n",
       "      <td>1</td>\n",
       "      <td>0</td>\n",
       "      <td>0</td>\n",
       "      <td>10322</td>\n",
       "      <td>1</td>\n",
       "      <td>0.695925</td>\n",
       "      <td>1</td>\n",
       "    </tr>\n",
       "  </tbody>\n",
       "</table>\n",
       "<p>5 rows × 25 columns</p>\n",
       "</div>"
      ],
      "text/plain": [
       "   enrollment_id  startdate    enddate  access  discussion  navigate  \\\n",
       "0              1 2014-05-31 2014-06-01      27           0         8   \n",
       "1              2 2014-06-04 2014-06-04       7           4         3   \n",
       "2              3 2014-06-04 2014-06-08      34           1         6   \n",
       "3              4 2014-06-12 2014-06-13      54           4         6   \n",
       "4              5 2014-07-01 2014-07-01       0           0         2   \n",
       "\n",
       "   page_close  problem  video  wiki  ...  Saturday  Sunday  Thursday  Tuesday  \\\n",
       "0           0       79      0     0  ...         1       1         0        0   \n",
       "1           4        0      3     1  ...         0       0         0        0   \n",
       "2           7        0      9     0  ...         1       1         1        0   \n",
       "3          46       21     31     1  ...         0       0         1        0   \n",
       "4           0        0      0     0  ...         0       0         0        1   \n",
       "\n",
       "   Wednesday  holidays  course_enroll  user_enroll  course_drop_rate  \\\n",
       "0          0         0           4684            1          0.826534   \n",
       "1          1         0           7775            1          0.836914   \n",
       "2          1         0           3005            2          0.868481   \n",
       "3          0         0           2981            2          0.799671   \n",
       "4          0         0          10322            1          0.695925   \n",
       "\n",
       "   dropout_prob  \n",
       "0             1  \n",
       "1             1  \n",
       "2             0  \n",
       "3             1  \n",
       "4             1  \n",
       "\n",
       "[5 rows x 25 columns]"
      ]
     },
     "execution_count": 7,
     "metadata": {},
     "output_type": "execute_result"
    }
   ],
   "source": [
    "data.head()"
   ]
  },
  {
   "cell_type": "code",
   "execution_count": 8,
   "metadata": {},
   "outputs": [
    {
     "data": {
      "text/plain": [
       "1    57400\n",
       "0    14925\n",
       "Name: dropout_prob, dtype: int64"
      ]
     },
     "execution_count": 8,
     "metadata": {},
     "output_type": "execute_result"
    }
   ],
   "source": [
    "data['dropout_prob'].value_counts()"
   ]
  },
  {
   "cell_type": "markdown",
   "metadata": {},
   "source": [
    "#seems dataset is not balance"
   ]
  },
  {
   "cell_type": "code",
   "execution_count": 9,
   "metadata": {},
   "outputs": [
    {
     "data": {
      "text/plain": [
       "(array([7.21e+04, 2.14e+02, 4.00e+00, 5.00e+00, 0.00e+00, 0.00e+00,\n",
       "        0.00e+00, 0.00e+00, 0.00e+00, 2.00e+00]),\n",
       " array([   0. ,  365.9,  731.8, 1097.7, 1463.6, 1829.5, 2195.4, 2561.3,\n",
       "        2927.2, 3293.1, 3659. ]),\n",
       " <a list of 10 Patch objects>)"
      ]
     },
     "execution_count": 9,
     "metadata": {},
     "output_type": "execute_result"
    },
    {
     "data": {
      "image/png": "[encoded data removed]",
      "text/plain": [
       "<Figure size 432x288 with 1 Axes>"
      ]
     },
     "metadata": {
      "needs_background": "light"
     },
     "output_type": "display_data"
    }
   ],
   "source": [
    "plt.hist(data['access'])"
   ]
  },
  {
   "cell_type": "code",
   "execution_count": 10,
   "metadata": {},
   "outputs": [
    {
     "data": {
      "text/plain": [
       "0       17485\n",
       "2        6397\n",
       "3        4002\n",
       "4        3117\n",
       "5        2803\n",
       "        ...  \n",
       "3659        1\n",
       "416         1\n",
       "1438        1\n",
       "669         1\n",
       "447         1\n",
       "Name: access, Length: 511, dtype: int64"
      ]
     },
     "execution_count": 10,
     "metadata": {},
     "output_type": "execute_result"
    }
   ],
   "source": [
    "data['access'].value_counts()"
   ]
  },
  {
   "cell_type": "code",
   "execution_count": 11,
   "metadata": {},
   "outputs": [
    {
     "data": {
      "text/plain": [
       "<matplotlib.axes._subplots.AxesSubplot at 0x1b8a3c53130>"
      ]
     },
     "execution_count": 11,
     "metadata": {},
     "output_type": "execute_result"
    },
    {
     "data": {
      "image/png": "[encoded data removed]",
      "text/plain": [
       "<Figure size 432x288 with 1 Axes>"
      ]
     },
     "metadata": {
      "needs_background": "light"
     },
     "output_type": "display_data"
    }
   ],
   "source": [
    "sns.kdeplot(data['access'], color='b', shade=True)"
   ]
  },
  {
   "cell_type": "code",
   "execution_count": 12,
   "metadata": {},
   "outputs": [
    {
     "data": {
      "text/plain": [
       "<matplotlib.axes._subplots.AxesSubplot at 0x1b8a3cd12e0>"
      ]
     },
     "execution_count": 12,
     "metadata": {},
     "output_type": "execute_result"
    },
    {
     "data": {
      "image/png": "[encoded data removed]",
      "text/plain": [
       "<Figure size 432x288 with 1 Axes>"
      ]
     },
     "metadata": {
      "needs_background": "light"
     },
     "output_type": "display_data"
    }
   ],
   "source": [
    "sns.distplot(data['access'], color='b', kde=True)"
   ]
  },
  {
   "cell_type": "code",
   "execution_count": 13,
   "metadata": {},
   "outputs": [
    {
     "data": {
      "text/plain": [
       "<matplotlib.axes._subplots.AxesSubplot at 0x1b8a3dc4040>"
      ]
     },
     "execution_count": 13,
     "metadata": {},
     "output_type": "execute_result"
    },
    {
     "data": {
      "image/png": "[encoded data removed]",
      "text/plain": [
       "<Figure size 432x288 with 1 Axes>"
      ]
     },
     "metadata": {
      "needs_background": "light"
     },
     "output_type": "display_data"
    }
   ],
   "source": [
    "sns.distplot(data['wiki'], color='b', kde=True)"
   ]
  },
  {
   "cell_type": "code",
   "execution_count": 14,
   "metadata": {},
   "outputs": [
    {
     "data": {
      "text/plain": [
       "0      53589\n",
       "1      10299\n",
       "2       3575\n",
       "3       1707\n",
       "4        937\n",
       "       ...  \n",
       "52         1\n",
       "243        1\n",
       "175        1\n",
       "113        1\n",
       "127        1\n",
       "Name: wiki, Length: 84, dtype: int64"
      ]
     },
     "execution_count": 14,
     "metadata": {},
     "output_type": "execute_result"
    }
   ],
   "source": [
    "data['wiki'].value_counts()"
   ]
  },
  {
   "cell_type": "code",
   "execution_count": 15,
   "metadata": {},
   "outputs": [],
   "source": [
    "col = data.columns"
   ]
  },
  {
   "cell_type": "code",
   "execution_count": 16,
   "metadata": {},
   "outputs": [
    {
     "data": {
      "text/plain": [
       "25"
      ]
     },
     "execution_count": 16,
     "metadata": {},
     "output_type": "execute_result"
    }
   ],
   "source": [
    "col.size"
   ]
  },
  {
   "cell_type": "code",
   "execution_count": 17,
   "metadata": {},
   "outputs": [
    {
     "data": {
      "text/plain": [
       "Index(['enrollment_id', 'startdate', 'enddate', 'access', 'discussion',\n",
       "       'navigate', 'page_close', 'problem', 'video', 'wiki', 'proccess_period',\n",
       "       'present_days', 'effective_time', 'Friday', 'Monday', 'Saturday',\n",
       "       'Sunday', 'Thursday', 'Tuesday', 'Wednesday', 'holidays',\n",
       "       'course_enroll', 'user_enroll', 'course_drop_rate', 'dropout_prob'],\n",
       "      dtype='object')"
      ]
     },
     "execution_count": 17,
     "metadata": {},
     "output_type": "execute_result"
    }
   ],
   "source": [
    "col"
   ]
  },
  {
   "cell_type": "code",
   "execution_count": 18,
   "metadata": {},
   "outputs": [
    {
     "name": "stderr",
     "output_type": "stream",
     "text": [
      "C:\\ProgramData\\Anaconda3\\lib\\site-packages\\seaborn\\distributions.py:369: UserWarning: Default bandwidth for data is 0; skipping density estimation.\n",
      "  warnings.warn(msg, UserWarning)\n",
      "C:\\ProgramData\\Anaconda3\\lib\\site-packages\\seaborn\\distributions.py:369: UserWarning: Default bandwidth for data is 0; skipping density estimation.\n",
      "  warnings.warn(msg, UserWarning)\n"
     ]
    },
    {
     "data": {
      "image/png": "[encoded data removed]",
      "text/plain": [
       "<Figure size 1800x2160 with 25 Axes>"
      ]
     },
     "metadata": {
      "needs_background": "light"
     },
     "output_type": "display_data"
    }
   ],
   "source": [
    "plt.figure(figsize=(25,30))\n",
    "plotno=1\n",
    "\n",
    "for i in col:\n",
    "    plt.subplot(13,2,plotno)\n",
    "    sns.distplot(data[i])\n",
    "    plotno +=1\n",
    "    plt.tight_layout()\n"
   ]
  },
  {
   "cell_type": "code",
   "execution_count": 19,
   "metadata": {},
   "outputs": [
    {
     "data": {
      "text/plain": [
       "(57400, 25)"
      ]
     },
     "execution_count": 19,
     "metadata": {},
     "output_type": "execute_result"
    }
   ],
   "source": [
    "data[data['dropout_prob']==1].shape"
   ]
  },
  {
   "cell_type": "code",
   "execution_count": 20,
   "metadata": {},
   "outputs": [
    {
     "data": {
      "text/plain": [
       "(14925, 25)"
      ]
     },
     "execution_count": 20,
     "metadata": {},
     "output_type": "execute_result"
    }
   ],
   "source": [
    "data[data['dropout_prob']==0].shape"
   ]
  },
  {
   "cell_type": "code",
   "execution_count": 21,
   "metadata": {},
   "outputs": [],
   "source": [
    "dropout_prob_majority = data[data['dropout_prob']==1]"
   ]
  },
  {
   "cell_type": "code",
   "execution_count": 22,
   "metadata": {},
   "outputs": [
    {
     "data": {
      "text/plain": [
       "(57400, 25)"
      ]
     },
     "execution_count": 22,
     "metadata": {},
     "output_type": "execute_result"
    }
   ],
   "source": [
    "dropout_prob_majority.shape"
   ]
  },
  {
   "cell_type": "code",
   "execution_count": 23,
   "metadata": {},
   "outputs": [],
   "source": [
    "dropout_prob_minority = data[data['dropout_prob']==0]"
   ]
  },
  {
   "cell_type": "code",
   "execution_count": 24,
   "metadata": {},
   "outputs": [
    {
     "data": {
      "text/plain": [
       "(14925, 25)"
      ]
     },
     "execution_count": 24,
     "metadata": {},
     "output_type": "execute_result"
    }
   ],
   "source": [
    "dropout_prob_minority.shape"
   ]
  },
  {
   "cell_type": "markdown",
   "metadata": {},
   "source": [
    "# balancing Data set using upsampling"
   ]
  },
  {
   "cell_type": "code",
   "execution_count": 25,
   "metadata": {},
   "outputs": [],
   "source": [
    "from sklearn.utils import resample"
   ]
  },
  {
   "cell_type": "code",
   "execution_count": 26,
   "metadata": {},
   "outputs": [],
   "source": [
    "dropout_prob_minority_balanced = resample(dropout_prob_minority, replace=True, n_samples=dropout_prob_majority.shape[0])"
   ]
  },
  {
   "cell_type": "code",
   "execution_count": 27,
   "metadata": {},
   "outputs": [
    {
     "data": {
      "text/html": [
       "<div>\n",
       "<style scoped>\n",
       "    .dataframe tbody tr th:only-of-type {\n",
       "        vertical-align: middle;\n",
       "    }\n",
       "\n",
       "    .dataframe tbody tr th {\n",
       "        vertical-align: top;\n",
       "    }\n",
       "\n",
       "    .dataframe thead th {\n",
       "        text-align: right;\n",
       "    }\n",
       "</style>\n",
       "<table border=\"1\" class=\"dataframe\">\n",
       "  <thead>\n",
       "    <tr style=\"text-align: right;\">\n",
       "      <th></th>\n",
       "      <th>enrollment_id</th>\n",
       "      <th>startdate</th>\n",
       "      <th>enddate</th>\n",
       "      <th>access</th>\n",
       "      <th>discussion</th>\n",
       "      <th>navigate</th>\n",
       "      <th>page_close</th>\n",
       "      <th>problem</th>\n",
       "      <th>video</th>\n",
       "      <th>wiki</th>\n",
       "      <th>...</th>\n",
       "      <th>Saturday</th>\n",
       "      <th>Sunday</th>\n",
       "      <th>Thursday</th>\n",
       "      <th>Tuesday</th>\n",
       "      <th>Wednesday</th>\n",
       "      <th>holidays</th>\n",
       "      <th>course_enroll</th>\n",
       "      <th>user_enroll</th>\n",
       "      <th>course_drop_rate</th>\n",
       "      <th>dropout_prob</th>\n",
       "    </tr>\n",
       "  </thead>\n",
       "  <tbody>\n",
       "    <tr>\n",
       "      <th>33270</th>\n",
       "      <td>33271</td>\n",
       "      <td>2013-11-28</td>\n",
       "      <td>2013-12-08</td>\n",
       "      <td>58</td>\n",
       "      <td>1</td>\n",
       "      <td>5</td>\n",
       "      <td>25</td>\n",
       "      <td>40</td>\n",
       "      <td>33</td>\n",
       "      <td>0</td>\n",
       "      <td>...</td>\n",
       "      <td>0</td>\n",
       "      <td>1</td>\n",
       "      <td>1</td>\n",
       "      <td>0</td>\n",
       "      <td>1</td>\n",
       "      <td>1</td>\n",
       "      <td>973</td>\n",
       "      <td>2</td>\n",
       "      <td>0.915194</td>\n",
       "      <td>0</td>\n",
       "    </tr>\n",
       "    <tr>\n",
       "      <th>918</th>\n",
       "      <td>919</td>\n",
       "      <td>2014-06-03</td>\n",
       "      <td>2014-06-21</td>\n",
       "      <td>38</td>\n",
       "      <td>0</td>\n",
       "      <td>7</td>\n",
       "      <td>23</td>\n",
       "      <td>10</td>\n",
       "      <td>12</td>\n",
       "      <td>0</td>\n",
       "      <td>...</td>\n",
       "      <td>1</td>\n",
       "      <td>0</td>\n",
       "      <td>1</td>\n",
       "      <td>2</td>\n",
       "      <td>0</td>\n",
       "      <td>0</td>\n",
       "      <td>5890</td>\n",
       "      <td>2</td>\n",
       "      <td>0.728608</td>\n",
       "      <td>0</td>\n",
       "    </tr>\n",
       "    <tr>\n",
       "      <th>32273</th>\n",
       "      <td>32274</td>\n",
       "      <td>2014-05-26</td>\n",
       "      <td>2014-06-23</td>\n",
       "      <td>121</td>\n",
       "      <td>0</td>\n",
       "      <td>20</td>\n",
       "      <td>92</td>\n",
       "      <td>21</td>\n",
       "      <td>37</td>\n",
       "      <td>0</td>\n",
       "      <td>...</td>\n",
       "      <td>2</td>\n",
       "      <td>1</td>\n",
       "      <td>1</td>\n",
       "      <td>3</td>\n",
       "      <td>0</td>\n",
       "      <td>1</td>\n",
       "      <td>2796</td>\n",
       "      <td>1</td>\n",
       "      <td>0.666866</td>\n",
       "      <td>0</td>\n",
       "    </tr>\n",
       "    <tr>\n",
       "      <th>70920</th>\n",
       "      <td>70921</td>\n",
       "      <td>2014-06-01</td>\n",
       "      <td>2014-06-24</td>\n",
       "      <td>99</td>\n",
       "      <td>19</td>\n",
       "      <td>6</td>\n",
       "      <td>89</td>\n",
       "      <td>24</td>\n",
       "      <td>44</td>\n",
       "      <td>0</td>\n",
       "      <td>...</td>\n",
       "      <td>0</td>\n",
       "      <td>2</td>\n",
       "      <td>1</td>\n",
       "      <td>2</td>\n",
       "      <td>1</td>\n",
       "      <td>0</td>\n",
       "      <td>2796</td>\n",
       "      <td>1</td>\n",
       "      <td>0.666866</td>\n",
       "      <td>0</td>\n",
       "    </tr>\n",
       "    <tr>\n",
       "      <th>28101</th>\n",
       "      <td>28102</td>\n",
       "      <td>2014-05-31</td>\n",
       "      <td>2014-06-22</td>\n",
       "      <td>115</td>\n",
       "      <td>66</td>\n",
       "      <td>22</td>\n",
       "      <td>47</td>\n",
       "      <td>42</td>\n",
       "      <td>19</td>\n",
       "      <td>1</td>\n",
       "      <td>...</td>\n",
       "      <td>2</td>\n",
       "      <td>1</td>\n",
       "      <td>1</td>\n",
       "      <td>2</td>\n",
       "      <td>1</td>\n",
       "      <td>0</td>\n",
       "      <td>5890</td>\n",
       "      <td>2</td>\n",
       "      <td>0.728608</td>\n",
       "      <td>0</td>\n",
       "    </tr>\n",
       "    <tr>\n",
       "      <th>...</th>\n",
       "      <td>...</td>\n",
       "      <td>...</td>\n",
       "      <td>...</td>\n",
       "      <td>...</td>\n",
       "      <td>...</td>\n",
       "      <td>...</td>\n",
       "      <td>...</td>\n",
       "      <td>...</td>\n",
       "      <td>...</td>\n",
       "      <td>...</td>\n",
       "      <td>...</td>\n",
       "      <td>...</td>\n",
       "      <td>...</td>\n",
       "      <td>...</td>\n",
       "      <td>...</td>\n",
       "      <td>...</td>\n",
       "      <td>...</td>\n",
       "      <td>...</td>\n",
       "      <td>...</td>\n",
       "      <td>...</td>\n",
       "      <td>...</td>\n",
       "    </tr>\n",
       "    <tr>\n",
       "      <th>729</th>\n",
       "      <td>730</td>\n",
       "      <td>2013-12-17</td>\n",
       "      <td>2014-01-09</td>\n",
       "      <td>83</td>\n",
       "      <td>21</td>\n",
       "      <td>30</td>\n",
       "      <td>37</td>\n",
       "      <td>0</td>\n",
       "      <td>34</td>\n",
       "      <td>3</td>\n",
       "      <td>...</td>\n",
       "      <td>0</td>\n",
       "      <td>1</td>\n",
       "      <td>1</td>\n",
       "      <td>2</td>\n",
       "      <td>3</td>\n",
       "      <td>1</td>\n",
       "      <td>1430</td>\n",
       "      <td>3</td>\n",
       "      <td>0.895417</td>\n",
       "      <td>0</td>\n",
       "    </tr>\n",
       "    <tr>\n",
       "      <th>41975</th>\n",
       "      <td>41976</td>\n",
       "      <td>2014-05-28</td>\n",
       "      <td>2014-06-01</td>\n",
       "      <td>22</td>\n",
       "      <td>3</td>\n",
       "      <td>2</td>\n",
       "      <td>1</td>\n",
       "      <td>0</td>\n",
       "      <td>1</td>\n",
       "      <td>0</td>\n",
       "      <td>...</td>\n",
       "      <td>0</td>\n",
       "      <td>1</td>\n",
       "      <td>0</td>\n",
       "      <td>0</td>\n",
       "      <td>1</td>\n",
       "      <td>0</td>\n",
       "      <td>1038</td>\n",
       "      <td>5</td>\n",
       "      <td>0.797054</td>\n",
       "      <td>0</td>\n",
       "    </tr>\n",
       "    <tr>\n",
       "      <th>61832</th>\n",
       "      <td>61833</td>\n",
       "      <td>2014-06-21</td>\n",
       "      <td>2014-06-21</td>\n",
       "      <td>3</td>\n",
       "      <td>0</td>\n",
       "      <td>2</td>\n",
       "      <td>2</td>\n",
       "      <td>2</td>\n",
       "      <td>1</td>\n",
       "      <td>0</td>\n",
       "      <td>...</td>\n",
       "      <td>1</td>\n",
       "      <td>0</td>\n",
       "      <td>0</td>\n",
       "      <td>0</td>\n",
       "      <td>0</td>\n",
       "      <td>0</td>\n",
       "      <td>8223</td>\n",
       "      <td>1</td>\n",
       "      <td>0.767759</td>\n",
       "      <td>0</td>\n",
       "    </tr>\n",
       "    <tr>\n",
       "      <th>486</th>\n",
       "      <td>487</td>\n",
       "      <td>2013-12-12</td>\n",
       "      <td>2014-01-09</td>\n",
       "      <td>68</td>\n",
       "      <td>71</td>\n",
       "      <td>60</td>\n",
       "      <td>29</td>\n",
       "      <td>0</td>\n",
       "      <td>3</td>\n",
       "      <td>2</td>\n",
       "      <td>...</td>\n",
       "      <td>2</td>\n",
       "      <td>2</td>\n",
       "      <td>4</td>\n",
       "      <td>2</td>\n",
       "      <td>1</td>\n",
       "      <td>1</td>\n",
       "      <td>12004</td>\n",
       "      <td>15</td>\n",
       "      <td>0.768745</td>\n",
       "      <td>0</td>\n",
       "    </tr>\n",
       "    <tr>\n",
       "      <th>55861</th>\n",
       "      <td>55862</td>\n",
       "      <td>2014-05-24</td>\n",
       "      <td>2014-06-18</td>\n",
       "      <td>138</td>\n",
       "      <td>42</td>\n",
       "      <td>33</td>\n",
       "      <td>55</td>\n",
       "      <td>80</td>\n",
       "      <td>55</td>\n",
       "      <td>1</td>\n",
       "      <td>...</td>\n",
       "      <td>2</td>\n",
       "      <td>0</td>\n",
       "      <td>1</td>\n",
       "      <td>0</td>\n",
       "      <td>3</td>\n",
       "      <td>0</td>\n",
       "      <td>4307</td>\n",
       "      <td>4</td>\n",
       "      <td>0.782592</td>\n",
       "      <td>0</td>\n",
       "    </tr>\n",
       "  </tbody>\n",
       "</table>\n",
       "<p>57400 rows × 25 columns</p>\n",
       "</div>"
      ],
      "text/plain": [
       "       enrollment_id  startdate    enddate  access  discussion  navigate  \\\n",
       "33270          33271 2013-11-28 2013-12-08      58           1         5   \n",
       "918              919 2014-06-03 2014-06-21      38           0         7   \n",
       "32273          32274 2014-05-26 2014-06-23     121           0        20   \n",
       "70920          70921 2014-06-01 2014-06-24      99          19         6   \n",
       "28101          28102 2014-05-31 2014-06-22     115          66        22   \n",
       "...              ...        ...        ...     ...         ...       ...   \n",
       "729              730 2013-12-17 2014-01-09      83          21        30   \n",
       "41975          41976 2014-05-28 2014-06-01      22           3         2   \n",
       "61832          61833 2014-06-21 2014-06-21       3           0         2   \n",
       "486              487 2013-12-12 2014-01-09      68          71        60   \n",
       "55861          55862 2014-05-24 2014-06-18     138          42        33   \n",
       "\n",
       "       page_close  problem  video  wiki  ...  Saturday  Sunday  Thursday  \\\n",
       "33270          25       40     33     0  ...         0       1         1   \n",
       "918            23       10     12     0  ...         1       0         1   \n",
       "32273          92       21     37     0  ...         2       1         1   \n",
       "70920          89       24     44     0  ...         0       2         1   \n",
       "28101          47       42     19     1  ...         2       1         1   \n",
       "...           ...      ...    ...   ...  ...       ...     ...       ...   \n",
       "729            37        0     34     3  ...         0       1         1   \n",
       "41975           1        0      1     0  ...         0       1         0   \n",
       "61832           2        2      1     0  ...         1       0         0   \n",
       "486            29        0      3     2  ...         2       2         4   \n",
       "55861          55       80     55     1  ...         2       0         1   \n",
       "\n",
       "       Tuesday  Wednesday  holidays  course_enroll  user_enroll  \\\n",
       "33270        0          1         1            973            2   \n",
       "918          2          0         0           5890            2   \n",
       "32273        3          0         1           2796            1   \n",
       "70920        2          1         0           2796            1   \n",
       "28101        2          1         0           5890            2   \n",
       "...        ...        ...       ...            ...          ...   \n",
       "729          2          3         1           1430            3   \n",
       "41975        0          1         0           1038            5   \n",
       "61832        0          0         0           8223            1   \n",
       "486          2          1         1          12004           15   \n",
       "55861        0          3         0           4307            4   \n",
       "\n",
       "       course_drop_rate  dropout_prob  \n",
       "33270          0.915194             0  \n",
       "918            0.728608             0  \n",
       "32273          0.666866             0  \n",
       "70920          0.666866             0  \n",
       "28101          0.728608             0  \n",
       "...                 ...           ...  \n",
       "729            0.895417             0  \n",
       "41975          0.797054             0  \n",
       "61832          0.767759             0  \n",
       "486            0.768745             0  \n",
       "55861          0.782592             0  \n",
       "\n",
       "[57400 rows x 25 columns]"
      ]
     },
     "execution_count": 27,
     "metadata": {},
     "output_type": "execute_result"
    }
   ],
   "source": [
    "dropout_prob_minority_balanced"
   ]
  },
  {
   "cell_type": "code",
   "execution_count": 28,
   "metadata": {},
   "outputs": [],
   "source": [
    "data_balanced = pd.concat([dropout_prob_majority, dropout_prob_minority_balanced])"
   ]
  },
  {
   "cell_type": "code",
   "execution_count": 29,
   "metadata": {},
   "outputs": [
    {
     "data": {
      "text/html": [
       "<div>\n",
       "<style scoped>\n",
       "    .dataframe tbody tr th:only-of-type {\n",
       "        vertical-align: middle;\n",
       "    }\n",
       "\n",
       "    .dataframe tbody tr th {\n",
       "        vertical-align: top;\n",
       "    }\n",
       "\n",
       "    .dataframe thead th {\n",
       "        text-align: right;\n",
       "    }\n",
       "</style>\n",
       "<table border=\"1\" class=\"dataframe\">\n",
       "  <thead>\n",
       "    <tr style=\"text-align: right;\">\n",
       "      <th></th>\n",
       "      <th>enrollment_id</th>\n",
       "      <th>startdate</th>\n",
       "      <th>enddate</th>\n",
       "      <th>access</th>\n",
       "      <th>discussion</th>\n",
       "      <th>navigate</th>\n",
       "      <th>page_close</th>\n",
       "      <th>problem</th>\n",
       "      <th>video</th>\n",
       "      <th>wiki</th>\n",
       "      <th>...</th>\n",
       "      <th>Saturday</th>\n",
       "      <th>Sunday</th>\n",
       "      <th>Thursday</th>\n",
       "      <th>Tuesday</th>\n",
       "      <th>Wednesday</th>\n",
       "      <th>holidays</th>\n",
       "      <th>course_enroll</th>\n",
       "      <th>user_enroll</th>\n",
       "      <th>course_drop_rate</th>\n",
       "      <th>dropout_prob</th>\n",
       "    </tr>\n",
       "  </thead>\n",
       "  <tbody>\n",
       "    <tr>\n",
       "      <th>0</th>\n",
       "      <td>1</td>\n",
       "      <td>2014-05-31</td>\n",
       "      <td>2014-06-01</td>\n",
       "      <td>27</td>\n",
       "      <td>0</td>\n",
       "      <td>8</td>\n",
       "      <td>0</td>\n",
       "      <td>79</td>\n",
       "      <td>0</td>\n",
       "      <td>0</td>\n",
       "      <td>...</td>\n",
       "      <td>1</td>\n",
       "      <td>1</td>\n",
       "      <td>0</td>\n",
       "      <td>0</td>\n",
       "      <td>0</td>\n",
       "      <td>0</td>\n",
       "      <td>4684</td>\n",
       "      <td>1</td>\n",
       "      <td>0.826534</td>\n",
       "      <td>1</td>\n",
       "    </tr>\n",
       "    <tr>\n",
       "      <th>1</th>\n",
       "      <td>2</td>\n",
       "      <td>2014-06-04</td>\n",
       "      <td>2014-06-04</td>\n",
       "      <td>7</td>\n",
       "      <td>4</td>\n",
       "      <td>3</td>\n",
       "      <td>4</td>\n",
       "      <td>0</td>\n",
       "      <td>3</td>\n",
       "      <td>1</td>\n",
       "      <td>...</td>\n",
       "      <td>0</td>\n",
       "      <td>0</td>\n",
       "      <td>0</td>\n",
       "      <td>0</td>\n",
       "      <td>1</td>\n",
       "      <td>0</td>\n",
       "      <td>7775</td>\n",
       "      <td>1</td>\n",
       "      <td>0.836914</td>\n",
       "      <td>1</td>\n",
       "    </tr>\n",
       "    <tr>\n",
       "      <th>3</th>\n",
       "      <td>4</td>\n",
       "      <td>2014-06-12</td>\n",
       "      <td>2014-06-13</td>\n",
       "      <td>54</td>\n",
       "      <td>4</td>\n",
       "      <td>6</td>\n",
       "      <td>46</td>\n",
       "      <td>21</td>\n",
       "      <td>31</td>\n",
       "      <td>1</td>\n",
       "      <td>...</td>\n",
       "      <td>0</td>\n",
       "      <td>0</td>\n",
       "      <td>1</td>\n",
       "      <td>0</td>\n",
       "      <td>0</td>\n",
       "      <td>0</td>\n",
       "      <td>2981</td>\n",
       "      <td>2</td>\n",
       "      <td>0.799671</td>\n",
       "      <td>1</td>\n",
       "    </tr>\n",
       "    <tr>\n",
       "      <th>4</th>\n",
       "      <td>5</td>\n",
       "      <td>2014-07-01</td>\n",
       "      <td>2014-07-01</td>\n",
       "      <td>0</td>\n",
       "      <td>0</td>\n",
       "      <td>2</td>\n",
       "      <td>0</td>\n",
       "      <td>0</td>\n",
       "      <td>0</td>\n",
       "      <td>0</td>\n",
       "      <td>...</td>\n",
       "      <td>0</td>\n",
       "      <td>0</td>\n",
       "      <td>0</td>\n",
       "      <td>1</td>\n",
       "      <td>0</td>\n",
       "      <td>0</td>\n",
       "      <td>10322</td>\n",
       "      <td>1</td>\n",
       "      <td>0.695925</td>\n",
       "      <td>1</td>\n",
       "    </tr>\n",
       "    <tr>\n",
       "      <th>5</th>\n",
       "      <td>6</td>\n",
       "      <td>2014-07-16</td>\n",
       "      <td>2014-07-16</td>\n",
       "      <td>0</td>\n",
       "      <td>0</td>\n",
       "      <td>1</td>\n",
       "      <td>0</td>\n",
       "      <td>0</td>\n",
       "      <td>0</td>\n",
       "      <td>0</td>\n",
       "      <td>...</td>\n",
       "      <td>0</td>\n",
       "      <td>0</td>\n",
       "      <td>0</td>\n",
       "      <td>0</td>\n",
       "      <td>1</td>\n",
       "      <td>0</td>\n",
       "      <td>1481</td>\n",
       "      <td>2</td>\n",
       "      <td>0.823991</td>\n",
       "      <td>1</td>\n",
       "    </tr>\n",
       "  </tbody>\n",
       "</table>\n",
       "<p>5 rows × 25 columns</p>\n",
       "</div>"
      ],
      "text/plain": [
       "   enrollment_id  startdate    enddate  access  discussion  navigate  \\\n",
       "0              1 2014-05-31 2014-06-01      27           0         8   \n",
       "1              2 2014-06-04 2014-06-04       7           4         3   \n",
       "3              4 2014-06-12 2014-06-13      54           4         6   \n",
       "4              5 2014-07-01 2014-07-01       0           0         2   \n",
       "5              6 2014-07-16 2014-07-16       0           0         1   \n",
       "\n",
       "   page_close  problem  video  wiki  ...  Saturday  Sunday  Thursday  Tuesday  \\\n",
       "0           0       79      0     0  ...         1       1         0        0   \n",
       "1           4        0      3     1  ...         0       0         0        0   \n",
       "3          46       21     31     1  ...         0       0         1        0   \n",
       "4           0        0      0     0  ...         0       0         0        1   \n",
       "5           0        0      0     0  ...         0       0         0        0   \n",
       "\n",
       "   Wednesday  holidays  course_enroll  user_enroll  course_drop_rate  \\\n",
       "0          0         0           4684            1          0.826534   \n",
       "1          1         0           7775            1          0.836914   \n",
       "3          0         0           2981            2          0.799671   \n",
       "4          0         0          10322            1          0.695925   \n",
       "5          1         0           1481            2          0.823991   \n",
       "\n",
       "   dropout_prob  \n",
       "0             1  \n",
       "1             1  \n",
       "3             1  \n",
       "4             1  \n",
       "5             1  \n",
       "\n",
       "[5 rows x 25 columns]"
      ]
     },
     "execution_count": 29,
     "metadata": {},
     "output_type": "execute_result"
    }
   ],
   "source": [
    "data_balanced.head()"
   ]
  },
  {
   "cell_type": "code",
   "execution_count": 30,
   "metadata": {},
   "outputs": [
    {
     "data": {
      "text/plain": [
       "(114800, 25)"
      ]
     },
     "execution_count": 30,
     "metadata": {},
     "output_type": "execute_result"
    }
   ],
   "source": [
    "data_balanced.shape"
   ]
  },
  {
   "cell_type": "code",
   "execution_count": 31,
   "metadata": {},
   "outputs": [],
   "source": [
    "# using PCA for component analysis"
   ]
  },
  {
   "cell_type": "code",
   "execution_count": 32,
   "metadata": {},
   "outputs": [],
   "source": [
    "from sklearn.decomposition import PCA\n",
    "from sklearn.model_selection import train_test_split"
   ]
  },
  {
   "cell_type": "code",
   "execution_count": 62,
   "metadata": {},
   "outputs": [],
   "source": [
    "X = data_balanced.drop(['dropout_prob', 'enrollment_id'], axis=1)"
   ]
  },
  {
   "cell_type": "code",
   "execution_count": 63,
   "metadata": {},
   "outputs": [],
   "source": [
    "y = data_balanced['dropout_prob']"
   ]
  },
  {
   "cell_type": "code",
   "execution_count": null,
   "metadata": {},
   "outputs": [],
   "source": []
  },
  {
   "cell_type": "code",
   "execution_count": 64,
   "metadata": {},
   "outputs": [],
   "source": [
    "X['startdate'] = X['startdate'].map(datetime.datetime.toordinal)"
   ]
  },
  {
   "cell_type": "code",
   "execution_count": 65,
   "metadata": {},
   "outputs": [],
   "source": [
    "X['enddate'] = X['enddate'].map(datetime.datetime.toordinal)"
   ]
  },
  {
   "cell_type": "code",
   "execution_count": 66,
   "metadata": {},
   "outputs": [
    {
     "data": {
      "text/html": [
       "<div>\n",
       "<style scoped>\n",
       "    .dataframe tbody tr th:only-of-type {\n",
       "        vertical-align: middle;\n",
       "    }\n",
       "\n",
       "    .dataframe tbody tr th {\n",
       "        vertical-align: top;\n",
       "    }\n",
       "\n",
       "    .dataframe thead th {\n",
       "        text-align: right;\n",
       "    }\n",
       "</style>\n",
       "<table border=\"1\" class=\"dataframe\">\n",
       "  <thead>\n",
       "    <tr style=\"text-align: right;\">\n",
       "      <th></th>\n",
       "      <th>startdate</th>\n",
       "      <th>enddate</th>\n",
       "      <th>access</th>\n",
       "      <th>discussion</th>\n",
       "      <th>navigate</th>\n",
       "      <th>page_close</th>\n",
       "      <th>problem</th>\n",
       "      <th>video</th>\n",
       "      <th>wiki</th>\n",
       "      <th>proccess_period</th>\n",
       "      <th>...</th>\n",
       "      <th>Monday</th>\n",
       "      <th>Saturday</th>\n",
       "      <th>Sunday</th>\n",
       "      <th>Thursday</th>\n",
       "      <th>Tuesday</th>\n",
       "      <th>Wednesday</th>\n",
       "      <th>holidays</th>\n",
       "      <th>course_enroll</th>\n",
       "      <th>user_enroll</th>\n",
       "      <th>course_drop_rate</th>\n",
       "    </tr>\n",
       "  </thead>\n",
       "  <tbody>\n",
       "    <tr>\n",
       "      <th>0</th>\n",
       "      <td>735384</td>\n",
       "      <td>735385</td>\n",
       "      <td>27</td>\n",
       "      <td>0</td>\n",
       "      <td>8</td>\n",
       "      <td>0</td>\n",
       "      <td>79</td>\n",
       "      <td>0</td>\n",
       "      <td>0</td>\n",
       "      <td>1.053588</td>\n",
       "      <td>...</td>\n",
       "      <td>0</td>\n",
       "      <td>1</td>\n",
       "      <td>1</td>\n",
       "      <td>0</td>\n",
       "      <td>0</td>\n",
       "      <td>0</td>\n",
       "      <td>0</td>\n",
       "      <td>4684</td>\n",
       "      <td>1</td>\n",
       "      <td>0.826534</td>\n",
       "    </tr>\n",
       "    <tr>\n",
       "      <th>1</th>\n",
       "      <td>735388</td>\n",
       "      <td>735388</td>\n",
       "      <td>7</td>\n",
       "      <td>4</td>\n",
       "      <td>3</td>\n",
       "      <td>4</td>\n",
       "      <td>0</td>\n",
       "      <td>3</td>\n",
       "      <td>1</td>\n",
       "      <td>0.016782</td>\n",
       "      <td>...</td>\n",
       "      <td>0</td>\n",
       "      <td>0</td>\n",
       "      <td>0</td>\n",
       "      <td>0</td>\n",
       "      <td>0</td>\n",
       "      <td>1</td>\n",
       "      <td>0</td>\n",
       "      <td>7775</td>\n",
       "      <td>1</td>\n",
       "      <td>0.836914</td>\n",
       "    </tr>\n",
       "    <tr>\n",
       "      <th>3</th>\n",
       "      <td>735396</td>\n",
       "      <td>735397</td>\n",
       "      <td>54</td>\n",
       "      <td>4</td>\n",
       "      <td>6</td>\n",
       "      <td>46</td>\n",
       "      <td>21</td>\n",
       "      <td>31</td>\n",
       "      <td>1</td>\n",
       "      <td>0.766829</td>\n",
       "      <td>...</td>\n",
       "      <td>0</td>\n",
       "      <td>0</td>\n",
       "      <td>0</td>\n",
       "      <td>1</td>\n",
       "      <td>0</td>\n",
       "      <td>0</td>\n",
       "      <td>0</td>\n",
       "      <td>2981</td>\n",
       "      <td>2</td>\n",
       "      <td>0.799671</td>\n",
       "    </tr>\n",
       "    <tr>\n",
       "      <th>4</th>\n",
       "      <td>735415</td>\n",
       "      <td>735415</td>\n",
       "      <td>0</td>\n",
       "      <td>0</td>\n",
       "      <td>2</td>\n",
       "      <td>0</td>\n",
       "      <td>0</td>\n",
       "      <td>0</td>\n",
       "      <td>0</td>\n",
       "      <td>0.000150</td>\n",
       "      <td>...</td>\n",
       "      <td>0</td>\n",
       "      <td>0</td>\n",
       "      <td>0</td>\n",
       "      <td>0</td>\n",
       "      <td>1</td>\n",
       "      <td>0</td>\n",
       "      <td>0</td>\n",
       "      <td>10322</td>\n",
       "      <td>1</td>\n",
       "      <td>0.695925</td>\n",
       "    </tr>\n",
       "    <tr>\n",
       "      <th>5</th>\n",
       "      <td>735430</td>\n",
       "      <td>735430</td>\n",
       "      <td>0</td>\n",
       "      <td>0</td>\n",
       "      <td>1</td>\n",
       "      <td>0</td>\n",
       "      <td>0</td>\n",
       "      <td>0</td>\n",
       "      <td>0</td>\n",
       "      <td>0.000000</td>\n",
       "      <td>...</td>\n",
       "      <td>0</td>\n",
       "      <td>0</td>\n",
       "      <td>0</td>\n",
       "      <td>0</td>\n",
       "      <td>0</td>\n",
       "      <td>1</td>\n",
       "      <td>0</td>\n",
       "      <td>1481</td>\n",
       "      <td>2</td>\n",
       "      <td>0.823991</td>\n",
       "    </tr>\n",
       "  </tbody>\n",
       "</table>\n",
       "<p>5 rows × 23 columns</p>\n",
       "</div>"
      ],
      "text/plain": [
       "   startdate  enddate  access  discussion  navigate  page_close  problem  \\\n",
       "0     735384   735385      27           0         8           0       79   \n",
       "1     735388   735388       7           4         3           4        0   \n",
       "3     735396   735397      54           4         6          46       21   \n",
       "4     735415   735415       0           0         2           0        0   \n",
       "5     735430   735430       0           0         1           0        0   \n",
       "\n",
       "   video  wiki  proccess_period  ...  Monday  Saturday  Sunday  Thursday  \\\n",
       "0      0     0         1.053588  ...       0         1       1         0   \n",
       "1      3     1         0.016782  ...       0         0       0         0   \n",
       "3     31     1         0.766829  ...       0         0       0         1   \n",
       "4      0     0         0.000150  ...       0         0       0         0   \n",
       "5      0     0         0.000000  ...       0         0       0         0   \n",
       "\n",
       "   Tuesday  Wednesday  holidays  course_enroll  user_enroll  course_drop_rate  \n",
       "0        0          0         0           4684            1          0.826534  \n",
       "1        0          1         0           7775            1          0.836914  \n",
       "3        0          0         0           2981            2          0.799671  \n",
       "4        1          0         0          10322            1          0.695925  \n",
       "5        0          1         0           1481            2          0.823991  \n",
       "\n",
       "[5 rows x 23 columns]"
      ]
     },
     "execution_count": 66,
     "metadata": {},
     "output_type": "execute_result"
    }
   ],
   "source": [
    "X.head()"
   ]
  },
  {
   "cell_type": "code",
   "execution_count": 67,
   "metadata": {},
   "outputs": [],
   "source": [
    "from sklearn.preprocessing import StandardScaler"
   ]
  },
  {
   "cell_type": "code",
   "execution_count": 68,
   "metadata": {},
   "outputs": [],
   "source": [
    "st = StandardScaler()"
   ]
  },
  {
   "cell_type": "code",
   "execution_count": 69,
   "metadata": {},
   "outputs": [],
   "source": [
    "X = st.fit_transform(X)"
   ]
  },
  {
   "cell_type": "code",
   "execution_count": 70,
   "metadata": {},
   "outputs": [
    {
     "data": {
      "text/plain": [
       "array([[ 0.63350204,  0.54178329, -0.22734818, ..., -0.32607143,\n",
       "        -0.62535642,  0.60988128],\n",
       "       [ 0.67860019,  0.57569367, -0.5002636 , ...,  0.50791735,\n",
       "        -0.62535642,  0.7661997 ],\n",
       "       [ 0.76879649,  0.67742481,  0.14108765, ..., -0.78556121,\n",
       "        -0.24271438,  0.20533745],\n",
       "       ...,\n",
       "       [ 0.87026733,  0.76785249, -0.55484669, ...,  0.62879312,\n",
       "        -0.62535642, -0.27522747],\n",
       "       [-1.28316938, -1.07461145,  0.33212845, ...,  1.64895216,\n",
       "         4.73163213, -0.26038318],\n",
       "       [ 0.55458027,  0.73394211,  1.28733244, ..., -0.42779054,\n",
       "         0.5225697 , -0.05185386]])"
      ]
     },
     "execution_count": 70,
     "metadata": {},
     "output_type": "execute_result"
    }
   ],
   "source": [
    "X"
   ]
  },
  {
   "cell_type": "code",
   "execution_count": 71,
   "metadata": {},
   "outputs": [],
   "source": [
    "pca = PCA()"
   ]
  },
  {
   "cell_type": "code",
   "execution_count": 72,
   "metadata": {},
   "outputs": [
    {
     "data": {
      "text/plain": [
       "PCA()"
      ]
     },
     "execution_count": 72,
     "metadata": {},
     "output_type": "execute_result"
    }
   ],
   "source": [
    "pca.fit(X)"
   ]
  },
  {
   "cell_type": "code",
   "execution_count": 73,
   "metadata": {},
   "outputs": [
    {
     "data": {
      "text/plain": [
       "array([3.92798940e-01, 9.38888660e-02, 7.05525949e-02, 5.06163662e-02,\n",
       "       4.58269293e-02, 3.98528049e-02, 3.39573845e-02, 3.33370023e-02,\n",
       "       3.14155182e-02, 3.07060235e-02, 2.49546140e-02, 2.35220035e-02,\n",
       "       2.20246220e-02, 2.11498088e-02, 2.01971996e-02, 1.60121172e-02,\n",
       "       1.45063565e-02, 1.16384528e-02, 8.74129592e-03, 7.99436648e-03,\n",
       "       6.30661349e-03, 1.19751721e-07, 6.35318308e-33])"
      ]
     },
     "execution_count": 73,
     "metadata": {},
     "output_type": "execute_result"
    }
   ],
   "source": [
    "pca.explained_variance_ratio_"
   ]
  },
  {
   "cell_type": "code",
   "execution_count": 74,
   "metadata": {},
   "outputs": [
    {
     "data": {
      "text/plain": [
       "[<matplotlib.lines.Line2D at 0x1b8a5091430>]"
      ]
     },
     "execution_count": 74,
     "metadata": {},
     "output_type": "execute_result"
    },
    {
     "data": {
      "image/png": "[encoded data removed]",
      "text/plain": [
       "<Figure size 720x720 with 1 Axes>"
      ]
     },
     "metadata": {
      "needs_background": "light"
     },
     "output_type": "display_data"
    }
   ],
   "source": [
    "plt.figure(figsize=(10,10))\n",
    "plt.plot(pca.explained_variance_ratio_.cumsum())"
   ]
  },
  {
   "cell_type": "markdown",
   "metadata": {},
   "source": [
    "# we can see that 19-20 feature can explain our 99% data"
   ]
  },
  {
   "cell_type": "code",
   "execution_count": 75,
   "metadata": {},
   "outputs": [],
   "source": [
    "pca = PCA(n_components=19)"
   ]
  },
  {
   "cell_type": "code",
   "execution_count": 76,
   "metadata": {},
   "outputs": [],
   "source": [
    "X = pca.fit_transform(X)"
   ]
  },
  {
   "cell_type": "code",
   "execution_count": 77,
   "metadata": {},
   "outputs": [
    {
     "data": {
      "text/plain": [
       "array([[-1.30587039,  1.0840723 ,  0.18430143, ...,  0.04845252,\n",
       "         0.14141919, -0.15558417],\n",
       "       [-2.12001313,  0.6185246 , -0.34958528, ..., -0.64115108,\n",
       "        -0.07031144, -0.056455  ],\n",
       "       [-0.62765007,  1.21201861,  0.20188084, ...,  0.17582607,\n",
       "        -0.2131529 , -0.52133431],\n",
       "       ...,\n",
       "       [-2.1745834 ,  0.51612803, -1.20705229, ..., -0.15464071,\n",
       "        -0.061038  , -0.11367449],\n",
       "       [ 6.57854693, -1.23778303,  0.18674201, ..., -0.47284153,\n",
       "         0.83613506, -0.04311479],\n",
       "       [ 3.97974987,  1.33940541,  0.20700167, ...,  0.06223862,\n",
       "        -0.04579106,  0.08640652]])"
      ]
     },
     "execution_count": 77,
     "metadata": {},
     "output_type": "execute_result"
    }
   ],
   "source": [
    "X"
   ]
  },
  {
   "cell_type": "code",
   "execution_count": 82,
   "metadata": {},
   "outputs": [],
   "source": [
    "from sklearn.ensemble import AdaBoostClassifier\n",
    "from sklearn.model_selection import GridSearchCV, KFold"
   ]
  },
  {
   "cell_type": "code",
   "execution_count": 83,
   "metadata": {},
   "outputs": [],
   "source": [
    "from sklearn.tree import DecisionTreeClassifier"
   ]
  },
  {
   "cell_type": "code",
   "execution_count": 84,
   "metadata": {},
   "outputs": [],
   "source": [
    "dt = DecisionTreeClassifier()"
   ]
  },
  {
   "cell_type": "code",
   "execution_count": 85,
   "metadata": {},
   "outputs": [],
   "source": [
    "X_train, X_test, y_train, y_test = train_test_split(X, y, random_state=101, test_size=0.3)"
   ]
  },
  {
   "cell_type": "code",
   "execution_count": 86,
   "metadata": {},
   "outputs": [],
   "source": [
    "fold = KFold(n_splits=10, shuffle=True, random_state=101)"
   ]
  },
  {
   "cell_type": "code",
   "execution_count": 88,
   "metadata": {},
   "outputs": [],
   "source": [
    "ada = AdaBoostClassifier(base_estimator=dt, n_estimators=50)"
   ]
  },
  {
   "cell_type": "code",
   "execution_count": 90,
   "metadata": {},
   "outputs": [
    {
     "data": {
      "text/plain": [
       "AdaBoostClassifier(base_estimator=DecisionTreeClassifier())"
      ]
     },
     "execution_count": 90,
     "metadata": {},
     "output_type": "execute_result"
    }
   ],
   "source": [
    "ada.fit(X_train, y_train)"
   ]
  },
  {
   "cell_type": "code",
   "execution_count": 91,
   "metadata": {},
   "outputs": [],
   "source": [
    "y_pred = ada.predict(X_test)"
   ]
  },
  {
   "cell_type": "code",
   "execution_count": 1,
   "metadata": {},
   "outputs": [],
   "source": [
    "# let use GridSearchCV for hyper param tuning\n",
    "\n"
   ]
  },
  {
   "cell_type": "code",
   "execution_count": null,
   "metadata": {},
   "outputs": [],
   "source": []
  },
  {
   "cell_type": "code",
   "execution_count": 97,
   "metadata": {},
   "outputs": [],
   "source": [
    "param_grid = {'n_estimators': range(1,100,3)}"
   ]
  },
  {
   "cell_type": "code",
   "execution_count": 99,
   "metadata": {},
   "outputs": [
    {
     "data": {
      "text/plain": [
       "{'n_estimators': range(1, 100, 3)}"
      ]
     },
     "execution_count": 99,
     "metadata": {},
     "output_type": "execute_result"
    }
   ],
   "source": [
    "param_grid"
   ]
  },
  {
   "cell_type": "code",
   "execution_count": 100,
   "metadata": {},
   "outputs": [],
   "source": [
    "ada_opt = AdaBoostClassifier(dt)"
   ]
  },
  {
   "cell_type": "code",
   "execution_count": null,
   "metadata": {},
   "outputs": [],
   "source": []
  },
  {
   "cell_type": "code",
   "execution_count": 101,
   "metadata": {},
   "outputs": [],
   "source": [
    "gridSearch_cv = GridSearchCV(ada_opt, param_grid=param_grid, verbose=3, cv=fold, n_jobs=-1, return_train_score=True)"
   ]
  },
  {
   "cell_type": "code",
   "execution_count": 102,
   "metadata": {},
   "outputs": [
    {
     "name": "stdout",
     "output_type": "stream",
     "text": [
      "Fitting 10 folds for each of 33 candidates, totalling 330 fits\n"
     ]
    },
    {
     "name": "stderr",
     "output_type": "stream",
     "text": [
      "[Parallel(n_jobs=-1)]: Using backend LokyBackend with 8 concurrent workers.\n",
      "[Parallel(n_jobs=-1)]: Done  16 tasks      | elapsed:   56.3s\n",
      "[Parallel(n_jobs=-1)]: Done 112 tasks      | elapsed: 18.2min\n",
      "[Parallel(n_jobs=-1)]: Done 272 tasks      | elapsed: 153.4min\n",
      "[Parallel(n_jobs=-1)]: Done 330 out of 330 | elapsed: 221.8min finished\n"
     ]
    },
    {
     "data": {
      "text/plain": [
       "GridSearchCV(cv=KFold(n_splits=10, random_state=101, shuffle=True),\n",
       "             estimator=AdaBoostClassifier(base_estimator=DecisionTreeClassifier()),\n",
       "             n_jobs=-1, param_grid={'n_estimators': range(1, 100, 3)},\n",
       "             return_train_score=True, verbose=3)"
      ]
     },
     "execution_count": 102,
     "metadata": {},
     "output_type": "execute_result"
    }
   ],
   "source": [
    "# gridSearch_cv.fit(X_train, y_train)"
   ]
  },
  {
   "cell_type": "code",
   "execution_count": 103,
   "metadata": {},
   "outputs": [
    {
     "data": {
      "text/plain": [
       "{'n_estimators': 73}"
      ]
     },
     "execution_count": 103,
     "metadata": {},
     "output_type": "execute_result"
    }
   ],
   "source": [
    "gridSearch_cv.best_params_"
   ]
  },
  {
   "cell_type": "code",
   "execution_count": 104,
   "metadata": {},
   "outputs": [
    {
     "data": {
      "text/plain": [
       "0.9309980089596814"
      ]
     },
     "execution_count": 104,
     "metadata": {},
     "output_type": "execute_result"
    }
   ],
   "source": [
    "gridSearch_cv.best_score_ "
   ]
  },
  {
   "cell_type": "code",
   "execution_count": 105,
   "metadata": {},
   "outputs": [],
   "source": [
    "result = pd.DataFrame(gridSearch_cv.cv_results_)"
   ]
  },
  {
   "cell_type": "code",
   "execution_count": 106,
   "metadata": {},
   "outputs": [
    {
     "data": {
      "text/html": [
       "<div>\n",
       "<style scoped>\n",
       "    .dataframe tbody tr th:only-of-type {\n",
       "        vertical-align: middle;\n",
       "    }\n",
       "\n",
       "    .dataframe tbody tr th {\n",
       "        vertical-align: top;\n",
       "    }\n",
       "\n",
       "    .dataframe thead th {\n",
       "        text-align: right;\n",
       "    }\n",
       "</style>\n",
       "<table border=\"1\" class=\"dataframe\">\n",
       "  <thead>\n",
       "    <tr style=\"text-align: right;\">\n",
       "      <th></th>\n",
       "      <th>mean_fit_time</th>\n",
       "      <th>std_fit_time</th>\n",
       "      <th>mean_score_time</th>\n",
       "      <th>std_score_time</th>\n",
       "      <th>param_n_estimators</th>\n",
       "      <th>params</th>\n",
       "      <th>split0_test_score</th>\n",
       "      <th>split1_test_score</th>\n",
       "      <th>split2_test_score</th>\n",
       "      <th>split3_test_score</th>\n",
       "      <th>...</th>\n",
       "      <th>split2_train_score</th>\n",
       "      <th>split3_train_score</th>\n",
       "      <th>split4_train_score</th>\n",
       "      <th>split5_train_score</th>\n",
       "      <th>split6_train_score</th>\n",
       "      <th>split7_train_score</th>\n",
       "      <th>split8_train_score</th>\n",
       "      <th>split9_train_score</th>\n",
       "      <th>mean_train_score</th>\n",
       "      <th>std_train_score</th>\n",
       "    </tr>\n",
       "  </thead>\n",
       "  <tbody>\n",
       "    <tr>\n",
       "      <th>0</th>\n",
       "      <td>8.198321</td>\n",
       "      <td>0.218304</td>\n",
       "      <td>0.017666</td>\n",
       "      <td>0.005305</td>\n",
       "      <td>1</td>\n",
       "      <td>{'n_estimators': 1}</td>\n",
       "      <td>0.884520</td>\n",
       "      <td>0.901319</td>\n",
       "      <td>0.890991</td>\n",
       "      <td>0.899701</td>\n",
       "      <td>...</td>\n",
       "      <td>0.995949</td>\n",
       "      <td>0.996032</td>\n",
       "      <td>0.996004</td>\n",
       "      <td>0.995893</td>\n",
       "      <td>0.995921</td>\n",
       "      <td>0.996004</td>\n",
       "      <td>0.996211</td>\n",
       "      <td>0.996004</td>\n",
       "      <td>0.996003</td>\n",
       "      <td>0.000085</td>\n",
       "    </tr>\n",
       "    <tr>\n",
       "      <th>1</th>\n",
       "      <td>38.214720</td>\n",
       "      <td>6.110639</td>\n",
       "      <td>0.036043</td>\n",
       "      <td>0.003598</td>\n",
       "      <td>4</td>\n",
       "      <td>{'n_estimators': 4}</td>\n",
       "      <td>0.893604</td>\n",
       "      <td>0.907043</td>\n",
       "      <td>0.902812</td>\n",
       "      <td>0.897710</td>\n",
       "      <td>...</td>\n",
       "      <td>0.995949</td>\n",
       "      <td>0.996032</td>\n",
       "      <td>0.996004</td>\n",
       "      <td>0.995893</td>\n",
       "      <td>0.995921</td>\n",
       "      <td>0.996004</td>\n",
       "      <td>0.996211</td>\n",
       "      <td>0.996004</td>\n",
       "      <td>0.996003</td>\n",
       "      <td>0.000085</td>\n",
       "    </tr>\n",
       "    <tr>\n",
       "      <th>2</th>\n",
       "      <td>65.025766</td>\n",
       "      <td>11.171543</td>\n",
       "      <td>0.056742</td>\n",
       "      <td>0.006370</td>\n",
       "      <td>7</td>\n",
       "      <td>{'n_estimators': 7}</td>\n",
       "      <td>0.908039</td>\n",
       "      <td>0.913639</td>\n",
       "      <td>0.913016</td>\n",
       "      <td>0.931309</td>\n",
       "      <td>...</td>\n",
       "      <td>0.995949</td>\n",
       "      <td>0.996032</td>\n",
       "      <td>0.996004</td>\n",
       "      <td>0.995893</td>\n",
       "      <td>0.995921</td>\n",
       "      <td>0.996004</td>\n",
       "      <td>0.996211</td>\n",
       "      <td>0.996004</td>\n",
       "      <td>0.996003</td>\n",
       "      <td>0.000085</td>\n",
       "    </tr>\n",
       "    <tr>\n",
       "      <th>3</th>\n",
       "      <td>83.767488</td>\n",
       "      <td>14.202079</td>\n",
       "      <td>0.076525</td>\n",
       "      <td>0.010468</td>\n",
       "      <td>10</td>\n",
       "      <td>{'n_estimators': 10}</td>\n",
       "      <td>0.906421</td>\n",
       "      <td>0.921354</td>\n",
       "      <td>0.918741</td>\n",
       "      <td>0.931931</td>\n",
       "      <td>...</td>\n",
       "      <td>0.995949</td>\n",
       "      <td>0.996032</td>\n",
       "      <td>0.996004</td>\n",
       "      <td>0.995893</td>\n",
       "      <td>0.995921</td>\n",
       "      <td>0.996004</td>\n",
       "      <td>0.996211</td>\n",
       "      <td>0.996004</td>\n",
       "      <td>0.996003</td>\n",
       "      <td>0.000085</td>\n",
       "    </tr>\n",
       "    <tr>\n",
       "      <th>4</th>\n",
       "      <td>88.852421</td>\n",
       "      <td>24.109870</td>\n",
       "      <td>0.088665</td>\n",
       "      <td>0.014574</td>\n",
       "      <td>13</td>\n",
       "      <td>{'n_estimators': 13}</td>\n",
       "      <td>0.904181</td>\n",
       "      <td>0.919487</td>\n",
       "      <td>0.921229</td>\n",
       "      <td>0.920234</td>\n",
       "      <td>...</td>\n",
       "      <td>0.995949</td>\n",
       "      <td>0.996032</td>\n",
       "      <td>0.996004</td>\n",
       "      <td>0.995893</td>\n",
       "      <td>0.995921</td>\n",
       "      <td>0.996004</td>\n",
       "      <td>0.996211</td>\n",
       "      <td>0.996004</td>\n",
       "      <td>0.996003</td>\n",
       "      <td>0.000085</td>\n",
       "    </tr>\n",
       "  </tbody>\n",
       "</table>\n",
       "<p>5 rows × 31 columns</p>\n",
       "</div>"
      ],
      "text/plain": [
       "   mean_fit_time  std_fit_time  mean_score_time  std_score_time  \\\n",
       "0       8.198321      0.218304         0.017666        0.005305   \n",
       "1      38.214720      6.110639         0.036043        0.003598   \n",
       "2      65.025766     11.171543         0.056742        0.006370   \n",
       "3      83.767488     14.202079         0.076525        0.010468   \n",
       "4      88.852421     24.109870         0.088665        0.014574   \n",
       "\n",
       "  param_n_estimators                params  split0_test_score  \\\n",
       "0                  1   {'n_estimators': 1}           0.884520   \n",
       "1                  4   {'n_estimators': 4}           0.893604   \n",
       "2                  7   {'n_estimators': 7}           0.908039   \n",
       "3                 10  {'n_estimators': 10}           0.906421   \n",
       "4                 13  {'n_estimators': 13}           0.904181   \n",
       "\n",
       "   split1_test_score  split2_test_score  split3_test_score  ...  \\\n",
       "0           0.901319           0.890991           0.899701  ...   \n",
       "1           0.907043           0.902812           0.897710  ...   \n",
       "2           0.913639           0.913016           0.931309  ...   \n",
       "3           0.921354           0.918741           0.931931  ...   \n",
       "4           0.919487           0.921229           0.920234  ...   \n",
       "\n",
       "   split2_train_score  split3_train_score  split4_train_score  \\\n",
       "0            0.995949            0.996032            0.996004   \n",
       "1            0.995949            0.996032            0.996004   \n",
       "2            0.995949            0.996032            0.996004   \n",
       "3            0.995949            0.996032            0.996004   \n",
       "4            0.995949            0.996032            0.996004   \n",
       "\n",
       "   split5_train_score  split6_train_score  split7_train_score  \\\n",
       "0            0.995893            0.995921            0.996004   \n",
       "1            0.995893            0.995921            0.996004   \n",
       "2            0.995893            0.995921            0.996004   \n",
       "3            0.995893            0.995921            0.996004   \n",
       "4            0.995893            0.995921            0.996004   \n",
       "\n",
       "   split8_train_score  split9_train_score  mean_train_score  std_train_score  \n",
       "0            0.996211            0.996004          0.996003         0.000085  \n",
       "1            0.996211            0.996004          0.996003         0.000085  \n",
       "2            0.996211            0.996004          0.996003         0.000085  \n",
       "3            0.996211            0.996004          0.996003         0.000085  \n",
       "4            0.996211            0.996004          0.996003         0.000085  \n",
       "\n",
       "[5 rows x 31 columns]"
      ]
     },
     "execution_count": 106,
     "metadata": {},
     "output_type": "execute_result"
    }
   ],
   "source": [
    "result.head()"
   ]
  },
  {
   "cell_type": "code",
   "execution_count": 141,
   "metadata": {},
   "outputs": [],
   "source": [
    "#Visualise the CV result"
   ]
  },
  {
   "cell_type": "code",
   "execution_count": 107,
   "metadata": {},
   "outputs": [
    {
     "data": {
      "text/plain": [
       "<matplotlib.legend.Legend at 0x1b8a84eaa90>"
      ]
     },
     "execution_count": 107,
     "metadata": {},
     "output_type": "execute_result"
    },
    {
     "data": {
      "image/png": "[encoded data removed]",
      "text/plain": [
       "<Figure size 1440x720 with 1 Axes>"
      ]
     },
     "metadata": {
      "needs_background": "light"
     },
     "output_type": "display_data"
    }
   ],
   "source": [
    "plt.figure(figsize=(20,10))\n",
    "plt.plot(result['param_n_estimators'], result['mean_train_score'], label='training result')\n",
    "plt.plot(result['param_n_estimators'], result['mean_test_score'], label='test result')\n",
    "plt.xlabel('n_estimators')\n",
    "plt.ylabel('score')\n",
    "plt.legend()"
   ]
  },
  {
   "cell_type": "code",
   "execution_count": 139,
   "metadata": {},
   "outputs": [
    {
     "data": {
      "text/plain": [
       "<matplotlib.legend.Legend at 0x22db4864ca0>"
      ]
     },
     "execution_count": 139,
     "metadata": {},
     "output_type": "execute_result"
    },
    {
     "data": {
      "image/png": "[encoded data removed]",
      "text/plain": [
       "<Figure size 1440x720 with 1 Axes>"
      ]
     },
     "metadata": {
      "needs_background": "light"
     },
     "output_type": "display_data"
    }
   ],
   "source": [
    "plt.figure(figsize=(20,10))\n",
    "plt.plot(result['param_min_samples_split'], result['mean_train_score'], label='training result')\n",
    "plt.plot(result['param_min_samples_split'], result['mean_test_score'], label='test result')\n",
    "plt.xlabel('param_min_samples_split')\n",
    "plt.ylabel('score')\n",
    "plt.legend()"
   ]
  },
  {
   "cell_type": "code",
   "execution_count": 108,
   "metadata": {},
   "outputs": [
    {
     "data": {
      "text/plain": [
       "{'n_estimators': 73}"
      ]
     },
     "execution_count": 108,
     "metadata": {},
     "output_type": "execute_result"
    }
   ],
   "source": [
    "gridSearch_cv.best_params_"
   ]
  },
  {
   "cell_type": "code",
   "execution_count": 109,
   "metadata": {},
   "outputs": [],
   "source": [
    "ada_final = AdaBoostClassifier(base_estimator=dt, n_estimators=73)"
   ]
  },
  {
   "cell_type": "code",
   "execution_count": 110,
   "metadata": {},
   "outputs": [
    {
     "data": {
      "text/plain": [
       "AdaBoostClassifier(base_estimator=DecisionTreeClassifier(), n_estimators=73)"
      ]
     },
     "execution_count": 110,
     "metadata": {},
     "output_type": "execute_result"
    }
   ],
   "source": [
    "ada_final.fit(X_train, y_train)"
   ]
  },
  {
   "cell_type": "code",
   "execution_count": 121,
   "metadata": {},
   "outputs": [],
   "source": [
    "y_pred = ada_final.predict(X_test)"
   ]
  },
  {
   "cell_type": "code",
   "execution_count": 122,
   "metadata": {},
   "outputs": [],
   "source": [
    "from sklearn.metrics import confusion_matrix, f1_score, accuracy_score"
   ]
  },
  {
   "cell_type": "code",
   "execution_count": 123,
   "metadata": {},
   "outputs": [
    {
     "name": "stdout",
     "output_type": "stream",
     "text": [
      "[[16529   630]\n",
      " [ 1501 15780]]\n"
     ]
    }
   ],
   "source": [
    "print(confusion_matrix(y_test, y_pred))"
   ]
  },
  {
   "cell_type": "code",
   "execution_count": 124,
   "metadata": {},
   "outputs": [
    {
     "name": "stdout",
     "output_type": "stream",
     "text": [
      "0.9381242740998839\n"
     ]
    }
   ],
   "source": [
    "print(accuracy_score(y_test, y_pred))"
   ]
  },
  {
   "cell_type": "code",
   "execution_count": 125,
   "metadata": {},
   "outputs": [
    {
     "name": "stdout",
     "output_type": "stream",
     "text": [
      "0.9367486865928586\n"
     ]
    }
   ],
   "source": [
    "print(f1_score(y_test, y_pred))"
   ]
  },
  {
   "cell_type": "code",
   "execution_count": 126,
   "metadata": {},
   "outputs": [],
   "source": [
    "y_pred_train = ada_final.predict(X_train)"
   ]
  },
  {
   "cell_type": "code",
   "execution_count": 127,
   "metadata": {},
   "outputs": [
    {
     "name": "stdout",
     "output_type": "stream",
     "text": [
      "0.9959059233449478\n"
     ]
    }
   ],
   "source": [
    "print(accuracy_score(y_train, y_pred_train))"
   ]
  },
  {
   "cell_type": "code",
   "execution_count": 128,
   "metadata": {},
   "outputs": [
    {
     "name": "stdout",
     "output_type": "stream",
     "text": [
      "0.9959045473217731\n"
     ]
    }
   ],
   "source": [
    "print(f1_score(y_train, y_pred_train))"
   ]
  },
  {
   "cell_type": "code",
   "execution_count": 120,
   "metadata": {},
   "outputs": [
    {
     "name": "stdout",
     "output_type": "stream",
     "text": [
      "[[40029   117]\n",
      " [  212 40002]]\n"
     ]
    }
   ],
   "source": [
    "print(confusion_matrix(y_pred_train, y_train))"
   ]
  },
  {
   "cell_type": "code",
   "execution_count": null,
   "metadata": {},
   "outputs": [],
   "source": []
  },
  {
   "cell_type": "code",
   "execution_count": null,
   "metadata": {},
   "outputs": [],
   "source": []
  }
 ],
 "metadata": {
  "kernelspec": {
   "display_name": "Python 3",
   "language": "python",
   "name": "python3"
  },
  "language_info": {
   "codemirror_mode": {
    "name": "ipython",
    "version": 3
   },
   "file_extension": ".py",
   "mimetype": "text/x-python",
   "name": "python",
   "nbconvert_exporter": "python",
   "pygments_lexer": "ipython3",
   "version": "3.8.3"
  }
 },
 "nbformat": 4,
 "nbformat_minor": 4
}
